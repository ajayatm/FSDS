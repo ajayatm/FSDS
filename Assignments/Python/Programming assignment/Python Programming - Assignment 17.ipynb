{
 "cells": [
  {
   "cell_type": "code",
   "execution_count": 6,
   "metadata": {},
   "outputs": [
    {
     "name": "stdout",
     "output_type": "stream",
     "text": [
      "0\n"
     ]
    }
   ],
   "source": [
    "'''Question1. Create a function that takes three arguments a, b, c and returns the sum of the numbers that are evenly divided by c from the range a, b inclusive.\n",
    "Examples\n",
    "evenly_divisible(1, 10, 20) ➞ 0\n",
    "# No number between 1 and 10 can be evenly divided by 20.\n",
    "\n",
    "evenly_divisible(1, 10, 2) ➞ 30\n",
    "# 2 + 4 + 6 + 8 + 10 = 30\n",
    "\n",
    "evenly_divisible(1, 10, 3) ➞ 18\n",
    "# 3 + 6 + 9 = 18'''\n",
    "\n",
    "def sumatobbyc(a,b,c):\n",
    "    return sum(list(x for x in range(a,b+1) if x%c==0))\n",
    "\n",
    "print(sumatobbyc(1,10,20))"
   ]
  },
  {
   "cell_type": "code",
   "execution_count": 7,
   "metadata": {},
   "outputs": [
    {
     "name": "stdout",
     "output_type": "stream",
     "text": [
      "True\n",
      "False\n",
      "True\n"
     ]
    }
   ],
   "source": [
    "#Question2. Create a function that returns True if a given inequality expression is correct and False otherwise.\n",
    "#Examples\n",
    "#correct_signs(\"3 < 7 < 11\") ➞ True\n",
    "#correct_signs(\"13 > 44 > 33 > 1\") ➞ False\n",
    "#correct_signs(\"1 < 2 < 6 < 9 > 3\") ➞ True\n",
    "\n",
    "def correct_signs(string):\n",
    "    a = string.split()\n",
    "    flag = True\n",
    "\n",
    "    for i in range(0,len(a)-1,2):\n",
    "\n",
    "        if a[i+1] == '<':\n",
    "            if int(a[i]) >= int(a[i+2]):flag = False\n",
    "        elif a[i+1] == '>':\n",
    "            if int(a[i]) <= int(a[i+2]):flag = False\n",
    "        elif a[i+1] == '!=':\n",
    "            if int(a[i]) == int(a[i+2]):flag = False\n",
    "        elif a[i+1] == '>=':\n",
    "            if int(a[i]) < int(a[i+2]):flag = False\n",
    "        elif a[i+1] == '<=':\n",
    "            if int(a[i]) > int(a[i+2]):flag = False\n",
    "        elif a[i+1] == '==':\n",
    "            if int(a[i]) != int(a[i+2]):flag = False\n",
    "\n",
    "        if flag == False:\n",
    "            return flag\n",
    "\n",
    "    return flag\n",
    "\n",
    "print(correct_signs(\"3 < 7 < 11\"))\n",
    "print(correct_signs(\"13 > 44 > 33 > 1\"))\n",
    "print(correct_signs(\"1 < 2 < 6 < 9 > 3\"))\n"
   ]
  },
  {
   "cell_type": "code",
   "execution_count": 18,
   "metadata": {},
   "outputs": [
    {
     "name": "stdout",
     "output_type": "stream",
     "text": [
      "th# ##rdv#rk\n",
      "m?nn?? m??s?\n",
      "sh*k*sp**r*\n"
     ]
    }
   ],
   "source": [
    "#Question3. Create a function that replaces all the vowels in a string with a specified character.\n",
    "#Examples\n",
    "#replace_vowels(\"the aardvark\", \"#\") ➞ \"th# ##rdv#rk\"\n",
    "#replace_vowels(\"minnie mouse\", \"?\") ➞ \"m?nn?? m??s?\"\n",
    "#replace_vowels(\"shakespeare\", \"*\") ➞ \"sh*k*sp**r*\"\n",
    "\n",
    "def replace_vowels(string, ch):\n",
    "    c = string\n",
    "    for i in string:\n",
    "        if i in ['a','e','i','o','u']:\n",
    "            c = c.replace(i,ch)\n",
    "    return c\n",
    "\n",
    "print(replace_vowels(\"the aardvark\", \"#\"))\n",
    "print(replace_vowels(\"minnie mouse\", \"?\"))\n",
    "print(replace_vowels(\"shakespeare\", \"*\"))"
   ]
  },
  {
   "cell_type": "code",
   "execution_count": 1,
   "metadata": {},
   "outputs": [
    {
     "name": "stdout",
     "output_type": "stream",
     "text": [
      "120\n",
      "6\n",
      "1\n",
      "1\n"
     ]
    }
   ],
   "source": [
    "#Question4. Write a function that calculates the factorial of a number recursively.\n",
    "#Examples\n",
    "#factorial(5) ➞ 120\n",
    "#factorial(3) ➞ 6\n",
    "#factorial(1) ➞ 1\n",
    "#factorial(0) ➞ 1\n",
    "\n",
    "def factorial(n):\n",
    "    if n <= 1:\n",
    "        return 1\n",
    "    else:\n",
    "        return n * factorial(n-1)\n",
    "\n",
    "print(factorial(5))\n",
    "print(factorial(3))\n",
    "print(factorial(1))\n",
    "print(factorial(0))"
   ]
  },
  {
   "cell_type": "code",
   "execution_count": 5,
   "metadata": {},
   "outputs": [
    {
     "name": "stdout",
     "output_type": "stream",
     "text": [
      "5\n",
      "0\n",
      "1\n",
      "3\n"
     ]
    }
   ],
   "source": [
    "'''Question 5\n",
    "Hamming distance is the number of characters that differ between two strings.\n",
    "To illustrate:\n",
    "String1: \"abcbba\"\n",
    "String2: \"abcbda\"\n",
    "\n",
    "Hamming Distance: 1 - \"b\" vs. \"d\" is the only difference.\n",
    "Create a function that computes the hamming distance between two strings.\n",
    "Examples\n",
    "hamming_distance(\"abcde\", \"bcdef\") ➞ 5\n",
    "hamming_distance(\"abcde\", \"abcde\") ➞ 0\n",
    "hamming_distance(\"strong\", \"strung\") ➞ 1'''\n",
    "\n",
    "def hamming_distance(a, b):\n",
    "    c = len(a)\n",
    "    d = len(b)\n",
    "    if c > d:\n",
    "        a,b = b,a\n",
    "        c,d = d,c\n",
    "\n",
    "    k = 0\n",
    "    for i in range(len(a)):\n",
    "        if a[i] != b[i]:\n",
    "            k += 1\n",
    "    k += d - i - 1\n",
    "\n",
    "    return k\n",
    "\n",
    "print(hamming_distance(\"abcde\", \"bcdef\"))\n",
    "print(hamming_distance(\"abcde\", \"abcde\"))\n",
    "print(hamming_distance(\"strong\", \"strung\"))\n",
    "print(hamming_distance(\"abcde\", \"ab\"))"
   ]
  }
 ],
 "metadata": {
  "kernelspec": {
   "display_name": "Python 3.10.7 64-bit",
   "language": "python",
   "name": "python3"
  },
  "language_info": {
   "codemirror_mode": {
    "name": "ipython",
    "version": 3
   },
   "file_extension": ".py",
   "mimetype": "text/x-python",
   "name": "python",
   "nbconvert_exporter": "python",
   "pygments_lexer": "ipython3",
   "version": "3.10.7"
  },
  "orig_nbformat": 4,
  "vscode": {
   "interpreter": {
    "hash": "26de051ba29f2982a8de78e945f0abaf191376122a1563185a90213a26c5da77"
   }
  }
 },
 "nbformat": 4,
 "nbformat_minor": 2
}
