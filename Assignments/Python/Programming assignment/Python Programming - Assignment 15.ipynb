{
 "cells": [
  {
   "cell_type": "code",
   "execution_count": 43,
   "metadata": {},
   "outputs": [
    {
     "name": "stdout",
     "output_type": "stream",
     "text": [
      "[0]\n"
     ]
    }
   ],
   "source": [
    "#Question 1:\n",
    "# Please write a program using generator to print the numbers which can be divisible by 5 and 7 between 0 and n in comma separated form while n is input by console.\n",
    "# #Example: If the following n is given as input to the program: 100. Then, the output of the program should be: 0,35,70\n",
    "\n",
    "def getby5and7(n):\n",
    "    for i in range(n+1):\n",
    "        if i%5==0 and i%7==0: yield i\n",
    "\n",
    "try:\n",
    "    m = int(input('Please enter a number:'))\n",
    "    b = []\n",
    "    for i in getby5and7(m):\n",
    "        b.append(i)\n",
    "    print(b)\n",
    "except Exception as msg:\n",
    "    print(msg)\n"
   ]
  },
  {
   "cell_type": "code",
   "execution_count": 40,
   "metadata": {},
   "outputs": [
    {
     "name": "stdout",
     "output_type": "stream",
     "text": [
      "[0, 2, 4, 6, 8, 10, 12, 14, 16, 18, 20, 22, 24, 26, 28, 30, 32, 34, 36, 38, 40, 42, 44, 46, 48, 50, 52, 54, 56, 58, 60, 62, 64, 66, 68, 70, 72, 74, 76, 78, 80, 82, 84, 86, 88, 90, 92, 94, 96, 98, 100]\n"
     ]
    }
   ],
   "source": [
    "#Question 2:\n",
    "#Please write a program using generator to print the even numbers between 0 and n in comma separated form while n is input by console.\n",
    "#Example: If the following n is given as input to the program:10\n",
    "#Then, the output of the program should be:0,2,4,6,8,10\n",
    "\n",
    "def geteven(n):\n",
    "    for i in range(n+1):\n",
    "        if i%2==0: yield i\n",
    "\n",
    "try:\n",
    "    m = int(input('Please enter a number:'))\n",
    "    b = []\n",
    "    for j in geteven(m):\n",
    "        b.append(j)\n",
    "    print(b)\n",
    "except Exception as msg:\n",
    "    print(msg)"
   ]
  },
  {
   "cell_type": "code",
   "execution_count": 38,
   "metadata": {},
   "outputs": [
    {
     "name": "stdout",
     "output_type": "stream",
     "text": [
      "[0, 1, 1, 2, 3, 5, 8, 13, 21, 34, 55]\n"
     ]
    }
   ],
   "source": [
    "#Question 3:\n",
    "#The Fibonacci Sequence is computed based on the following formula: f(n)=0 if n=0, f(n)=1 if n=1, f(n)=f(n-1)+f(n-2) if n>1\n",
    "#Please write a program using list comprehension to print the Fibonacci Sequence in comma separated form with a given n input by console.\n",
    "#Example: If the following n is given as input to the program: 7\n",
    "#Then, the output of the program should be: 0,1,1,2,3,5,8,13\n",
    "\n",
    "def getfib(n):\n",
    "    b = [0,1]\n",
    "    [b.append(b[-1]+b[-2]) for x in range(2,n+1)]\n",
    "    return b\n",
    "\n",
    "try:\n",
    "    m = int(input('Please enter a number:'))\n",
    "    print(getfib(m))\n",
    "except Exception as msg:\n",
    "    print(msg)"
   ]
  },
  {
   "cell_type": "code",
   "execution_count": 2,
   "metadata": {},
   "outputs": [
    {
     "name": "stdout",
     "output_type": "stream",
     "text": [
      "['username', 'john']\n"
     ]
    }
   ],
   "source": [
    "#Question 4:\n",
    "#Assuming that we have some email addresses in the \"username@companyname.com\" format, please write program to print the user name of a given email address. \n",
    "#Both user names and company names are composed of letters only.\n",
    "#Example: If the following email address is given as input to the program:john@google.com\n",
    "#Then, the output of the program should be:john\n",
    "\n",
    "def getusername(emailist):\n",
    "    username = []\n",
    "    for i in emailist:\n",
    "        for j in range(len(i)):\n",
    "            if i[j] == '@':\n",
    "                username.append(i[:j])\n",
    "    return username\n",
    "\n",
    "emails = ['username@companyname.com','john@google.com']\n",
    "\n",
    "print(getusername(emails))"
   ]
  },
  {
   "cell_type": "code",
   "execution_count": 7,
   "metadata": {},
   "outputs": [],
   "source": [
    "#Question 5:\n",
    "#Define a class named Shape and its subclass Square. The Square class has an init function which takes a length as argument. \n",
    "#Both classes have a area function which can print the area of the shape where Shape's area is 0 by default.\n",
    "\n",
    "class Shape:\n",
    "\n",
    "    def area(self):\n",
    "        print('area = 0')\n",
    "\n",
    "    class Square:\n",
    "        def __init__(self, length) -> None:\n",
    "            self.length = length\n",
    "\n",
    "        def area(self):\n",
    "            print('area =', self.length**2)\n",
    "\n",
    "\n",
    "    "
   ]
  }
 ],
 "metadata": {
  "kernelspec": {
   "display_name": "Python 3.10.7 64-bit",
   "language": "python",
   "name": "python3"
  },
  "language_info": {
   "codemirror_mode": {
    "name": "ipython",
    "version": 3
   },
   "file_extension": ".py",
   "mimetype": "text/x-python",
   "name": "python",
   "nbconvert_exporter": "python",
   "pygments_lexer": "ipython3",
   "version": "3.10.7"
  },
  "orig_nbformat": 4,
  "vscode": {
   "interpreter": {
    "hash": "26de051ba29f2982a8de78e945f0abaf191376122a1563185a90213a26c5da77"
   }
  }
 },
 "nbformat": 4,
 "nbformat_minor": 2
}
