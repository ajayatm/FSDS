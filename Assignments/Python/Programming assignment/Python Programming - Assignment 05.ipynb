{
 "cells": [
  {
   "cell_type": "code",
   "execution_count": 24,
   "metadata": {},
   "outputs": [
    {
     "name": "stdout",
     "output_type": "stream",
     "text": [
      "72\n"
     ]
    }
   ],
   "source": [
    "#1.\tWrite a Python Program to Find LCM?\n",
    "\n",
    "def find_lcm(a:int, b:int):\n",
    "    if a > b:\n",
    "        x = a\n",
    "        y = b \n",
    "    else:\n",
    "        x = b\n",
    "        y = a    \n",
    "    \n",
    "    rem = y\n",
    "      \n",
    "    while rem > 0:\n",
    "        hcf = rem\n",
    "        rem = x%y\n",
    "        x = y\n",
    "        y = rem\n",
    "    \n",
    "    lcm = int(a*b/hcf)\n",
    "    print(lcm)\n",
    "\n",
    "\n",
    "find_lcm(18, 24)\n"
   ]
  },
  {
   "cell_type": "code",
   "execution_count": 26,
   "metadata": {},
   "outputs": [
    {
     "name": "stdout",
     "output_type": "stream",
     "text": [
      "6\n",
      "None\n"
     ]
    }
   ],
   "source": [
    "#2.\tWrite a Python Program to Find HCF?\n",
    "\n",
    "def find_hcf(a:int, b:int):\n",
    "    if a > b:\n",
    "        x = a\n",
    "        y = b \n",
    "    else:\n",
    "        x = b\n",
    "        y = a    \n",
    "    \n",
    "    rem = y\n",
    "      \n",
    "    while rem > 0:\n",
    "        hcf = rem\n",
    "        rem = x%y\n",
    "        x = y\n",
    "        y = rem\n",
    "    \n",
    "    print(hcf)\n",
    "\n",
    "\n",
    "print(find_hcf(18, 24))\n"
   ]
  },
  {
   "cell_type": "code",
   "execution_count": 28,
   "metadata": {},
   "outputs": [
    {
     "name": "stdout",
     "output_type": "stream",
     "text": [
      "0b100110110001011101111100011110110001000010011\n",
      "0o466135743661023\n",
      "0x1362ef8f6213\n"
     ]
    }
   ],
   "source": [
    "#3.\tWrite a Python Program to Convert Decimal to Binary, Octal and Hexadecimal?\n",
    "\n",
    "def convert_num(num):\n",
    "    print(bin(num))\n",
    "    print(oct(num))\n",
    "    print(hex(num))\n",
    "\n",
    "convert_num(21315646874131)"
   ]
  },
  {
   "cell_type": "code",
   "execution_count": 35,
   "metadata": {},
   "outputs": [
    {
     "name": "stdout",
     "output_type": "stream",
     "text": [
      "99\n"
     ]
    }
   ],
   "source": [
    "#4.\tWrite a Python Program To Find ASCII value of a character?\n",
    "\n",
    "def get_ascii(char):\n",
    "    print(ord(char))\n",
    "\n",
    "get_ascii('c')"
   ]
  },
  {
   "cell_type": "code",
   "execution_count": 31,
   "metadata": {},
   "outputs": [
    {
     "name": "stdout",
     "output_type": "stream",
     "text": [
      "Calculator provides following options:\n",
      "1. Add two numbers\n",
      "2. Substract two numbers\n",
      "3. Multiply two numbers\n",
      "4. Divide two numbers\n",
      "Division of operands: 4.0 by 4.0 is 1.0\n"
     ]
    }
   ],
   "source": [
    "#5.\tWrite a Python Program to Make a Simple Calculator with 4 basic mathematical operations?\n",
    "\n",
    "def calculator_welcome():\n",
    "    print('Calculator provides following options:')\n",
    "    print('1. Add two numbers')\n",
    "    print('2. Substract two numbers')\n",
    "    print('3. Multiply two numbers')\n",
    "    print('4. Divide two numbers')\n",
    "    return None\n",
    "\n",
    "def get_option():\n",
    "    try:\n",
    "        a = int(input('Please select an option: '))\n",
    "        if a < 1 or a > 4:\n",
    "            print('Invalid option, please try again')\n",
    "            get_option()\n",
    "        return a\n",
    "    except:\n",
    "        print('Invalid option, please try again')\n",
    "        b = get_option()\n",
    "        return b\n",
    "\n",
    "def get_first_operand():\n",
    "    try:\n",
    "        a = float(input('Please select first operand: '))\n",
    "        return a\n",
    "    except:\n",
    "        print('Invalid first operand, please try again')\n",
    "        c = get_first_operand()\n",
    "        return c\n",
    "\n",
    "def get_second_operand(option):\n",
    "    try:\n",
    "        b = float(input('Please select second operand: '))\n",
    "        if option == 4 and b == 0:\n",
    "            print('Division by zero not allowed')\n",
    "            c = get_second_operand(option)\n",
    "            return c\n",
    "        return b\n",
    "    except:\n",
    "        print('Invalid second operand, please try again')\n",
    "        d = get_second_operand(option)\n",
    "        return d\n",
    "\n",
    "def process_calculator():\n",
    "    try:\n",
    "        calculator_welcome()\n",
    "        option = get_option()\n",
    "        x = get_first_operand()\n",
    "        y = get_second_operand(option)\n",
    "        if option == 1:\n",
    "            print('Sum of operands:', x, 'plus', y, 'is', x + y)\n",
    "        if option == 2:\n",
    "            print('Difference of operands:', x, 'minus', y, 'is', x - y)\n",
    "        if option == 3:\n",
    "            print('Product of operands:', x, 'times', y, 'is', x*y)\n",
    "        if option == 4:\n",
    "            print('Division of operands:', x, 'by', y, 'is', x/y)\n",
    "    except Exception as msg:\n",
    "        print(msg)\n",
    "\n",
    "\n",
    "process_calculator()"
   ]
  }
 ],
 "metadata": {
  "kernelspec": {
   "display_name": "Python 3.10.7 64-bit",
   "language": "python",
   "name": "python3"
  },
  "language_info": {
   "codemirror_mode": {
    "name": "ipython",
    "version": 3
   },
   "file_extension": ".py",
   "mimetype": "text/x-python",
   "name": "python",
   "nbconvert_exporter": "python",
   "pygments_lexer": "ipython3",
   "version": "3.10.7"
  },
  "orig_nbformat": 4,
  "vscode": {
   "interpreter": {
    "hash": "26de051ba29f2982a8de78e945f0abaf191376122a1563185a90213a26c5da77"
   }
  }
 },
 "nbformat": 4,
 "nbformat_minor": 2
}
