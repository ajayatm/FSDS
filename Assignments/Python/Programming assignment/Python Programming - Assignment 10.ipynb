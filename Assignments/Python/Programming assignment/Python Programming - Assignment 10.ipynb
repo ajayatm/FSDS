{
 "cells": [
  {
   "cell_type": "code",
   "execution_count": 3,
   "metadata": {},
   "outputs": [
    {
     "name": "stdout",
     "output_type": "stream",
     "text": [
      "12432\n"
     ]
    }
   ],
   "source": [
    "#1.\tWrite a Python program to find sum of elements in list?\n",
    "\n",
    "l = [1,654,5,1654,51,654,21,654,651,651,650,651,6135]\n",
    "print(sum(l))"
   ]
  },
  {
   "cell_type": "code",
   "execution_count": 7,
   "metadata": {},
   "outputs": [
    {
     "name": "stdout",
     "output_type": "stream",
     "text": [
      "2725832182797001119314966220000\n"
     ]
    }
   ],
   "source": [
    "#2.\tWrite a Python program to  Multiply all numbers in the list?\n",
    "\n",
    "l = [1,654,5,1654,51,654,21,654,651,651,650,651,6135]\n",
    "product = 1\n",
    "for i in l:\n",
    "    if type(i) == int or type(i) == float:\n",
    "        product *= i\n",
    "print(product)"
   ]
  },
  {
   "cell_type": "code",
   "execution_count": 10,
   "metadata": {},
   "outputs": [
    {
     "name": "stdout",
     "output_type": "stream",
     "text": [
      "6135\n"
     ]
    }
   ],
   "source": [
    "#3.\tWrite a Python program to find smallest number in a list?\n",
    "\n",
    "l = [1,654,5,1654,51,654,21,654,651,651,650,651,6135]\n",
    "print(min(l))"
   ]
  },
  {
   "cell_type": "code",
   "execution_count": null,
   "metadata": {},
   "outputs": [],
   "source": [
    "#4.\tWrite a Python program to find largest number in a list?\n",
    "\n",
    "l = [1,654,5,1654,51,654,21,654,651,651,650,651,6135]\n",
    "print(max(l))"
   ]
  },
  {
   "cell_type": "code",
   "execution_count": 14,
   "metadata": {},
   "outputs": [
    {
     "name": "stdout",
     "output_type": "stream",
     "text": [
      "1654\n"
     ]
    }
   ],
   "source": [
    "#5.\tWrite a Python program to find second largest number in a list?\n",
    "\n",
    "l = [1,654,5,1654,51,654,21,654,651,651,650,651,6135]\n",
    "print(sorted(l)[-2])"
   ]
  },
  {
   "cell_type": "code",
   "execution_count": 17,
   "metadata": {},
   "outputs": [
    {
     "name": "stdout",
     "output_type": "stream",
     "text": [
      "[651, 651, 654, 654, 654, 1654, 6135]\n"
     ]
    }
   ],
   "source": [
    "#6.\tWrite a Python program to find N largest elements from a list?\n",
    "\n",
    "l = [1,654,5,1654,51,654,21,654,651,651,650,651,6135]\n",
    "N = 7\n",
    "print(sorted(l)[-N:])"
   ]
  },
  {
   "cell_type": "code",
   "execution_count": 27,
   "metadata": {},
   "outputs": [
    {
     "name": "stdout",
     "output_type": "stream",
     "text": [
      "[654, 1654, 654, 654, 650]\n"
     ]
    }
   ],
   "source": [
    "#7.\tWrite a Python program to print even numbers in a list?\n",
    "\n",
    "l = [1,654,5,1654,51,654,21,654,651,651,650,651,6135]\n",
    "print(list(filter(lambda x:x%2==0, l)))"
   ]
  },
  {
   "cell_type": "code",
   "execution_count": 28,
   "metadata": {},
   "outputs": [
    {
     "name": "stdout",
     "output_type": "stream",
     "text": [
      "[1, 5, 51, 21, 651, 651, 651, 6135]\n"
     ]
    }
   ],
   "source": [
    "#8.\tWrite a Python program to print odd numbers in a List?\n",
    "\n",
    "l = [1,654,5,1654,51,654,21,654,651,651,650,651,6135]\n",
    "print(list(filter(lambda x:x%2!=0, l)))"
   ]
  },
  {
   "cell_type": "code",
   "execution_count": 39,
   "metadata": {},
   "outputs": [
    {
     "name": "stdout",
     "output_type": "stream",
     "text": [
      "[[1], [2], [3], [4], [5], [6], [7]]\n"
     ]
    }
   ],
   "source": [
    "#9.\tWrite a Python program to Remove empty List from List?\n",
    "\n",
    "l = [[1],[2],[],[3],[4],[],[5],[6],[7]]\n",
    "m = []\n",
    "for i in range(len(l)):\n",
    "    if len(l[i])>0:\n",
    "        m.append(l[i])\n",
    "\n",
    "print(m)\n"
   ]
  },
  {
   "cell_type": "code",
   "execution_count": 42,
   "metadata": {},
   "outputs": [
    {
     "name": "stdout",
     "output_type": "stream",
     "text": [
      "[[1], [2], [], [3], [4], [], [5], [6], [7]]\n",
      "[[1], [2], [], [3], [4], [], [5], [6], [7]]\n",
      "[[[1], [2], [], [3], [4], [], [5], [6], [7]]]\n"
     ]
    }
   ],
   "source": [
    "#10.\tWrite a Python program to Cloning or Copying a list?\n",
    "\n",
    "l = [[1],[2],[],[3],[4],[],[5],[6],[7]]\n",
    "m = l\n",
    "print(m)\n",
    "\n",
    "m= []\n",
    "l = [[1],[2],[],[3],[4],[],[5],[6],[7]]\n",
    "m.extend(l)\n",
    "print(m)"
   ]
  },
  {
   "cell_type": "code",
   "execution_count": 44,
   "metadata": {},
   "outputs": [
    {
     "data": {
      "text/plain": [
       "9"
      ]
     },
     "execution_count": 44,
     "metadata": {},
     "output_type": "execute_result"
    }
   ],
   "source": [
    "#11.\tWrite a Python program to Count occurrences of an element in a list?\n",
    "\n",
    "l = [1,654,5,1654,51,654,21,654,651,651,650,651,6135]\n",
    "l.count(654)\n",
    "\n",
    "l = ['a','a','a','a','a','a','a','a','a']\n",
    "l.count('a')"
   ]
  }
 ],
 "metadata": {
  "kernelspec": {
   "display_name": "Python 3.10.7 64-bit",
   "language": "python",
   "name": "python3"
  },
  "language_info": {
   "codemirror_mode": {
    "name": "ipython",
    "version": 3
   },
   "file_extension": ".py",
   "mimetype": "text/x-python",
   "name": "python",
   "nbconvert_exporter": "python",
   "pygments_lexer": "ipython3",
   "version": "3.10.7"
  },
  "orig_nbformat": 4,
  "vscode": {
   "interpreter": {
    "hash": "26de051ba29f2982a8de78e945f0abaf191376122a1563185a90213a26c5da77"
   }
  }
 },
 "nbformat": 4,
 "nbformat_minor": 2
}
