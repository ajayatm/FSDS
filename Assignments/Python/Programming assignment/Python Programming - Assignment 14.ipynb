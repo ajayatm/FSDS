{
 "cells": [
  {
   "cell_type": "code",
   "execution_count": 7,
   "metadata": {},
   "outputs": [
    {
     "name": "stdout",
     "output_type": "stream",
     "text": [
      "0\n",
      "7\n",
      "14\n",
      "21\n",
      "28\n",
      "35\n",
      "42\n",
      "49\n",
      "56\n",
      "63\n",
      "70\n",
      "77\n",
      "84\n",
      "91\n",
      "98\n"
     ]
    }
   ],
   "source": [
    "#Question 1:\n",
    "#Define a class with a generator which can iterate the numbers, which are divisible by 7, between a given range 0 and n.\n",
    "\n",
    "class div7generator:\n",
    "    def modseven(n):\n",
    "        for i in range(n):\n",
    "            if i%7 == 0:\n",
    "                yield i\n",
    "\n",
    "    for j in modseven(100):\n",
    "        print(j)"
   ]
  },
  {
   "cell_type": "code",
   "execution_count": 13,
   "metadata": {},
   "outputs": [
    {
     "name": "stdout",
     "output_type": "stream",
     "text": [
      "2 : 2\n",
      "3. : 1\n",
      "3? : 1\n",
      "New : 1\n",
      "Python : 5\n",
      "Read : 1\n",
      "and : 1\n",
      "between : 1\n",
      "choosing : 1\n",
      "or : 2\n",
      "to : 1\n"
     ]
    }
   ],
   "source": [
    "'''Question 2:\n",
    "Write a program to compute the frequency of the words from the input. The output should output after sorting the key alphanumerically. \n",
    "Suppose the following input is supplied to the program:\n",
    "New to Python or choosing between Python 2 and Python 3? Read Python 2 or Python 3.\n",
    "Then, the output should be:\n",
    "2:2\n",
    "3.:1\n",
    "3?:1\n",
    "New:1\n",
    "Python:5\n",
    "Read:1\n",
    "and:1\n",
    "between:1\n",
    "choosing:1\n",
    "or:2\n",
    "to:1'''\n",
    "\n",
    "a = 'New to Python or choosing between Python 2 and Python 3? Read Python 2 or Python 3.'\n",
    "b = a.split()\n",
    "c = set(b)\n",
    "d = list(c)\n",
    "d.sort()\n",
    "for i in d:\n",
    "    print(i, ':', b.count(i))"
   ]
  },
  {
   "cell_type": "code",
   "execution_count": 29,
   "metadata": {},
   "outputs": [
    {
     "name": "stdout",
     "output_type": "stream",
     "text": [
      "Male\n",
      "Female\n"
     ]
    }
   ],
   "source": [
    "#Question 3:\n",
    "#Define a class Person and its two child classes: Male and Female. All classes have a method \"getGender\" which can print \"Male\" for Male class and \"Female\" for Female class.\n",
    "\n",
    "class Person:\n",
    "\n",
    "    class Male:\n",
    "        def getGender():\n",
    "            print('Male')\n",
    "    \n",
    "    class Female:\n",
    "        def getGender():\n",
    "            print('Female')\n",
    "\n",
    "Person.Male.getGender()\n",
    "Person.Female.getGender()"
   ]
  },
  {
   "cell_type": "code",
   "execution_count": 18,
   "metadata": {},
   "outputs": [
    {
     "name": "stdout",
     "output_type": "stream",
     "text": [
      "I Play Hockey\n",
      "I Play Football\n",
      "I Love Hockey\n",
      "I Love Football\n",
      "You Play Hockey\n",
      "You Play Football\n",
      "You Love Hockey\n",
      "You Love Football\n"
     ]
    }
   ],
   "source": [
    "#Question 4:\n",
    "#Please write a program to generate all sentences where subject is in [\"I\", \"You\"] and verb is in [\"Play\", \"Love\"] and the object is in [\"Hockey\",\"Football\"].\n",
    "\n",
    "def get_sentences():\n",
    "    a = [\"I\", \"You\"]\n",
    "    b = [\"Play\", \"Love\"]\n",
    "    c = [\"Hockey\",\"Football\"]\n",
    "    for i in a:\n",
    "        for j in b:\n",
    "            for k in c:\n",
    "                e = i + ' ' + j + ' ' + k\n",
    "                print(e)\n",
    "\n",
    "get_sentences()"
   ]
  },
  {
   "cell_type": "code",
   "execution_count": 25,
   "metadata": {},
   "outputs": [
    {
     "name": "stdout",
     "output_type": "stream",
     "text": [
      "b'\\x1f\\x8b\\x08\\x00\\xa0\\x11/c\\x02\\xff\\xcbH\\xcd\\xc9\\xc9W(\\xcf/\\xcaIQ\\xcc \\x82\\r\\x00\\xd3\\xe6\\xcf\\xae0\\x00\\x00\\x00'\n",
      "b'hello world!hello world!hello world!hello world!'\n",
      "b'x\\x9c\\xcbH\\xcd\\xc9\\xc9W(\\xcf/\\xcaIQ\\xcc \\x82\\r\\x00\\xbd[\\x11\\xf5'\n",
      "b'hello world!hello world!hello world!hello world!'\n"
     ]
    }
   ],
   "source": [
    "#Question 5:\n",
    "#Please write a program to compress and decompress the string \"hello world!hello world!hello world!hello world!\".\n",
    "import gzip, zlib\n",
    "\n",
    "string = b'hello world!hello world!hello world!hello world!'\n",
    "c = gzip.compress(string)\n",
    "d = gzip.decompress(c)\n",
    "print(c)\n",
    "print(d)\n",
    "\n",
    "c = zlib.compress(string)\n",
    "d = zlib.decompress(c)\n",
    "print(c)\n",
    "print(d)\n"
   ]
  },
  {
   "cell_type": "code",
   "execution_count": 12,
   "metadata": {},
   "outputs": [
    {
     "name": "stdout",
     "output_type": "stream",
     "text": [
      "0\n",
      "1\n",
      "2\n",
      "3\n",
      "4\n",
      "5\n",
      "6\n",
      "7\n",
      "8\n",
      "9\n",
      "Not found\n",
      "0\n",
      "1\n",
      "2\n",
      "3\n",
      "4\n",
      "5\n",
      "6\n",
      "7\n",
      "8\n",
      "9\n",
      "10\n",
      "Not found\n"
     ]
    }
   ],
   "source": [
    "#Question 6:\n",
    "#Please write a binary search function which searches an item in a sorted list. The function should return the index of element to be searched in the list.\n",
    "\n",
    "def binarysearch(item,list):\n",
    "    index = 0\n",
    "    while True:\n",
    "        if len(list) == 1:\n",
    "            if item in list:\n",
    "                return index\n",
    "            else:\n",
    "                return 'Not found'\n",
    "        else:\n",
    "            if item in list[:int(len(list)/2)]:\n",
    "                list = list[:int(len(list)/2)]\n",
    "            else:\n",
    "                index += int(len(list)/2)\n",
    "                list = list[int(len(list)/2):]\n",
    "\n",
    "arr = [10, 20, 30, 40, 60, 110, 120, 130, 170, 200]\n",
    "\n",
    "for i in arr:\n",
    "    print(binarysearch(i,arr))\n",
    "\n",
    "print(binarysearch('e',arr))\n",
    "\n",
    "def binarysearchrecurse(item,list,index):\n",
    "    if len(list) == 1:\n",
    "        if item in list:\n",
    "            return index\n",
    "        else:\n",
    "            return 'Not found'\n",
    "    else:\n",
    "        if item in list[:int(len(list)/2)]:\n",
    "            return binarysearchrecurse(item,list[:int(len(list)/2)],index)\n",
    "        else:\n",
    "            return binarysearchrecurse(item,list[int(len(list)/2):],index+int(len(list)/2))\n",
    "\n",
    "arr = [10, 20, 30, 40, 60, 110, 120, 130, 170, 200, 250]\n",
    "\n",
    "for i in arr:\n",
    "    print(binarysearchrecurse(i,arr,0))\n",
    "\n",
    "print(binarysearchrecurse('e',arr,0))"
   ]
  }
 ],
 "metadata": {
  "kernelspec": {
   "display_name": "Python 3.10.7 64-bit",
   "language": "python",
   "name": "python3"
  },
  "language_info": {
   "codemirror_mode": {
    "name": "ipython",
    "version": 3
   },
   "file_extension": ".py",
   "mimetype": "text/x-python",
   "name": "python",
   "nbconvert_exporter": "python",
   "pygments_lexer": "ipython3",
   "version": "3.10.7"
  },
  "orig_nbformat": 4,
  "vscode": {
   "interpreter": {
    "hash": "26de051ba29f2982a8de78e945f0abaf191376122a1563185a90213a26c5da77"
   }
  }
 },
 "nbformat": 4,
 "nbformat_minor": 2
}
