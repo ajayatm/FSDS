{
 "cells": [
  {
   "cell_type": "code",
   "execution_count": 3,
   "metadata": {},
   "outputs": [
    {
     "name": "stdout",
     "output_type": "stream",
     "text": [
      "[18, 22, 24, 25]\n"
     ]
    }
   ],
   "source": [
    "\"\"\"Question 1:\n",
    "Write a program that calculates and prints the value according to the given formula:\n",
    "Q = Square root of [(2 * C * D)/H]\n",
    "Following are the fixed values of C and H:\n",
    "C is 50. H is 30.\n",
    "D is the variable whose values should be input to your program in a comma-separated sequence.\n",
    "Example\n",
    "Let us assume the following comma separated input sequence is given to the program:\n",
    "100,150,180\n",
    "The output of the program should be:\n",
    "18,22,24\"\"\"\n",
    "C = 50\n",
    "H = 30\n",
    "\n",
    "def find_q(*args):\n",
    "    q = []\n",
    "    for i in args:\n",
    "        q.append(int(((2*C*i)/H)**(0.5)))\n",
    "    return q\n",
    "\n",
    "print(find_q(100,150,180,200))\n"
   ]
  },
  {
   "cell_type": "code",
   "execution_count": 5,
   "metadata": {},
   "outputs": [
    {
     "name": "stdout",
     "output_type": "stream",
     "text": [
      "[[0, 0, 0, 0, 0], [0, 1, 2, 3, 4], [0, 2, 4, 6, 8]]\n"
     ]
    }
   ],
   "source": [
    "\"\"\"Question 2:\n",
    "Write a program which takes 2 digits, X,Y as input and generates a 2-dimensional array. The element value in the i-th row and j-th column of the array should be i*j.\n",
    "Note: i=0,1.., X-1; j=0,1,¡¬Y-1.\n",
    "Example\n",
    "Suppose the following inputs are given to the program:\n",
    "3,5\n",
    "Then, the output of the program should be:\n",
    "[[0, 0, 0, 0, 0], [0, 1, 2, 3, 4], [0, 2, 4, 6, 8]] \"\"\"\n",
    "\n",
    "def creatematrix(x,y):\n",
    "    m = []\n",
    "    for i in range(x):\n",
    "        n = []\n",
    "        for j in range(y):\n",
    "            n.append(i*j)\n",
    "        m.append(n)\n",
    "    return m\n",
    "\n",
    "print(creatematrix(3,5))"
   ]
  },
  {
   "cell_type": "code",
   "execution_count": 5,
   "metadata": {},
   "outputs": [
    {
     "name": "stdout",
     "output_type": "stream",
     "text": [
      "['Atlantic', 'Canada', 'Fiona', 'Hurricane', 'a', 'be', 'for', 'has', 'of', 'parts', 'potential', 'severe', 'storm', 'the', 'this', 'to', 'weekend']\n"
     ]
    }
   ],
   "source": [
    "'''Question 3:\n",
    "Write a program that accepts a comma separated sequence of words as input and prints the words in a comma-separated sequence after sorting them alphabetically.\n",
    "Suppose the following input is supplied to the program:\n",
    "without,hello,bag,world\n",
    "Then, the output should be:\n",
    "bag,hello,without,world\n",
    "'''\n",
    "\n",
    "def sort_words(l):\n",
    "    f = []\n",
    "    for i in l:\n",
    "        f.append(i)\n",
    "    f.sort()\n",
    "    return f\n",
    "a = 'Hurricane Fiona has the potential to be a severe storm for parts of Atlantic Canada this weekend'\n",
    "b = a.split()\n",
    "print(sort_words(b))"
   ]
  },
  {
   "cell_type": "code",
   "execution_count": 10,
   "metadata": {},
   "outputs": [
    {
     "name": "stdout",
     "output_type": "stream",
     "text": [
      "['again', 'and', 'and', 'hello', 'hello', 'makes', 'perfect', 'practice', 'world', 'world']\n",
      "again and hello makes perfect practice world\n"
     ]
    }
   ],
   "source": [
    "'''Question 4:\n",
    "Write a program that accepts a sequence of whitespace separated words as input and prints the words after removing all duplicate words and sorting them alphanumerically.\n",
    "Suppose the following input is supplied to the program:\n",
    "hello world and practice makes perfect and hello world again\n",
    "Then, the output should be:\n",
    "again and hello makes perfect practice world'''\n",
    "\n",
    "def sort_unique_words(a):\n",
    "    c = []\n",
    "    b = a.split()\n",
    "    b.sort()\n",
    "    for i in b:\n",
    "        if i not in c:\n",
    "            c.append(i)\n",
    "    return ' '.join(c)\n",
    "\n",
    "string = 'hello world and practice makes perfect and hello world again'\n",
    "print(sort_unique_words(string))"
   ]
  },
  {
   "cell_type": "code",
   "execution_count": 18,
   "metadata": {},
   "outputs": [
    {
     "name": "stdout",
     "output_type": "stream",
     "text": [
      "LETTERS 10\n",
      "DIGITS 3\n"
     ]
    }
   ],
   "source": [
    "'''Question 5:\n",
    "Write a program that accepts a sentence and calculate the number of letters and digits.\n",
    "Suppose the following input is supplied to the program:\n",
    "hello world! 123\n",
    "Then, the output should be:\n",
    "LETTERS 10\n",
    "DIGITS 3'''\n",
    "\n",
    "def count_al_num(s):\n",
    "    b = list(s)\n",
    "    al = 0\n",
    "    dig = 0\n",
    "    for i in b:\n",
    "        if i.isnumeric():\n",
    "            dig += 1\n",
    "        if i.isalpha():\n",
    "            al += 1\n",
    "    return al, dig\n",
    "\n",
    "\n",
    "string = 'hello world! 123'\n",
    "c = count_al_num(string)\n",
    "print('LETTERS', c[0])\n",
    "print('DIGITS', c[1])\n",
    "\n"
   ]
  },
  {
   "cell_type": "code",
   "execution_count": 49,
   "metadata": {},
   "outputs": [
    {
     "name": "stdout",
     "output_type": "stream",
     "text": [
      "['ABd1234@1']\n"
     ]
    }
   ],
   "source": [
    "'''\n",
    "Question 6:\n",
    "A website requires the users to input username and password to register. Write a program to check the validity of password input by users.\n",
    "Following are the criteria for checking the password:\n",
    "1. At least 1 letter between [a-z]\n",
    "2. At least 1 number between [0-9]\n",
    "1. At least 1 letter between [A-Z]\n",
    "3. At least 1 character from [$#@]\n",
    "4. Minimum length of transaction password: 6\n",
    "5. Maximum length of transaction password: 12\n",
    "Your program should accept a sequence of comma separated passwords and will check them according to the above criteria. Passwords that match the criteria are to be printed, each separated by a comma.\n",
    "Example\n",
    "If the following passwords are given as input to the program:\n",
    "ABd1234@1,a F1#,2w3E*,2We3345\n",
    "Then, the output of the program should be:\n",
    "ABd1234@1'''\n",
    "\n",
    "def select_password(*args):\n",
    "    good = []\n",
    "    for i in args:\n",
    "        ALPH = 0\n",
    "        num = 0\n",
    "        al = 0\n",
    "        sp = 0\n",
    "        u = 0\n",
    "        l = len(i)\n",
    "        for j in i:\n",
    "            if j.isnumeric():\n",
    "                num += 1\n",
    "            elif j in ['a','b','c','d','e','f','g','h','i','j','k','l','m','n','o','p','q','r','s','t','u','v','w','x','y','z']:\n",
    "                al += 1\n",
    "            elif j in ['A','B','C','D','E','F','G','H','I','J','K','L','M','N','O','P','Q','R','S','T','U','V','W','X','Y','Z']:\n",
    "                ALPH += 1\n",
    "            elif j in ['$','#','@']:\n",
    "                sp += 1\n",
    "            else:\n",
    "                u += 1\n",
    "        if al > 0 and ALPH > 0 and num > 0 and sp > 0 and u == 0 and l > 5 and l < 13:\n",
    "            good.append(i)\n",
    "    return good\n",
    "\n",
    "print(select_password('ABd1234@1','a F1#,2w3E*','2We3345'))\n"
   ]
  },
  {
   "cell_type": "code",
   "execution_count": 25,
   "metadata": {},
   "outputs": [
    {
     "name": "stdout",
     "output_type": "stream",
     "text": [
      "good\n"
     ]
    }
   ],
   "source": [
    "if len('ajay') > 2:\n",
    "    print('good')"
   ]
  }
 ],
 "metadata": {
  "kernelspec": {
   "display_name": "Python 3.10.7 64-bit",
   "language": "python",
   "name": "python3"
  },
  "language_info": {
   "codemirror_mode": {
    "name": "ipython",
    "version": 3
   },
   "file_extension": ".py",
   "mimetype": "text/x-python",
   "name": "python",
   "nbconvert_exporter": "python",
   "pygments_lexer": "ipython3",
   "version": "3.10.7"
  },
  "orig_nbformat": 4,
  "vscode": {
   "interpreter": {
    "hash": "26de051ba29f2982a8de78e945f0abaf191376122a1563185a90213a26c5da77"
   }
  }
 },
 "nbformat": 4,
 "nbformat_minor": 2
}
