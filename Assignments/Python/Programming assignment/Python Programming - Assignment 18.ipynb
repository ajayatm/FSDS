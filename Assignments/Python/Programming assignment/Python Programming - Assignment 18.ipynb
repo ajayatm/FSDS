{
 "cells": [
  {
   "cell_type": "code",
   "execution_count": 5,
   "metadata": {},
   "outputs": [
    {
     "name": "stdout",
     "output_type": "stream",
     "text": [
      "[1, 2]\n",
      "[1, 0, 15]\n",
      "[1, 2, 123]\n"
     ]
    }
   ],
   "source": [
    "'''Question 1\n",
    "Create a function that takes a list of non-negative integers and strings and return a new list without the strings.\n",
    "Examples\n",
    "filter_list([1, 2, \"a\", \"b\"]) ➞ [1, 2]\n",
    "\n",
    "filter_list([1, \"a\", \"b\", 0, 15]) ➞ [1, 0, 15]\n",
    "\n",
    "filter_list([1, 2, \"aasf\", \"1\", \"123\", 123]) ➞ [1, 2, 123]'''\n",
    "\n",
    "def filter_list(listmix):\n",
    "    newlist = []\n",
    "    for i in listmix:\n",
    "        if str(i).isnumeric():\n",
    "            if int(i) not in newlist:\n",
    "                newlist.append(int(i))\n",
    "    return newlist\n",
    "\n",
    "print(filter_list([1, 2, \"a\", \"b\"]))\n",
    "print(filter_list([1, \"a\", \"b\", 0, 15]))\n",
    "print(filter_list([1, 2, \"aasf\", \"1\", \"123\", 123]))"
   ]
  },
  {
   "cell_type": "code",
   "execution_count": 15,
   "metadata": {},
   "outputs": [
    {
     "name": "stdout",
     "output_type": "stream",
     "text": [
      "DLROw OLLEh\n",
      "eSrEvEr\n",
      "RADAr\n"
     ]
    }
   ],
   "source": [
    "'''Question 2\n",
    "The \"Reverser\" takes a string as input and returns that string in reverse order, with the opposite case.\n",
    "Examples\n",
    "reverse(\"Hello World\") ➞ \"DLROw OLLEh\"\n",
    "reverse(\"ReVeRsE\") ➞ \"eSrEvEr\"\n",
    "reverse(\"Radar\") ➞ \"RADAr\"'''\n",
    "def reverse(string):\n",
    "    b = []\n",
    "    for i in string:\n",
    "        b.append(i.swapcase())\n",
    "    c = ''.join(b[::-1])\n",
    "    return c\n",
    "\n",
    "print(reverse(\"Hello World\"))\n",
    "print(reverse(\"ReVeRsE\"))\n",
    "print(reverse(\"Radar\"))\n"
   ]
  },
  {
   "cell_type": "code",
   "execution_count": 19,
   "metadata": {},
   "outputs": [
    {
     "name": "stdout",
     "output_type": "stream",
     "text": [
      "1\n",
      "[2, 3, 4, 5]\n",
      "6\n"
     ]
    }
   ],
   "source": [
    "'''Question 3\n",
    "You can assign variables from lists like this:\n",
    "lst = [1, 2, 3, 4, 5, 6]\n",
    "first = lst[0]\n",
    "middle = lst[1:-1]\n",
    "last = lst[-1]\n",
    "\n",
    "print(first) ➞ outputs 1\n",
    "print(middle) ➞ outputs [2, 3, 4, 5]\n",
    "print(last) ➞ outputs 6\n",
    "With Python 3, you can assign variables from lists in a much more succinct way. Create variables first, middle and last from the given list using destructuring \n",
    "assignment (check the Resources tab for some examples), where:\n",
    "first  ➞ 1\n",
    "middle ➞ [2, 3, 4, 5]\n",
    "last ➞ 6\n",
    "Your task is to unpack the list writeyourcodehere into three variables, being first, middle, and last, with middle being everything in between the first and \n",
    "last element. Then print all three variables.'''\n",
    "\n",
    "first, *middle, last = [1, 2, 3, 4, 5, 6]\n",
    "print(first)\n",
    "print(middle)\n",
    "print(last)"
   ]
  },
  {
   "cell_type": "code",
   "execution_count": 21,
   "metadata": {},
   "outputs": [
    {
     "name": "stdout",
     "output_type": "stream",
     "text": [
      "120\n",
      "6\n",
      "1\n",
      "1\n"
     ]
    }
   ],
   "source": [
    "'''Question 4\n",
    "Write a function that calculates the factorial of a number recursively.\n",
    "Examples\n",
    "factorial(5) ➞ 120\n",
    "factorial(3) ➞ 6\n",
    "factorial(1) ➞ 1\n",
    "factorial(0) ➞ 1'''\n",
    "\n",
    "def factorial(n):\n",
    "    if n < 2:\n",
    "        return 1\n",
    "    else:\n",
    "        return n * factorial(n-1)\n",
    "\n",
    "print(factorial(5))\n",
    "print(factorial(3))\n",
    "print(factorial(1))\n",
    "print(factorial(0))"
   ]
  },
  {
   "cell_type": "code",
   "execution_count": 5,
   "metadata": {},
   "outputs": [
    {
     "name": "stdout",
     "output_type": "stream",
     "text": [
      "[7, 8, 1, 2, 3, 4, 9]\n",
      "['b', 'a', 'a', 'a']\n"
     ]
    }
   ],
   "source": [
    "'''Question 5\n",
    "Write a function that moves all elements of one type to the end of the list.\n",
    "Examples\n",
    "move_to_end([1, 3, 2, 4, 4, 1], 1) ➞ [3, 2, 4, 4, 1, 1]\n",
    "# Move all the 1s to the end of the array.\n",
    "move_to_end([7, 8, 9, 1, 2, 3, 4], 9) ➞ [7, 8, 1, 2, 3, 4, 9]\n",
    "move_to_end([\"a\", \"a\", \"a\", \"b\"], \"a\") ➞ [\"b\", \"a\", \"a\", \"a\"]'''\n",
    "\n",
    "def movetoend(l,item):\n",
    "    b = []\n",
    "    c = []\n",
    "    for i in range(len(l)):\n",
    "        if l[i] == item:\n",
    "            c.append(l[i])\n",
    "        else:\n",
    "            b.append(l[i])\n",
    "    return b + c\n",
    "\n",
    "print(movetoend([7, 8, 9, 1, 2, 3, 4], 9))\n",
    "print(movetoend([\"a\", \"a\", \"a\", \"b\"], \"a\"))"
   ]
  }
 ],
 "metadata": {
  "kernelspec": {
   "display_name": "Python 3.10.7 64-bit",
   "language": "python",
   "name": "python3"
  },
  "language_info": {
   "codemirror_mode": {
    "name": "ipython",
    "version": 3
   },
   "file_extension": ".py",
   "mimetype": "text/x-python",
   "name": "python",
   "nbconvert_exporter": "python",
   "pygments_lexer": "ipython3",
   "version": "3.10.7"
  },
  "orig_nbformat": 4,
  "vscode": {
   "interpreter": {
    "hash": "26de051ba29f2982a8de78e945f0abaf191376122a1563185a90213a26c5da77"
   }
  }
 },
 "nbformat": 4,
 "nbformat_minor": 2
}
