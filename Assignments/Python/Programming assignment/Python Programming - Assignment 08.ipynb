{
 "cells": [
  {
   "cell_type": "code",
   "execution_count": 12,
   "metadata": {},
   "outputs": [
    {
     "name": "stdout",
     "output_type": "stream",
     "text": [
      "[[17, 15, 4], [10, 12, 9], [11, 13, 18]]\n"
     ]
    }
   ],
   "source": [
    "#1.\tWrite a Python Program to Add Two Matrices?\n",
    "\n",
    "def add_matrices(a, b):\n",
    "    c = [[1,1,1],[1,1,1],[1,1,1]]\n",
    "\n",
    "    for i in range(len(a)):\n",
    "        for j in range(len(a[i])):\n",
    "            c[i][j] = a[i][j] + b[i][j]\n",
    "    return c\n",
    "\n",
    "X = [[12,7,3],\n",
    "     [4,5,6],\n",
    "     [7,8,9]]\n",
    "\n",
    "Y = [[5,8,1],\n",
    "     [6,7,3],\n",
    "     [4,5,9]]\n",
    "\n",
    "print(add_matrices(X,Y))"
   ]
  },
  {
   "cell_type": "code",
   "execution_count": 27,
   "metadata": {},
   "outputs": [
    {
     "name": "stdout",
     "output_type": "stream",
     "text": [
      "[[114, 160, 60, 27], [74, 97, 73, 14]]\n"
     ]
    }
   ],
   "source": [
    "#2.\tWrite a Python Program to Multiply Two Matrices?\n",
    "\n",
    "def multiply_matrices(a, b):\n",
    "    for i in range(len(a)):\n",
    "        for k in range(len(b[0])):\n",
    "            for j in range(len(a[0])):\n",
    "                c[i][k] += a[i][j]*b[j][k]\n",
    "    return c\n",
    "\n",
    "# 2x3 matrix\n",
    "X = [[12,7,3],[4 ,5,6]]\n",
    "# 3x4 matrix\n",
    "Y = [[5,8,1,2],[6,7,3,0],[4,5,9,1]]\n",
    "# result is 2x4\n",
    "c = [[0,0,0,0],[0,0,0,0]]\n",
    "\n",
    "print(multiply_matrices(X,Y))"
   ]
  },
  {
   "cell_type": "code",
   "execution_count": 31,
   "metadata": {},
   "outputs": [
    {
     "name": "stdout",
     "output_type": "stream",
     "text": [
      "[[5, 1, 6, 3, 4, 9], [8, 2, 7, 0, 5, 1]]\n"
     ]
    }
   ],
   "source": [
    "#3.\tWrite a Python Program to Transpose a Matrix?\n",
    "\n",
    "def transpose_matrix(a):\n",
    "    for i in range(len(a)):\n",
    "        for j in range(len(a[0])):\n",
    "            b[j][i] = a[i][j]\n",
    "    return b\n",
    "\n",
    "X = [[12,7,3],[4,5,6]]\n",
    "Y = [[5,8],[1,2],[6,7],[3,0],[4,5],[9,1]]\n",
    "b = [[0,0,0,0,0,0],[0,0,0,0,0,0]]\n",
    "print(transpose_matrix(Y))"
   ]
  },
  {
   "cell_type": "code",
   "execution_count": 44,
   "metadata": {},
   "outputs": [
    {
     "name": "stdout",
     "output_type": "stream",
     "text": [
      "['America,', 'An', 'Anderson,', 'Anglo-American', 'Anglo-American,', 'Archibald', 'Archibald', 'Archibald', 'Archibald', 'Archibald,', 'Asia,', 'Asia;', 'Australia', 'abandoned', 'abandoned', 'abandoning', 'able', 'abode,', 'abode,', 'abominable', 'about', 'about', 'about', 'abroad', 'abroad', 'abroad,', 'abroad,', 'abroad—against', 'abruptly', 'absent-mindedly', 'absorbing', 'abstractedly,', 'absurd', 'absurd', 'abundantly—apprehending', 'abused', 'abusive,', 'accessories,', 'accessories,', 'accessories;', 'accident.', 'accommodating', 'accommodating', 'accommodating', 'accommodating', 'accommodation,', 'accomplished', 'accomplishments,', 'according', 'accordingly', 'accounted', 'accounted', 'accounting', 'accumulating', 'accurately', 'accusations—aye', 'accustomed', 'accustomed', 'accustomed', 'achieved),', 'achievements,', 'acknowledged', 'acquaintance,', 'acquaintances', \"acquaintances'\", 'acquiring', 'acquisition,', 'acrimoniously', 'across', 'across', 'active', 'active', 'activity,', 'actually', 'actuation', 'addledheaded', 'adequate', 'adieus,', 'adjusting', 'admirable', 'admired', 'admirers', 'admiring', 'adopted,', 'adopting', 'advanced', 'advantageous', 'advantageous', 'advantageous', 'advantageous', 'adventure', 'adventure', 'adventure', 'adventure', 'adventurers', 'adventuring', 'adventuring', 'adventuring', 'adventuring', 'adventuring', 'adverse', 'advertised', 'advertised)', 'advertisements', 'advertisements', 'advertising', 'advised', 'affable', 'affairs', 'affectionate', 'affirmed', 'affording', 'affording', 'affording', 'affrighting', 'affronting', 'after', 'after', 'after', 'after', 'again,', 'again,', 'age', 'agent', 'agent', 'agents', 'agents', 'agents', 'aggravated', 'aggravation),', 'aggressive', 'agile,', 'agitated', 'agreeable', 'agreeable', 'agreed', 'aid;', 'aiming', 'alackaday!', 'alas!', 'album', 'alehouse,', 'alias', 'all', 'all', 'all', 'all', 'all', 'all', 'all', 'all', 'all', 'all', 'all', 'all', 'all', 'all', 'allaying', 'alleged', 'alleging', 'alleviating', 'almost', 'along,', 'also', 'also', 'also),', 'also,', 'also—absolutely', 'although', 'always', 'always', 'always', 'amateur', 'amateur', 'amazed', 'amazingly', 'ambition', 'amiably', 'among', 'amptly', 'amusing,', 'an', 'an', 'an', 'an', 'an', 'an', 'an', 'an', 'an', 'an', 'an', 'an', 'an', 'an', 'an', 'an', 'an', 'an', 'an', 'an', 'an', 'an', 'an', 'an', 'an', 'an', 'an', 'an', 'anathemas', 'ancient', 'ancient', 'and', 'and', 'and', 'and', 'and', 'and', 'and', 'and', 'and', 'and', 'and', 'and', 'and', 'and', 'and', 'and', 'and', 'and', 'and', 'and', 'and', 'and', 'and', 'and', 'and', 'and', 'and', 'and', 'and', 'and', 'and', 'and', 'and', 'and', 'and', 'and', 'and', 'and', 'and', 'and', 'and', 'and', 'and', 'and', 'and', 'and', 'and', 'and', 'and', 'and', 'and', 'and', 'and', 'and', 'and', 'and', 'and', 'and', 'and', 'and', 'and', 'and', 'and', 'and', 'and', 'anent', 'anger', 'angry,', 'announced', 'announced)', 'annoyances,', 'annoying', 'annulled', 'another', 'answer,', 'answering', 'antediluvian', 'anticipating', 'antiquated', 'anxiety', 'anxiously', 'any', 'any', 'any', 'anytime', 'anytime', 'apes,', 'appalling', 'apparatus', 'apparatus', 'apparatus', 'apparently', 'apparently', 'appeared', 'applecart', 'applecart', 'applecart', 'appledealer', \"appledealer's\", \"appledealer's\", 'appledealer,', 'appledealers,', 'appliances,', 'appliances,', 'appliances,', 'appointing', 'approached', 'approaching,', 'appropriate', 'appropriate', 'appropriate,', 'appropriate,', 'appropriately', 'approved', 'approving', 'apt', 'aptly', 'aptly', 'aptly-accommodating', 'are', 'armed', 'arranged', 'arranged,', 'arrangements', 'arrangements', 'arrangements,', 'arranging', 'arresting', 'arrived', 'arrogant', 'art', 'article', 'article', 'article', 'articles,', 'artist', 'artist', \"artist's\", \"artist's\", 'artist,', 'artist,', 'artistic', 'artistic', 'artistic', 'artistic', 'artistically', 'artists', \"artists'\", \"artists'\", \"artists'\", 'artists,', 'as', 'as', 'as', 'as', 'as', 'as', 'as', 'as', 'as', 'as', 'as', 'as', 'as', 'as', 'as', 'as', 'as', 'as', 'as', 'as', 'asked', 'aspect,', 'aspiring', 'aspiring', 'assailants', 'assassins,', 'assemblies', 'asses,', 'assiduous', 'assistance', 'assistance', 'assistance,', 'assuming', 'astonished', 'astonishingly', 'at', 'at', 'at', 'athirst', 'atrocious', 'attacks', 'attentively,', 'attire', 'attired', 'attractive', 'audacious', 'audacity,', 'auguring', 'authorised', 'authority', 'available', 'avowed', 'awaiting', 'awful', 'awkward', 'awkward']\n"
     ]
    }
   ],
   "source": [
    "#4.\tWrite a Python Program to Sort Words in Alphabetic Order?\n",
    "\n",
    "a = \"Archibald Anderson, an able artist, and an acknowledged authority at all artistic assemblies after adventuring abroad all about Australia and America, and acquiring an admirable album artistically arranged, according as an accomplished artist accounted apt and appropriate, and admired amazingly among all artists as artistic and amusing, again, alleging as actuation an assiduous and absorbing activity, and an ambition all athirst after artistic accomplishments, and aiming at advantageous achievements, arranged another adventure across Asia, and accordingly appointing an accommodating and agreeable acquaintance, an affable Anglo-American, as agent (active agents accurately advised and amptly authorised always affording advantageous assistance, arranging affairs and adjusting articles, and anticipating and arresting awkward and adverse annoyances, and almost always alleviating anxiety and allaying anger and aggravation), after absent-mindedly and abstractedly, although apparently attentively, approving and adopting all arrangements as appropriate, and as auguring an agreeable adventure abroad, and after amiably answering all admiring acquaintances' affectionate adieus, abandoned an attractive abode, and attired as adventurers abroad always are (an attire apparently about as antiquated as any ancient and antediluvian age anytime adopted, and as affrighting and absurd as any art anytime achieved), and armed abundantly—apprehending attacks abroad—against any audacious assailants and aggressive assassins, Archibald advanced along, astonishingly active and agile, and approached an ancient alehouse, an appledealer's abode, an appledealer advertising as an amateur and aspiring artist, anxiously awaiting (as advertisements announced) all artist's and artist's agents arrangements anent adventuring abroad, and affording all advantageous assistance and appropriate aid; and again, advertisements also announced as an available acquisition, \\\"an article aptly accommodating adventuring artists' apparatus and appliances, and all accustomed accessories;\\\" and as Archibald arrived and asked about advantageous assistance and an article aptly-accommodating (as advertised) \\\"adventuring artists' apparatus and appliances, and accustomed accessories,\\\" an applecart appeared approaching, and \\\"an amateur and aspiring artist\\\" alias an accommodating appledealer, actually affirmed and avowed (and an Anglo-American agent agreed and approved also), an applecart appropriately accounted and advertised as \\\"an article aptly accommodating adventuring artists\\' apparatus and appliances, and accustomed accessories,\\\" and Archibald, astonished and angry, agitated and aggravated also at an appledealer\\'s atrocious audacity, accounting an applecart an appropriate accommodation, assuming an awful aspect, acrimoniously abused all appledealers, and agents also, as absurd asses, and addledheaded apes, and accumulating annoying and abusive, affronting and arrogant accusations—aye and alas! and alackaday! abominable and appalling anathemas also—absolutely annulled all arrangements, and abruptly abandoned all artistic adventure across Asia; and as abandoning adventure amazed all artists, Archibald alleged as affording all admirers and acquaintances adequate answer, \\\"An awkward accident.\\\"\"\n",
    "b = a.replace('\"','')\n",
    "b = b.replace(\"(\",'')\n",
    "c = b.split()\n",
    "print(sorted(c))\n",
    "\n"
   ]
  },
  {
   "cell_type": "code",
   "execution_count": 58,
   "metadata": {},
   "outputs": [
    {
     "name": "stdout",
     "output_type": "stream",
     "text": [
      "Archibald Anderson an able artist and an acknowledged authority at all artistic assemblies after adventuring abroad all about Australia and America and acquiring an admirable album artistically arranged according as an accomplished artist accounted apt and appropriate and admired amazingly among all artists as artistic and amusing again alleging as actuation an assiduous and absorbing activity and an ambition all athirst after artistic accomplishments and aiming at advantageous achievements arranged another adventure across Asia and accordingly appointing an accommodating and agreeable acquaintance an affable Anglo-American as agent active agents accurately advised and amptly authorised always affording advantageous assistance arranging affairs and adjusting articles and anticipating and arresting awkward and adverse annoyances and almost always alleviating anxiety and allaying anger and aggravation after absent-mindedly and abstractedly although apparently attentively approving and adopting all arrangements as appropriate and as auguring an agreeable adventure abroad and after amiably answering all admiring acquaintances affectionate adieus abandoned an attractive abode and attired as adventurers abroad always are an attire apparently about as antiquated as any ancient and antediluvian age anytime adopted and as affrighting and absurd as any art anytime achieved and armed abundantly—apprehending attacks abroad—against any audacious assailants and aggressive assassins Archibald advanced along astonishingly active and agile and approached an ancient alehouse an appledealers abode an appledealer advertising as an amateur and aspiring artist anxiously awaiting as advertisements announced all artists and artists agents arrangements anent adventuring abroad and affording all advantageous assistance and appropriate aid and again advertisements also announced as an available acquisition an article aptly accommodating adventuring artists apparatus and appliances and all accustomed accessories and as Archibald arrived and asked about advantageous assistance and an article aptly-accommodating as advertised adventuring artists apparatus and appliances and accustomed accessories an applecart appeared approaching and an amateur and aspiring artist alias an accommodating appledealer actually affirmed and avowed and an Anglo-American agent agreed and approved also an applecart appropriately accounted and advertised as an article aptly accommodating adventuring artists apparatus and appliances and accustomed accessories and Archibald astonished and angry agitated and aggravated also at an appledealers atrocious audacity accounting an applecart an appropriate accommodation assuming an awful aspect acrimoniously abused all appledealers and agents also as absurd asses and addledheaded apes and accumulating annoying and abusive affronting and arrogant accusations—aye and alas and alackaday abominable and appalling anathemas also—absolutely annulled all arrangements and abruptly abandoned all artistic adventure across Asia and as abandoning adventure amazed all artists Archibald alleged as affording all admirers and acquaintances adequate answer An awkward accident\n"
     ]
    }
   ],
   "source": [
    "#5.\tWrite a Python Program to Remove Punctuation From a String?\n",
    "\n",
    "a = \"Archibald Anderson, an able artist, and an acknowledged authority at all artistic assemblies after adventuring abroad all about Australia and America, and acquiring an admirable album artistically arranged, according as an accomplished artist accounted apt and appropriate, and admired amazingly among all artists as artistic and amusing, again, alleging as actuation an assiduous and absorbing activity, and an ambition all athirst after artistic accomplishments, and aiming at advantageous achievements, arranged another adventure across Asia, and accordingly appointing an accommodating and agreeable acquaintance, an affable Anglo-American, as agent (active agents accurately advised and amptly authorised always affording advantageous assistance, arranging affairs and adjusting articles, and anticipating and arresting awkward and adverse annoyances, and almost always alleviating anxiety and allaying anger and aggravation), after absent-mindedly and abstractedly, although apparently attentively, approving and adopting all arrangements as appropriate, and as auguring an agreeable adventure abroad, and after amiably answering all admiring acquaintances' affectionate adieus, abandoned an attractive abode, and attired as adventurers abroad always are (an attire apparently about as antiquated as any ancient and antediluvian age anytime adopted, and as affrighting and absurd as any art anytime achieved), and armed abundantly—apprehending attacks abroad—against any audacious assailants and aggressive assassins, Archibald advanced along, astonishingly active and agile, and approached an ancient alehouse, an appledealer's abode, an appledealer advertising as an amateur and aspiring artist, anxiously awaiting (as advertisements announced) all artist's and artist's agents arrangements anent adventuring abroad, and affording all advantageous assistance and appropriate aid; and again, advertisements also announced as an available acquisition, \\\"an article aptly accommodating adventuring artists' apparatus and appliances, and all accustomed accessories;\\\" and as Archibald arrived and asked about advantageous assistance and an article aptly-accommodating (as advertised) \\\"adventuring artists' apparatus and appliances, and accustomed accessories,\\\" an applecart appeared approaching, and \\\"an amateur and aspiring artist\\\" alias an accommodating appledealer, actually affirmed and avowed (and an Anglo-American agent agreed and approved also), an applecart appropriately accounted and advertised as \\\"an article aptly accommodating adventuring artists\\' apparatus and appliances, and accustomed accessories,\\\" and Archibald, astonished and angry, agitated and aggravated also at an appledealer\\'s atrocious audacity, accounting an applecart an appropriate accommodation, assuming an awful aspect, acrimoniously abused all appledealers, and agents also, as absurd asses, and addledheaded apes, and accumulating annoying and abusive, affronting and arrogant accusations—aye and alas! and alackaday! abominable and appalling anathemas also—absolutely annulled all arrangements, and abruptly abandoned all artistic adventure across Asia; and as abandoning adventure amazed all artists, Archibald alleged as affording all admirers and acquaintances adequate answer, \\\"An awkward accident.\\\"\"\n",
    "b = [\"'\", '\"', '(', ')', ',', ';', ':', '.', '?', '!']\n",
    "c = list(a)\n",
    "for i in range(len(c)):\n",
    "    if c[i] in b:\n",
    "        c[i] = ''\n",
    "d = ''.join(c)\n",
    "print(d)\n",
    "#e = d.split()\n",
    "#print(sorted(e))"
   ]
  }
 ],
 "metadata": {
  "kernelspec": {
   "display_name": "Python 3.10.7 64-bit",
   "language": "python",
   "name": "python3"
  },
  "language_info": {
   "codemirror_mode": {
    "name": "ipython",
    "version": 3
   },
   "file_extension": ".py",
   "mimetype": "text/x-python",
   "name": "python",
   "nbconvert_exporter": "python",
   "pygments_lexer": "ipython3",
   "version": "3.10.7"
  },
  "orig_nbformat": 4,
  "vscode": {
   "interpreter": {
    "hash": "26de051ba29f2982a8de78e945f0abaf191376122a1563185a90213a26c5da77"
   }
  }
 },
 "nbformat": 4,
 "nbformat_minor": 2
}
