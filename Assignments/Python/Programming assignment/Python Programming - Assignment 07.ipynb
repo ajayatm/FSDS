{
 "cells": [
  {
   "cell_type": "code",
   "execution_count": 10,
   "metadata": {},
   "outputs": [
    {
     "name": "stdout",
     "output_type": "stream",
     "text": [
      "45\n"
     ]
    }
   ],
   "source": [
    "#1.\tWrite a Python Program to find sum of array?\n",
    "def sum_list(sumlist):\n",
    "    return sum(sumlist)\n",
    "\n",
    "sumlist = [1,2,3,4,5,6,7,8,9]\n",
    "print(sum_list(sumlist))"
   ]
  },
  {
   "cell_type": "code",
   "execution_count": 11,
   "metadata": {},
   "outputs": [
    {
     "name": "stdout",
     "output_type": "stream",
     "text": [
      "65144\n"
     ]
    }
   ],
   "source": [
    "#2.\tWrite a Python Program to find largest element in an array?\n",
    "def max_list(maxlist):\n",
    "    return max(maxlist)\n",
    "\n",
    "largelist = [3521,13521,8654,31,64,6541,684,651,6984,61,684,65144,651,6854]\n",
    "print(max_list(largelist))"
   ]
  },
  {
   "cell_type": "code",
   "execution_count": 7,
   "metadata": {},
   "outputs": [
    {
     "name": "stdout",
     "output_type": "stream",
     "text": [
      "[6543, 654685, 68768, 32132, 321654, 6546874, 654632, 6876854, 654654, 654654, 684645, 564654, 651654, 9879864, 65465, 686832, 654654, 6546]\n"
     ]
    }
   ],
   "source": [
    "#3.\tWrite a Python Program for array rotation?\n",
    "def rotate_list(rotatelist):\n",
    "    \n",
    "rotatelist = [6546,654654,686832,65465,9879864,651654,564654,684645,654654,654654,6876854,654632,6546874,321654,32132,68768,654685,6543]\n",
    "print(rotatelist[::-1])"
   ]
  },
  {
   "cell_type": "code",
   "execution_count": 17,
   "metadata": {},
   "outputs": [
    {
     "name": "stdout",
     "output_type": "stream",
     "text": [
      "[1, 2, 3, 4, 5, 6, 7, 8, 9]\n"
     ]
    }
   ],
   "source": [
    "#4.\tWrite a Python Program to Split the array and add the first part to the end?\n",
    "def split_list(splitarray, splitindex):\n",
    "    if splitindex >= len(splitarray) or splitindex < 0:\n",
    "        return 'Invalid index'\n",
    "    a = splitarray[:splitindex]\n",
    "    b = splitarray[splitindex:]\n",
    "    c = []\n",
    "    c.extend(b)\n",
    "    c.extend(a)\n",
    "    return c\n",
    "\n",
    "splitarray = [1,2,3,4,5,6,7,8,9]\n",
    "print(split_list(splitarray,0))"
   ]
  },
  {
   "cell_type": "code",
   "execution_count": 34,
   "metadata": {},
   "outputs": [
    {
     "name": "stdout",
     "output_type": "stream",
     "text": [
      "(True, True, True)\n"
     ]
    }
   ],
   "source": [
    "#5.\tWrite a Python Program to check if given array is Monotonic?\n",
    "\n",
    "def ismonontonic(monoarray):\n",
    "    a = True #ascending\n",
    "    b = True #descending\n",
    "    for i in range(len(monoarray)-1):\n",
    "        if (monoarray[i] < monoarray[i+1]):\n",
    "            b = False\n",
    "        elif (monoarray[i] > monoarray[i+1]):\n",
    "            a = False\n",
    "        if a == False and b == False:\n",
    "            return a, b, False\n",
    "    if a or b:\n",
    "        return a, b, True\n",
    "    else:\n",
    "        return a, b, False\n",
    "\n",
    "monoarray = [1,1,1,1,1,1,1,1,1,1,1,1,1]\n",
    "print(ismonontonic(monoarray))\n"
   ]
  }
 ],
 "metadata": {
  "kernelspec": {
   "display_name": "Python 3.10.7 64-bit",
   "language": "python",
   "name": "python3"
  },
  "language_info": {
   "codemirror_mode": {
    "name": "ipython",
    "version": 3
   },
   "file_extension": ".py",
   "mimetype": "text/x-python",
   "name": "python",
   "nbconvert_exporter": "python",
   "pygments_lexer": "ipython3",
   "version": "3.10.7"
  },
  "orig_nbformat": 4,
  "vscode": {
   "interpreter": {
    "hash": "26de051ba29f2982a8de78e945f0abaf191376122a1563185a90213a26c5da77"
   }
  }
 },
 "nbformat": 4,
 "nbformat_minor": 2
}
