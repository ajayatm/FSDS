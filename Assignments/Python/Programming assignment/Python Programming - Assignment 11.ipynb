{
 "cells": [
  {
   "cell_type": "code",
   "execution_count": 4,
   "metadata": {},
   "outputs": [
    {
     "name": "stdout",
     "output_type": "stream",
     "text": [
      "A low-carbohydrate diet causes extensive metabolism of fatty acids, which are used by the liver to make ketone bodies, which provide energy to important organs, including the brain, heart, and kidneys, in a condition called ketosis Ketosis can have other causes such as alcoholism and diabetes Excessive accumulation of ketone bodies occurs when its production is greater than consumption, leading to ketoacidosis, a potentially life-threatening condition Rarely, a low-carbohydrate ketogenic diet can also give rise to ketoacidosis, especially in patients with comorbid conditions\n",
      "['low-carbohydrate', 'accumulation', 'consumption,', 'ketoacidosis,', 'potentially', 'life-threatening', 'low-carbohydrate', 'ketoacidosis,']\n"
     ]
    }
   ],
   "source": [
    "#1.\tWrite a Python program to find words which are greater than given length k?\n",
    "a = 'A low-carbohydrate diet causes extensive metabolism of fatty acids, which are used by the liver to make ketone bodies, which provide energy to important organs, including the brain, heart, and kidneys, in a condition called ketosis. Ketosis can have other causes such as alcoholism and diabetes. Excessive accumulation of ketone bodies occurs when its production is greater than consumption, leading to ketoacidosis, a potentially life-threatening condition. Rarely, a low-carbohydrate ketogenic diet can also give rise to ketoacidosis, especially in patients with comorbid conditions.'\n",
    "b = a.replace(',','')\n",
    "b = a.replace('.','')\n",
    "print(b)\n",
    "c = b.split()\n",
    "d = []\n",
    "for i in c:\n",
    "    if len(i) > 10:\n",
    "        d.append(i)\n",
    "\n",
    "print(d)"
   ]
  },
  {
   "cell_type": "code",
   "execution_count": 19,
   "metadata": {},
   "outputs": [
    {
     "name": "stdout",
     "output_type": "stream",
     "text": [
      "Wrong index\n"
     ]
    }
   ],
   "source": [
    "#2.\tWrite a Python program for removing i-th character from a string?\n",
    "def remove_ith(string, i):\n",
    "    if i >= 0 and i < len(string):\n",
    "        return string[:i] + string[i+1:]\n",
    "    else:\n",
    "        return 'Wrong index'\n",
    "\n",
    "a = 'expensive'\n",
    "b = 60\n",
    "\n",
    "print(remove_ith(a,b))"
   ]
  },
  {
   "cell_type": "code",
   "execution_count": 32,
   "metadata": {},
   "outputs": [
    {
     "name": "stdout",
     "output_type": "stream",
     "text": [
      "['the', 'string', 'that', 'needs', 'to', 'be', 'split', 'and', 'joined']\n",
      "the string that needs to be split and joined\n"
     ]
    }
   ],
   "source": [
    "#3.\tWrite a Python program to split and join a string?\n",
    "\n",
    "def splitandjoin(string):\n",
    "    pass\n",
    "\n",
    "a = 'the string that needs to be split and joined'\n",
    "b = a.split()\n",
    "print(b)\n",
    "c = ' '.join(b)\n",
    "print(c)"
   ]
  },
  {
   "cell_type": "code",
   "execution_count": 39,
   "metadata": {},
   "outputs": [
    {
     "name": "stdout",
     "output_type": "stream",
     "text": [
      "True\n"
     ]
    }
   ],
   "source": [
    "#4.\tWrite a Python to check if a given string is binary string or not?\n",
    "\n",
    "def check_binary(string):\n",
    "    for i in string:\n",
    "        if i != '1' and i != '0':\n",
    "            return False\n",
    "    return True\n",
    "    \n",
    "a = '10101010101010101010101'\n",
    "print(check_binary(a))"
   ]
  },
  {
   "cell_type": "code",
   "execution_count": 60,
   "metadata": {},
   "outputs": [
    {
     "name": "stdout",
     "output_type": "stream",
     "text": [
      "['the', 'morning', 'late', 'evening']\n"
     ]
    }
   ],
   "source": [
    "#5.\tWrite a Python program to find uncommon words from two Strings?\n",
    "\n",
    "def get_uncommon(a,b):\n",
    "    c = a.split()\n",
    "    d = b.split()\n",
    "    f = []\n",
    "    for i in c:\n",
    "        if i not in f and i not in d:\n",
    "            f.append(i)\n",
    "\n",
    "    for i in d:\n",
    "        if i not in f and i not in c:\n",
    "            f.append(i)\n",
    "    \n",
    "    return f\n",
    "\n",
    "A = 'I miss you in the morning'\n",
    "B = 'I miss you late in evening'\n",
    "\n",
    "print(get_uncommon(A,B))"
   ]
  },
  {
   "cell_type": "code",
   "execution_count": 66,
   "metadata": {},
   "outputs": [
    {
     "name": "stdout",
     "output_type": "stream",
     "text": [
      "['t', 'h', 'e', ' ', 's', 'r', 'i', 'n', 'd', 'u', 'c', 'a', 'o']\n"
     ]
    }
   ],
   "source": [
    "#6.\tWrite a Python to find all duplicate characters in string?\n",
    "\n",
    "a = 'the string where duplicate characters need to be found'\n",
    "b = list(a)\n",
    "c = []\n",
    "for i in b:\n",
    "    if b.count(i) > 1:\n",
    "        if i not in c:\n",
    "            c.append(i)\n",
    "print(c)"
   ]
  },
  {
   "cell_type": "code",
   "execution_count": 71,
   "metadata": {},
   "outputs": [
    {
     "name": "stdout",
     "output_type": "stream",
     "text": [
      "[' ', '!', '\"', '#', '$', '%', '&', \"'\", '(', ')', '*', '+', ',', '-', '.', '/', ':', ';', '<', '=', '>', '?', '@', '[', '\\\\', ']', '^', '_', '`', '{', '|', '}', '~']\n"
     ]
    }
   ],
   "source": [
    "#7.\tWrite a Python Program to check if a string contains any special character?\n",
    "\n",
    "a = \"32 33!34\\\"35#36$37%38&39'40(41)42*43+44,45-46.47/48049150251352453554655756857958:59;60<61=62>63?64@65A66B67C68D69E70F71G72H73I74J75K76L77M78N79O80P81Q82R83S84T85U86V87W88X89Y90Z91[92\\93]94^95_96`97a98b99c100d101e102f103g104h105i106j107k108l109m110n111o112p113q114r115s116t117u118v119w120x121y122z123{124|125}126~\"\n",
    "b = []\n",
    "for i in a:\n",
    "    if i.isalnum():\n",
    "        continue\n",
    "    else:\n",
    "        b.append(i)\n",
    "\n",
    "print(b)"
   ]
  }
 ],
 "metadata": {
  "kernelspec": {
   "display_name": "Python 3.10.7 64-bit",
   "language": "python",
   "name": "python3"
  },
  "language_info": {
   "codemirror_mode": {
    "name": "ipython",
    "version": 3
   },
   "file_extension": ".py",
   "mimetype": "text/x-python",
   "name": "python",
   "nbconvert_exporter": "python",
   "pygments_lexer": "ipython3",
   "version": "3.10.7"
  },
  "orig_nbformat": 4,
  "vscode": {
   "interpreter": {
    "hash": "26de051ba29f2982a8de78e945f0abaf191376122a1563185a90213a26c5da77"
   }
  }
 },
 "nbformat": 4,
 "nbformat_minor": 2
}
