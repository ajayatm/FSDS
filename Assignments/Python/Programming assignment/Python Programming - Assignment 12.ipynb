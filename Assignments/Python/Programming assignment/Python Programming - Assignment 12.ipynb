{
 "cells": [
  {
   "cell_type": "code",
   "execution_count": 5,
   "metadata": {},
   "outputs": [
    {
     "name": "stdout",
     "output_type": "stream",
     "text": [
      "[2, 7, 5, 4, 8]\n"
     ]
    }
   ],
   "source": [
    "#1.\tWrite a Python program to Extract Unique values dictionary values?\n",
    "\n",
    "a = {1:2, 2:7, 4:5, 3:4, 6:7, 5:5, 7:8}\n",
    "f = []\n",
    "for v in a.values():\n",
    "    if v not in f:\n",
    "        f.append(v)\n",
    "\n",
    "print(f)"
   ]
  },
  {
   "cell_type": "code",
   "execution_count": 9,
   "metadata": {},
   "outputs": [
    {
     "name": "stdout",
     "output_type": "stream",
     "text": [
      "28 38\n"
     ]
    }
   ],
   "source": [
    "#2.\tWrite a Python program to find the sum of all items in a dictionary?\n",
    "ksum, vsum = 0, 0\n",
    "a = {1:2, 2:7, 4:5, 3:4, 6:7, 5:5, 7:8}\n",
    "for k,v in a.items():\n",
    "    ksum += k\n",
    "    vsum += v\n",
    "print(ksum, vsum)"
   ]
  },
  {
   "cell_type": "code",
   "execution_count": 15,
   "metadata": {},
   "outputs": [
    {
     "name": "stdout",
     "output_type": "stream",
     "text": [
      "{'1': 2, '2': 9, '4': 5, '3': 4, '6': 7, '5': 5, '7': 8, 1: 3, 2: 8, 4: 5, 3: 4, 6: 7, 5: 6, 7: 8}\n"
     ]
    }
   ],
   "source": [
    "#3.\tWrite a Python program to Merging two Dictionaries?\n",
    "a = {'1':2, '2':9, '4':5, '3':4, '6':7, '5':5, '7':8}\n",
    "b = {1:3, 2:8, 4:5, 3:4, 6:7, 5:6, 7:8}\n",
    "c = a | b\n",
    "print(c)\n"
   ]
  },
  {
   "cell_type": "code",
   "execution_count": 18,
   "metadata": {},
   "outputs": [
    {
     "name": "stdout",
     "output_type": "stream",
     "text": [
      "[['Sun', 'Mon', 'Tue', 'Wed', 'Thu', 'Fri', 'Sat'], [1, 2, 3, 4, 5, 6, 7]]\n",
      "{1: 'Sun', 2: 'Mon', 3: 'Tue', 4: 'Wed', 5: 'Thu', 6: 'Fri', 7: 'Sat'}\n"
     ]
    }
   ],
   "source": [
    "#4.\tWrite a Python program to convert key-values list to flat dictionary?\n",
    "\n",
    "week = { 'day':['Sun','Mon','Tue','Wed','Thu','Fri','Sat'], 'order':[1,2,3,4,5,6,7]}\n",
    "l = []\n",
    "for k,v in week.items():\n",
    "    if type(v) == list:\n",
    "        l.append(v)\n",
    "\n",
    "print(l)\n",
    "\n",
    "flat_week = {}\n",
    "for i in range(len(l[1])):\n",
    "    flat_week[l[1][i]] = l[0][i]\n",
    "\n",
    "print(flat_week)"
   ]
  },
  {
   "cell_type": "code",
   "execution_count": 27,
   "metadata": {},
   "outputs": [
    {
     "name": "stdout",
     "output_type": "stream",
     "text": [
      "OrderedDict([(1, 'a'), (2, 'b'), (3, 'c'), (4, 'd'), (5, 'e')])\n",
      "OrderedDict([(1, 'a'), (2, 'b'), (3, 'c'), (4, 'd'), (5, 'e'), (0, ' ')])\n",
      "OrderedDict([(0, ' '), (1, 'a'), (2, 'b'), (3, 'c'), (4, 'd'), (5, 'e')])\n"
     ]
    }
   ],
   "source": [
    "#5.\tWrite a Python program to insertion at the beginning in OrderedDict?\n",
    "from collections import OrderedDict\n",
    "a = OrderedDict([(1,'a'),(2,'b'),(3,'c'),(4,'d'),(5,'e')])\n",
    "print(a)\n",
    "a.update({0:' '})\n",
    "print(a)\n",
    "a.move_to_end(0,last=False)\n",
    "print(a)"
   ]
  },
  {
   "cell_type": "code",
   "execution_count": 52,
   "metadata": {},
   "outputs": [
    {
     "name": "stdout",
     "output_type": "stream",
     "text": [
      "Correct\n"
     ]
    }
   ],
   "source": [
    "#6.\tWrite a Python program to check order of character in string using OrderedDict()?\n",
    "\n",
    "from collections import OrderedDict\n",
    "def check_order(input, pattern):\n",
    "   dictionary = OrderedDict.fromkeys(input)\n",
    "   l = 0\n",
    "   for key,value in dictionary.items():\n",
    "      if (key == pattern[l]):\n",
    "         l += 1\n",
    "\n",
    "      if (l == (len(pattern))):\n",
    "         return 'Correct'\n",
    "   return 'Incorrect'\n",
    "\n",
    "text = 'the Federal Reserve'\n",
    "pattern = 'er'\n",
    "print(check_order(text,pattern))"
   ]
  },
  {
   "cell_type": "code",
   "execution_count": 58,
   "metadata": {},
   "outputs": [
    {
     "name": "stdout",
     "output_type": "stream",
     "text": [
      "{1: 2, 2: 7, 3: 4, 4: 5, 5: 5, 6: 7, 7: 8}\n",
      "{1: 2, 3: 4, 4: 5, 5: 5, 2: 7, 6: 7, 7: 8}\n"
     ]
    }
   ],
   "source": [
    "#7.\tWrite a Python program to sort Python Dictionaries by Key or Value?\n",
    "\n",
    "a = {1:2, 2:7, 4:5, 3:4, 6:7, 5:5, 7:8}\n",
    "\n",
    "def sortbykey(d):\n",
    "    b = []\n",
    "    for k in d:\n",
    "        b.append(k)\n",
    "    b.sort()\n",
    "\n",
    "    c = {}\n",
    "    for i in b:\n",
    "        c[i] = a[i]\n",
    "    \n",
    "    return c\n",
    "\n",
    "def sortbyvalue(d):\n",
    "    b = []\n",
    "    for k in d:\n",
    "        b.append(d[k])\n",
    "    b.sort()\n",
    "\n",
    "    c = {}\n",
    "    for i in b:\n",
    "        j = get_key(d,i)\n",
    "        for l in j:\n",
    "            c[l] = i\n",
    "    \n",
    "    return c\n",
    "\n",
    "def get_key(a,v):\n",
    "    e = []\n",
    "    for k in a:\n",
    "        if a[k] == v:\n",
    "            e.append(k)\n",
    "    return e\n",
    "\n",
    "print(sortbykey(a))\n",
    "print(sortbyvalue(a))       "
   ]
  }
 ],
 "metadata": {
  "kernelspec": {
   "display_name": "Python 3.10.7 64-bit",
   "language": "python",
   "name": "python3"
  },
  "language_info": {
   "codemirror_mode": {
    "name": "ipython",
    "version": 3
   },
   "file_extension": ".py",
   "mimetype": "text/x-python",
   "name": "python",
   "nbconvert_exporter": "python",
   "pygments_lexer": "ipython3",
   "version": "3.10.7"
  },
  "orig_nbformat": 4,
  "vscode": {
   "interpreter": {
    "hash": "26de051ba29f2982a8de78e945f0abaf191376122a1563185a90213a26c5da77"
   }
  }
 },
 "nbformat": 4,
 "nbformat_minor": 2
}
