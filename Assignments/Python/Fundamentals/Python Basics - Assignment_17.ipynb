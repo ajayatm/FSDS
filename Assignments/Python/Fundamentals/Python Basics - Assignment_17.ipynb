{
  "cells": [
    {
      "cell_type": "raw",
      "metadata": {
        "id": "kiDiN4X99SYc"
      },
      "source": [
        "1. Assign the value 7 to the variable guess_me. Then, write the conditional tests (if, else, and elif) to print the string 'too low' if guess_me is less than 7, 'too high' if greater than 7, and 'just right' if equal to 7.\n",
        "guess_me = 7\n",
        "if guess_me < 7:\n",
        "    print('too low')\n",
        "elif guess_me > 7:\n",
        "    print('too high')\n",
        "else:\n",
        "    print('just right')\n",
        "\n",
        "2. Assign the value 7 to the variable guess_me and the value 1 to the variable start. Write a while loop that compares start with guess_me. Print too low if start is less than guess me. If start equals guess_me, print 'found it!' and exit the loop. If start is greater than guess_me, print 'oops' and exit the loop. Increment start at the end of the loop.\n",
        "guess_me = 7\n",
        "start = 1\n",
        "while True:\n",
        "    if start == guess_me:\n",
        "        print('too low')\n",
        "        start += 1\n",
        "    elif start > guess_me:\n",
        "        print('oops')\n",
        "        break\n",
        "    else:\n",
        "        print('found it!')\n",
        "        break\n",
        "\n",
        "3. Print the following values of the list [3, 2, 1, 0] using a for loop.\n",
        "l = [3, 2, 1, 0]\n",
        "for i in l:\n",
        "    print(i)\n",
        "\n",
        "4. Use a list comprehension to make a list of the even numbers in range(10)\n",
        "l = [i for i in range(10) if i%2 == 0]\n",
        "\n",
        "5. Use a dictionary comprehension to create the dictionary squares. Use range(10) to return the keys, and use the square of each key as its value.\n",
        "d = {n:n*n for n in range(10)}\n",
        "\n",
        "6. Construct the set odd from the odd numbers in the range using a set comprehension (10).\n",
        "s = {c for c in range(10) if c%2 == 1}\n",
        "\n",
        "7. Use a generator comprehension to return the string 'Got ' and a number for the numbers in range(10). Iterate through this by using a for loop.\n",
        "g = ('Got ' + str(j) for j in range(10))\n",
        "for i in range(10):\n",
        "    print(next(g))\n",
        "\n",
        "8. Define a function called good that returns the list ['Harry', 'Ron', 'Hermione'].\n",
        "def good():\n",
        "    l = ['Harry', 'Ron', 'Hermione']\n",
        "    return l\n",
        "\n",
        "9. Define a generator function called get_odds that returns the odd numbers from range(10). Use a for loop to find and print the third value returned.\n",
        "def get_odds():\n",
        "    for i in range(10):\n",
        "        if i%2 == 1:\n",
        "            yield i\n",
        "\n",
        "y = get_odds()\n",
        "for x in range(5):\n",
        "    z = next(y)\n",
        "    if x == 2:\n",
        "        print(z)\n",
        "\n",
        "10. Define an exception called OopsException. Raise this exception to see what happens. Then write the code to catch this exception and print 'Caught an oops'.\n",
        "class OopsException(Exception):\n",
        "    pass\n",
        "\n",
        "if True:\n",
        "    raise OopsException('Caught an oops')\n",
        "\n",
        "\n",
        "11. Use zip() to make a dictionary called movies that pairs these lists: titles = ['Creature of Habit', 'Crewel Fate'] and plots = ['A nun turns into a monster', 'A haunted yarn shop'].\n",
        "titles = ['Creature of Habit', 'Crewel Fate']\n",
        "plots = ['A nun turns into a monster', 'A haunted yarn shop']\n",
        "movies = dict(zip(titles, plots))\n"
      ]
    }
  ],
  "metadata": {
    "colab": {
      "provenance": []
    },
    "kernelspec": {
      "display_name": "Python 3",
      "name": "python3"
    },
    "language_info": {
      "name": "python"
    }
  },
  "nbformat": 4,
  "nbformat_minor": 0
}
