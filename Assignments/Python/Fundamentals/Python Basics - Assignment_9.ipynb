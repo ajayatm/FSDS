{
  "cells": [
    {
      "cell_type": "raw",
      "metadata": {
        "id": "2CO5_QxoHupH"
      },
      "source": [
        "1. To what does a relative path refer?\n",
        "There are two ways to specify a file path:\n",
        "An absolute path, which always begins with the root folder\n",
        "A relative path, which is relative to the program’s current working directory\n",
        "\n",
        "2. What does an absolute path start with your operating system?\n",
        "An absolute path, which always begins with the root folder\n",
        "\n",
        "3. What do the functions os.getcwd() and os.chdir() do?\n",
        "get the current working directory as a string value with the Path.cwd() function\n",
        "\n",
        "\n",
        "4. What are the . and .. folders?\n",
        ". is the current folder whereas .. points to parent folder.\n",
        "\n",
        "5. In C:\\bacon\\eggs\\spam.txt, which part is the dir name, and which part is the base name?\n",
        "dir - C:\\bacon\\eggs\n",
        "base - spam.txt\n",
        "\n",
        "6. What are the three “mode” arguments that can be passed to the open() function?\n",
        "'r', 'w', 'a'\n",
        "\n",
        "7. What happens if an existing file is opened in write mode?\n",
        "Write mode will overwrite the existing file and start from scratch.\n",
        "\n",
        "8. How do you tell the difference between read() and readlines()?\n",
        "read() - read the entire contents of a file as a string value\n",
        "readlines() - get a list of string values from the file, one string for each line of text\n",
        "\n",
        "9. What data structure does a shelf value resemble?\n",
        "dictionary\n",
        "\n"
      ]
    }
  ],
  "metadata": {
    "colab": {
      "provenance": []
    },
    "kernelspec": {
      "display_name": "Python 3",
      "name": "python3"
    },
    "language_info": {
      "name": "python"
    }
  },
  "nbformat": 4,
  "nbformat_minor": 0
}
