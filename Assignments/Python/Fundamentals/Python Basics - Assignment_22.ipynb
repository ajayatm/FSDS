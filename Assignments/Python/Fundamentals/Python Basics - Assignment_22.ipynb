{
  "cells": [
    {
      "cell_type": "raw",
      "metadata": {
        "id": "v4zY6vCWr3AR"
      },
      "source": [
        "1. What is the result of the code, and explain?\n",
        "\n",
        ">>> X = 'iNeuron'\n",
        ">>> def func():\n",
        "print(X)\n",
        "\n",
        ">>> func()\n",
        "\n",
        "The code prints 'iNeuron' as X has global scope and referenced inside the function."
      ]
    },
    {
      "cell_type": "raw",
      "metadata": {
        "id": "Ec72y3GasH5a"
      },
      "source": [
        "2. What is the result of the code, and explain?\n",
        "\n",
        ">>> X = 'iNeuron'\n",
        ">>> def func():\n",
        "X = 'NI!'\n",
        "\n",
        ">>> func()\n",
        ">>> print(X)\n",
        "\n",
        "The code prints 'iNeuron' as global scope value is not changed by local variable inside the function."
      ]
    },
    {
      "cell_type": "raw",
      "metadata": {
        "id": "EkGAdXrus0B9"
      },
      "source": [
        "3. What does this code print, and why?\n",
        "\n",
        "\n",
        ">>> X = 'iNeuron'\n",
        ">>> def func():\n",
        "X = 'NI'\n",
        "print(X)\n",
        "\n",
        "\n",
        ">>> func()\n",
        ">>> print(X)\n",
        "\n",
        "The code prints 'NI' first for the local variable value as X inside function has a local scope. 'iNeuron' gets printed next due the global scope of outside X."
      ]
    },
    {
      "cell_type": "raw",
      "metadata": {
        "id": "E07NmfHeta_f"
      },
      "source": [
        "4. What output does this code produce? Why?\n",
        "\n",
        "\n",
        ">>> X = 'iNeuron'\n",
        ">>> def func():\n",
        "global X\n",
        "X = 'NI'\n",
        "\n",
        "\n",
        ">>> func()\n",
        ">>> print(X)\n",
        "\n",
        "The code prints 'NI' as X inside function has a global scope and the value is overridden."
      ]
    },
    {
      "cell_type": "raw",
      "metadata": {
        "id": "u-Tp1_L2t1E6"
      },
      "source": [
        "5. What about this code—what’s the output, and why?\n",
        "\n",
        ">>> X = 'iNeuron'\n",
        ">>> def func():\n",
        "X = 'NI'\n",
        "def nested():\n",
        "print(X)\n",
        "nested()\n",
        "\n",
        "\n",
        ">>> func()\n",
        ">>> X\n",
        "\n",
        "Function prints 'NI' as the local variable is initialized as 'NI' as is being printed. Outside the function, X has global scope and its value is 'iNeuron' and gets printed for X."
      ]
    },
    {
      "cell_type": "raw",
      "metadata": {
        "id": "kUuUSX2cu3ho"
      },
      "source": [
        "6. How about this code: what is its output in Python 3, and explain?\n",
        "\n",
        "\n",
        ">>> def func():\n",
        "X = 'NI'\n",
        "def nested():\n",
        "nonlocal X\n",
        "X = 'Spam'\n",
        "nested()\n",
        "print(X)\n",
        "\n",
        "\n",
        ">>> func()\n",
        "\n",
        "X has a nonlocal scope inside nested() because of which the value of 'NI' gets overridden and gets printed."
      ]
    }
  ],
  "metadata": {
    "colab": {
      "provenance": []
    },
    "kernelspec": {
      "display_name": "Python 3",
      "name": "python3"
    },
    "language_info": {
      "name": "python"
    }
  },
  "nbformat": 4,
  "nbformat_minor": 0
}
