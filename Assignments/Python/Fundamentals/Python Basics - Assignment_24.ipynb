{
  "cells": [
    {
      "cell_type": "raw",
      "metadata": {
        "id": "zfxVxBjr-W6T"
      },
      "source": [
        "1. What is the relationship between def statements and lambda expressions?\n",
        "\n",
        "Both are different ways of defining functions."
      ]
    },
    {
      "cell_type": "raw",
      "metadata": {
        "id": "7IU7m_Rt0_c5"
      },
      "source": [
        "2. What is the benefit of lambda?\n",
        "\n",
        "Anonymous functions without giving a name.\n",
        "Fewer line implementation.\n",
        "Faster execution.\n",
        "No return keyword required as result of expression returned by default."
      ]
    },
    {
      "cell_type": "raw",
      "metadata": {
        "id": "0R5Im0zA2swg"
      },
      "source": [
        "3. Compare and contrast map, filter, and reduce.\n",
        "\n",
        "map() takes a function and one or more iterables as arguments. The output is an iterator that returns the transformed items.\n",
        "\n",
        "A FILTER() function processes an iterable and extracts the items that satisfy a given operation.\n",
        "\n",
        "The REDUCE() function takes an existing function, applies it cumulatively to all the items in iterable, and returns a single final value."
      ]
    },
    {
      "cell_type": "raw",
      "metadata": {
        "id": "pwlDoIUIBOSA"
      },
      "source": [
        "4. What are function annotations, and how are they used?\n",
        "\n",
        "Annotations are Python features that hint developers about the data types of the variables or function parameters and return type. They also increase the readability of your Python program.\n",
        "\n",
        "def func(a: <expression>, b: <expression>) -> <expression>:\n",
        "    pass\n",
        "\n",
        "The return type of the function is denoted as -> <expression>. The <expression> can be anything. It can contain descriptions or data types of the parameters, etc. However, most commonly, function annotations are used to denote the data type of the function parameters and function return type."
      ]
    },
    {
      "cell_type": "raw",
      "metadata": {
        "id": "_gd30wszQQ5v"
      },
      "source": [
        "5. What are recursive functions, and how are they used?\n",
        "\n",
        "Functions that call itself are called recursive functions.\n",
        "\n",
        "def func():\n",
        "  if base condition:\n",
        "    return\n",
        "  return func()"
      ]
    },
    {
      "cell_type": "raw",
      "metadata": {
        "id": "kxtdd0-aRfLa"
      },
      "source": [
        "6. What are some general design guidelines for coding functions?\n",
        "\n",
        "Function names should be lowercase, with words separated by underscores as necessary to improve readability.\n",
        "Always use self for the first argument to instance methods.\n",
        "Always use cls for the first argument to class methods.\n",
        "Surround top-level function and class definitions with two blank lines.\n",
        "Method definitions inside a class are surrounded by a single blank line.\n",
        "Extra blank lines may be used (sparingly) to separate groups of related functions. Blank lines may be omitted between a bunch of related one-liners.\n",
        "Use blank lines in functions, sparingly, to indicate logical sections.\n",
        "\n",
        "Avoid extraneous whitespace in the following situations:\n",
        "Immediately before the open parenthesis that starts the argument list of a function call\n",
        "\n",
        "Function annotations should use the normal rules for colons and always have spaces around the -> arrow if present. \n",
        "Don’t use spaces around the = sign when used to indicate a keyword argument, or when used to indicate a default value for an unannotated function parameter.\n",
        "Write docstrings for all public modules, functions, classes, and methods. Docstrings are not necessary for non-public methods, but you should have a comment that describes what the method does. This comment should appear after the def line.\n"
      ]
    },
    {
      "cell_type": "raw",
      "metadata": {
        "id": "S0SYXe39TM4U"
      },
      "source": [
        "7. Name three or more ways that functions can communicate results to a caller.\n",
        "\n",
        "return keyword is used to communicate results.\n",
        "It can return variables, constants, expressions, functions, objects etc."
      ]
    }
  ],
  "metadata": {
    "colab": {
      "provenance": []
    },
    "kernelspec": {
      "display_name": "Python 3",
      "name": "python3"
    },
    "language_info": {
      "name": "python"
    }
  },
  "nbformat": 4,
  "nbformat_minor": 0
}
