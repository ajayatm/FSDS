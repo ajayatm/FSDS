{
  "nbformat": 4,
  "nbformat_minor": 0,
  "metadata": {
    "colab": {
      "provenance": []
    },
    "kernelspec": {
      "name": "python3",
      "display_name": "Python 3"
    },
    "language_info": {
      "name": "python"
    }
  },
  "cells": [
    {
      "cell_type": "code",
      "source": [
        "#1. Add the current date to the text file today.txt as a string.\n",
        "import datetime\n",
        "f = open('today.txt','w')\n",
        "dt = datetime.datetime.now()\n",
        "f.write(str(dt.date()))\n",
        "f.close()"
      ],
      "metadata": {
        "id": "Iruh7eTIuNrK"
      },
      "execution_count": 15,
      "outputs": []
    },
    {
      "cell_type": "code",
      "source": [
        "#2. Read the text file today.txt into the string today_string\n",
        "g = open('today.txt')\n",
        "today_string = g.read()\n",
        "print(today_string)\n",
        "g.close()\n"
      ],
      "metadata": {
        "colab": {
          "base_uri": "https://localhost:8080/"
        },
        "id": "F5Y5lilT3PaZ",
        "outputId": "39168691-270d-49a1-c3e3-8d7db5b203d7"
      },
      "execution_count": 17,
      "outputs": [
        {
          "output_type": "stream",
          "name": "stdout",
          "text": [
            "2022-09-14\n"
          ]
        }
      ]
    },
    {
      "cell_type": "code",
      "source": [
        "#3. Parse the date from today_string.\n",
        "print(today_string[8:])"
      ],
      "metadata": {
        "colab": {
          "base_uri": "https://localhost:8080/"
        },
        "id": "UkFGREFL5BvG",
        "outputId": "60b451f3-790d-49cf-b151-73c3515a6da2"
      },
      "execution_count": 21,
      "outputs": [
        {
          "output_type": "stream",
          "name": "stdout",
          "text": [
            "14\n"
          ]
        }
      ]
    },
    {
      "cell_type": "code",
      "source": [
        "#4. List the files in your current directory\n",
        "import os\n",
        "os.listdir()"
      ],
      "metadata": {
        "colab": {
          "base_uri": "https://localhost:8080/"
        },
        "id": "OvhY5ybl6cmd",
        "outputId": "66f8dac6-8460-4d83-9af1-39f2314e9c36"
      },
      "execution_count": 40,
      "outputs": [
        {
          "output_type": "execute_result",
          "data": {
            "text/plain": [
              "['.config', 'sample_data']"
            ]
          },
          "metadata": {},
          "execution_count": 40
        }
      ]
    },
    {
      "cell_type": "code",
      "source": [
        "#5. Create a list of all of the files in your parent directory (minimum five files should be available).\n",
        "\n",
        "os.listdir(\"..\")\n"
      ],
      "metadata": {
        "colab": {
          "base_uri": "https://localhost:8080/"
        },
        "id": "PUauRHeDT3B1",
        "outputId": "87d3722e-edf6-43cf-ce81-9d0e38cffccf"
      },
      "execution_count": 42,
      "outputs": [
        {
          "output_type": "execute_result",
          "data": {
            "text/plain": [
              "['home',\n",
              " 'bin',\n",
              " 'opt',\n",
              " 'tmp',\n",
              " 'etc',\n",
              " 'mnt',\n",
              " 'media',\n",
              " 'usr',\n",
              " 'boot',\n",
              " 'root',\n",
              " 'lib64',\n",
              " 'dev',\n",
              " 'run',\n",
              " 'var',\n",
              " 'sys',\n",
              " 'srv',\n",
              " 'sbin',\n",
              " 'lib',\n",
              " 'proc',\n",
              " '.dockerenv',\n",
              " 'tools',\n",
              " 'datalab',\n",
              " 'content',\n",
              " 'lib32',\n",
              " 'python-apt',\n",
              " 'NGC-DL-CONTAINER-LICENSE']"
            ]
          },
          "metadata": {},
          "execution_count": 42
        }
      ]
    },
    {
      "cell_type": "code",
      "source": [
        "#6. Use multiprocessing to create three separate processes. Make each one wait a random number of seconds between one and five, print the current time, and then exit.\n",
        "\n",
        "import threading, time, random\n",
        "print('Start of program.', time.ctime(), '\\n')\n",
        "\n",
        "def waitrandom():\n",
        "    x = random.randint(1,5)\n",
        "    time.sleep(x)\n",
        "    print(time.ctime(), ', lag =', x, '\\n')\n",
        "\n",
        "threadObj1 = threading.Thread(target=waitrandom)\n",
        "threadObj1.start()\n",
        "threadObj2 = threading.Thread(target=waitrandom)\n",
        "threadObj2.start()\n",
        "threadObj3 = threading.Thread(target=waitrandom)\n",
        "threadObj3.start()\n"
      ],
      "metadata": {
        "colab": {
          "base_uri": "https://localhost:8080/"
        },
        "id": "d89a5JLSX0BN",
        "outputId": "290cf091-eacc-4ad0-93ea-744f77029510"
      },
      "execution_count": 10,
      "outputs": [
        {
          "output_type": "stream",
          "name": "stdout",
          "text": [
            "Start of program. Thu Sep 15 00:17:20 2022 \n",
            "\n"
          ]
        }
      ]
    },
    {
      "cell_type": "code",
      "source": [
        "#7. Create a date object of your day of birth.\n",
        "\n",
        "import datetime\n",
        "dt = datetime.datetime.strptime('January 20 1981', '%B %d %Y')\n",
        "print(dt.date())"
      ],
      "metadata": {
        "colab": {
          "base_uri": "https://localhost:8080/"
        },
        "id": "K7a-qQROgl7g",
        "outputId": "48b67549-0fc9-44e5-df50-317376b05c9a"
      },
      "execution_count": 23,
      "outputs": [
        {
          "output_type": "stream",
          "name": "stdout",
          "text": [
            "1981-01-20\n"
          ]
        }
      ]
    },
    {
      "cell_type": "code",
      "source": [
        "#8. What day of the week was your day of birth?\n",
        "print(dt.date().weekday())"
      ],
      "metadata": {
        "colab": {
          "base_uri": "https://localhost:8080/"
        },
        "id": "FO3_Kbz6nOly",
        "outputId": "5e941174-c3c6-4ac6-98cd-b161a8a8b6dc"
      },
      "execution_count": 26,
      "outputs": [
        {
          "output_type": "stream",
          "name": "stdout",
          "text": [
            "1981-01-20 00:00:00\n",
            "1\n"
          ]
        }
      ]
    },
    {
      "cell_type": "code",
      "source": [
        "#9. When will you be (or when were you) 10,000 days old?\n",
        "\n",
        "delta10000 = datetime.timedelta(days=10000)\n",
        "Date10000 = dt + delta10000\n",
        "print(Date10000.date())\n",
        "print(os.getcwd())"
      ],
      "metadata": {
        "colab": {
          "base_uri": "https://localhost:8080/"
        },
        "id": "wuyIj_4jn_kq",
        "outputId": "7737620e-65a9-40af-f218-b28c239d7759"
      },
      "execution_count": 34,
      "outputs": [
        {
          "output_type": "stream",
          "name": "stdout",
          "text": [
            "2008-06-07\n",
            "/\n"
          ]
        }
      ]
    }
  ]
}