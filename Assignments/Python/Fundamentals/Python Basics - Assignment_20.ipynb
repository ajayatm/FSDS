{
  "nbformat": 4,
  "nbformat_minor": 0,
  "metadata": {
    "colab": {
      "provenance": []
    },
    "kernelspec": {
      "name": "python3",
      "display_name": "Python 3"
    },
    "language_info": {
      "name": "python"
    }
  },
  "cells": [
    {
      "cell_type": "code",
      "source": [
        "#1. Set the variable test1 to the string 'This is a test of the emergency text system,' and save test1 to a file named test.txt.\n",
        "test1 = 'This is a test of the emergency text system'\n",
        "f = open('test.txt','w')\n",
        "f.write(test1)\n",
        "f.close()"
      ],
      "metadata": {
        "id": "_vT-g-bPqhe-"
      },
      "execution_count": null,
      "outputs": []
    },
    {
      "cell_type": "code",
      "source": [
        "#2. Read the contents of the file test.txt into the variable test2. Is there a difference between test 1 and test 2?\n",
        "f = open('test.txt','r')\n",
        "test2 = f.read()\n",
        "f.close()\n",
        "print(test2)"
      ],
      "metadata": {
        "colab": {
          "base_uri": "https://localhost:8080/"
        },
        "id": "kq17gYvIvzWc",
        "outputId": "c325e40b-e817-4a88-f472-93bf385c3563"
      },
      "execution_count": null,
      "outputs": [
        {
          "output_type": "stream",
          "name": "stdout",
          "text": [
            "This is a test of the emergency text system\n"
          ]
        }
      ]
    },
    {
      "cell_type": "code",
      "source": [
        "'''3. Create a CSV file called books.csv by using these lines:\n",
        "title,author,year\n",
        "The Weirdstone of Brisingamen,Alan Garner,1960\n",
        "Perdido Street Station,China Miéville,2000\n",
        "Thud!,Terry Pratchett,2005\n",
        "The Spellman Files,Lisa Lutz,2007\n",
        "Small Gods,Terry Pratchett,1992'''\n",
        "import csv\n",
        "outputfile = open('books.csv', 'w', newline='')\n",
        "csvwriter = csv.writer(outputfile)\n",
        "csvwriter.writerow(['title','author','year'])\n",
        "csvwriter.writerow(['The Weirdstone of Brisingamen','Alan Garner','1960'])\n",
        "csvwriter.writerow(['Perdido Street Station','China Miéville','2000'])\n",
        "csvwriter.writerow(['Thud!','Terry Pratchett','2005'])\n",
        "csvwriter.writerow(['The Spellman Files','Lisa Lutz','2007'])\n",
        "csvwriter.writerow(['Small Gods','Terry Pratchett','1992'])\n",
        "outputfile.close()"
      ],
      "metadata": {
        "id": "0Lfc_neAwbHk"
      },
      "execution_count": null,
      "outputs": []
    },
    {
      "cell_type": "code",
      "source": [
        "#4. Use the sqlite3 module to create a SQLite database called books.db, and a table called books with these fields: title (text), author (text), and year (integer).\n",
        "#5. Read books.csv and insert its data into the book table.\n",
        "import sqlite3, csv\n",
        "con = sqlite3.connect('books.db')\n",
        "\n",
        "try:\n",
        "    cur = con.cursor()\n",
        "    cur.execute('CREATE TABLE IF NOT EXISTS books(title TEXT PRIMARY KEY, author TEXT NOT NULL, year INTEGER)')\n",
        "\n",
        "    with open('books.csv') as csvfile:\n",
        "        csvreader = csv.reader(csvfile)\n",
        "        cur.execute('DELETE FROM books')\n",
        "        for i in csvreader:\n",
        "            cur.execute('INSERT INTO books(title, author, year) VALUES(?,?,?);', i)\n",
        "\n",
        "        data = cur.execute('SELECT * FROM books')\n",
        "        for j in data:\n",
        "            print(j)\n",
        "\n",
        "        con.commit()\n",
        "        con.close()\n",
        "\n",
        "except Exception as msg:\n",
        "    print(msg)\n",
        "\n",
        "\n"
      ],
      "metadata": {
        "colab": {
          "base_uri": "https://localhost:8080/"
        },
        "id": "2HPVlDoO0OdL",
        "outputId": "b0efd2a9-d04d-40ba-a667-dea05ba94ca7"
      },
      "execution_count": null,
      "outputs": [
        {
          "output_type": "stream",
          "name": "stdout",
          "text": [
            "('title', 'author', 'year')\n",
            "('The Weirdstone of Brisingamen', 'Alan Garner', 1960)\n",
            "('Perdido Street Station', 'China Miéville', 2000)\n",
            "('Thud!', 'Terry Pratchett', 2005)\n",
            "('The Spellman Files', 'Lisa Lutz', 2007)\n",
            "('Small Gods', 'Terry Pratchett', 1992)\n"
          ]
        }
      ]
    },
    {
      "cell_type": "code",
      "source": [
        "#6. Select and print the title column from the book table in alphabetical order.\n",
        "\n",
        "import sqlite3\n",
        "con = sqlite3.connect('books.db')\n",
        "\n",
        "try:\n",
        "    cur = con.cursor()\n",
        "    data = cur.execute('SELECT title FROM books ASCENDING')\n",
        "    for j in data:\n",
        "        print(j)\n",
        "\n",
        "    con.close()\n",
        "\n",
        "except Exception as msg:\n",
        "    print(msg)"
      ],
      "metadata": {
        "colab": {
          "base_uri": "https://localhost:8080/"
        },
        "id": "p5aj-PFGKpYZ",
        "outputId": "e4c91070-d6e3-4ab7-9120-bea279dae6ae"
      },
      "execution_count": null,
      "outputs": [
        {
          "output_type": "stream",
          "name": "stdout",
          "text": [
            "('Perdido Street Station',)\n",
            "('Small Gods',)\n",
            "('The Spellman Files',)\n",
            "('The Weirdstone of Brisingamen',)\n",
            "('Thud!',)\n",
            "('title',)\n"
          ]
        }
      ]
    },
    {
      "cell_type": "code",
      "source": [
        "#7. From the book table, select and print all columns in the order of publication.\n",
        "\n",
        "import sqlite3\n",
        "con = sqlite3.connect('books.db')\n",
        "\n",
        "try:\n",
        "    cur = con.cursor()\n",
        "    data = cur.execute('SELECT * FROM books ORDER BY year')\n",
        "    for j in data:\n",
        "        print(j)\n",
        "\n",
        "    con.close()\n",
        "\n",
        "except Exception as msg:\n",
        "    print(msg)"
      ],
      "metadata": {
        "colab": {
          "base_uri": "https://localhost:8080/"
        },
        "id": "rzE9ZOCBLKw5",
        "outputId": "5960dfe4-d07f-4de5-b335-b541736fdc15"
      },
      "execution_count": null,
      "outputs": [
        {
          "output_type": "stream",
          "name": "stdout",
          "text": [
            "('The Weirdstone of Brisingamen', 'Alan Garner', 1960)\n",
            "('Small Gods', 'Terry Pratchett', 1992)\n",
            "('Perdido Street Station', 'China Miéville', 2000)\n",
            "('Thud!', 'Terry Pratchett', 2005)\n",
            "('The Spellman Files', 'Lisa Lutz', 2007)\n",
            "('title', 'author', 'year')\n"
          ]
        }
      ]
    },
    {
      "cell_type": "code",
      "source": [
        "#8. Use the sqlalchemy module to connect to the sqlite3 database books.db that you just made in exercise 6.\n",
        "\n",
        "from sqlalchemy import create_engine\n",
        "engine = create_engine('sqlite:///books.db')"
      ],
      "metadata": {
        "id": "qYmYlQnALwZZ"
      },
      "execution_count": null,
      "outputs": []
    },
    {
      "cell_type": "code",
      "source": [
        "#9. Install the Redis server and the Python redis library (pip install redis) on your computer. Create a Redis hash called test with the fields count (1) and name ('Fester Bestertester'). Print all the fields for test.\n",
        "!pip install redis"
      ],
      "metadata": {
        "id": "H3BKW4JHNvzr",
        "colab": {
          "base_uri": "https://localhost:8080/"
        },
        "outputId": "2701f236-787b-4c23-b8fa-21aba920bdfd"
      },
      "execution_count": 1,
      "outputs": [
        {
          "output_type": "stream",
          "name": "stdout",
          "text": [
            "Looking in indexes: https://pypi.org/simple, https://us-python.pkg.dev/colab-wheels/public/simple/\n",
            "Collecting redis\n",
            "  Downloading redis-4.3.4-py3-none-any.whl (246 kB)\n",
            "\u001b[K     |████████████████████████████████| 246 kB 4.0 MB/s \n",
            "\u001b[?25hRequirement already satisfied: packaging>=20.4 in /usr/local/lib/python3.7/dist-packages (from redis) (21.3)\n",
            "Collecting deprecated>=1.2.3\n",
            "  Downloading Deprecated-1.2.13-py2.py3-none-any.whl (9.6 kB)\n",
            "Requirement already satisfied: importlib-metadata>=1.0 in /usr/local/lib/python3.7/dist-packages (from redis) (4.12.0)\n",
            "Requirement already satisfied: async-timeout>=4.0.2 in /usr/local/lib/python3.7/dist-packages (from redis) (4.0.2)\n",
            "Requirement already satisfied: typing-extensions in /usr/local/lib/python3.7/dist-packages (from redis) (4.1.1)\n",
            "Requirement already satisfied: wrapt<2,>=1.10 in /usr/local/lib/python3.7/dist-packages (from deprecated>=1.2.3->redis) (1.14.1)\n",
            "Requirement already satisfied: zipp>=0.5 in /usr/local/lib/python3.7/dist-packages (from importlib-metadata>=1.0->redis) (3.8.1)\n",
            "Requirement already satisfied: pyparsing!=3.0.5,>=2.0.2 in /usr/local/lib/python3.7/dist-packages (from packaging>=20.4->redis) (3.0.9)\n",
            "Installing collected packages: deprecated, redis\n",
            "Successfully installed deprecated-1.2.13 redis-4.3.4\n"
          ]
        }
      ]
    },
    {
      "cell_type": "code",
      "source": [
        "import redis\n",
        "conn = redis.Redis()\n",
        "conn.hset('test', mapping={'count':1, 'name': 'Fester Bestertester'})\n",
        "print(conn.hgetall('test'))\n",
        "\n"
      ],
      "metadata": {
        "id": "F6Jpqd1Bwa_x"
      },
      "execution_count": null,
      "outputs": []
    },
    {
      "cell_type": "code",
      "source": [
        "#10. Increment the count field of test and print it.\n",
        "\n",
        "conn.hincrby('test','count', 1)\n",
        "print(conn.hgetall('test'))\n"
      ],
      "metadata": {
        "id": "0Qzuxesc3T4p"
      },
      "execution_count": null,
      "outputs": []
    }
  ]
}