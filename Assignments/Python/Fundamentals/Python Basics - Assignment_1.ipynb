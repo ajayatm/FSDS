{
 "cells": [
  {
   "cell_type": "raw",
   "id": "fdaebc02",
   "metadata": {},
   "source": [
    "#1. In the below elements which of them are values or an expression? eg:- values can be integer or string and expressions will be mathematical operators.\n",
    "* \n",
    "'hello'\n",
    "-87.8\n",
    "- \n",
    "/ \n",
    "+\t\n",
    "6 \n",
    "\n",
    "Answer: 'hello', -87.8, 6 are values. *, -, /, + are expressions."
   ]
  },
  {
   "cell_type": "raw",
   "id": "77e2d5fb",
   "metadata": {},
   "source": [
    "#2. What is the difference between string and variable?\n",
    "Answer: Variable is used to store data. Variables have alphanumeric names without quotes during declaration. Variables can hold any type of datatypes like integer, string, list, float, boolean, dictionary etc.\n",
    "String is a data type which would be stored within a variable. A string is assigned to a variable by defining the text within quotes."
   ]
  },
  {
   "cell_type": "raw",
   "id": "0e37670d",
   "metadata": {},
   "source": [
    "#3. Describe three different data types.\n",
    "Answer: Integer, String, Float, Boolean, Complex, List, Set, Tuple, Dictionary etc."
   ]
  },
  {
   "cell_type": "raw",
   "id": "e570f976",
   "metadata": {},
   "source": [
    "#4. What is an expression made up of? What do all expressions do?\n",
    "Answer: Expression is a combination of operators and operands which evaluates to a result. Expressions are used to execute arithmetic operations, comparison operations, logical operations, bitwise operations, identity operations, etc."
   ]
  },
  {
   "cell_type": "raw",
   "id": "3bd02d44",
   "metadata": {},
   "source": [
    "#5. This assignment statements, like spam = 10. What is the difference between an expression and a statement?\n",
    "Answer: statement is a small unit of work which may not result in an output. Expressions performs operations which results in an ouput which is part of statements. "
   ]
  },
  {
   "cell_type": "raw",
   "id": "899b4a66",
   "metadata": {},
   "source": [
    "#6. After running the following code, what does the variable bacon contain?\n",
    "bacon = 22\n",
    "bacon + 1\n",
    "Answer: 22"
   ]
  },
  {
   "cell_type": "raw",
   "id": "66df0b98",
   "metadata": {},
   "source": [
    "#7. What should the values of the following two terms be?\n",
    "'spam' + 'spamspam'\n",
    "'spam' * 3\n",
    "Answer: 'spamspamspam'"
   ]
  },
  {
   "cell_type": "raw",
   "id": "fd4b39d9",
   "metadata": {},
   "source": [
    "#8. Why is eggs a valid variable name while 100 is invalid?\n",
    "Answer: You cannot start the variable name with a number."
   ]
  },
  {
   "cell_type": "raw",
   "id": "10ab5428",
   "metadata": {},
   "source": [
    "#9. What three functions can be used to get the integer, floating-point number, or string version of a value?\n",
    "Answer: int(), float(), str()"
   ]
  },
  {
   "cell_type": "raw",
   "id": "ffe82739",
   "metadata": {},
   "source": [
    "#10. Why does this expression cause an error? How can you fix it?\n",
    "'I have eaten ' + 99 + ' burritos.'\n",
    "Answer: string cannot be concatenated with integer type. Integer has to be changed to string type to correct the error. change 99 to '99' or str(99)"
   ]
  }
 ],
 "metadata": {
  "kernelspec": {
   "display_name": "Python 3 (ipykernel)",
   "language": "python",
   "name": "python3"
  },
  "language_info": {
   "codemirror_mode": {
    "name": "ipython",
    "version": 3
   },
   "file_extension": ".py",
   "mimetype": "text/x-python",
   "name": "python",
   "nbconvert_exporter": "python",
   "pygments_lexer": "ipython3",
   "version": "3.9.12"
  }
 },
 "nbformat": 4,
 "nbformat_minor": 5
}
