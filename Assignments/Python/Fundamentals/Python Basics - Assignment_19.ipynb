{
  "nbformat": 4,
  "nbformat_minor": 0,
  "metadata": {
    "colab": {
      "provenance": []
    },
    "kernelspec": {
      "name": "python3",
      "display_name": "Python 3"
    },
    "language_info": {
      "name": "python"
    }
  },
  "cells": [
    {
      "cell_type": "markdown",
      "source": [
        "\n",
        "\n",
        "\n"
      ],
      "metadata": {
        "id": "kiDiN4X99SYc"
      }
    },
    {
      "cell_type": "code",
      "source": [
        "#1. Make a class called Thing with no contents and print it. Then, create an object called example from this class and also print it. Are the printed values the same or different?\n",
        "\n",
        "class Thing:\n",
        "    pass\n",
        "\n",
        "\n",
        "example = Thing()\n",
        "print(Thing)\n",
        "print(example)"
      ],
      "metadata": {
        "colab": {
          "base_uri": "https://localhost:8080/"
        },
        "id": "lIgvaIWrfVXj",
        "outputId": "970408a4-253a-44ab-f424-26a569c542b3"
      },
      "execution_count": null,
      "outputs": [
        {
          "output_type": "stream",
          "name": "stdout",
          "text": [
            "<class '__main__.Thing'>\n",
            "<__main__.Thing object at 0x7f12f771e090>\n"
          ]
        }
      ]
    },
    {
      "cell_type": "code",
      "source": [
        "#2. Create a new class called Thing2 and add the value 'abc' to the letters class attribute. Letters should be printed.\n",
        "class Thing2:\n",
        "    letters = 'abc'\n",
        "\n",
        "print(Thing2.letters)\n"
      ],
      "metadata": {
        "id": "Lo1ziv2MfVgx"
      },
      "execution_count": null,
      "outputs": []
    },
    {
      "cell_type": "code",
      "source": [
        "#3. Make yet another class called, of course, Thing3. This time, assign the value 'xyz' to an instance (object) attribute called letters. Print letters. Do you need to make an object from the class to do this?\n",
        "class Thing3:\n",
        "    def __init__(self):\n",
        "        self.letters = 'xyz'\n",
        "\n",
        "\n",
        "example = Thing3()\n",
        "print(example.letters)"
      ],
      "metadata": {
        "id": "80bO7gScfVpM"
      },
      "execution_count": null,
      "outputs": []
    },
    {
      "cell_type": "code",
      "source": [
        "#4. Create an Element class with the instance attributes name, symbol, and number. Create a class object with the values 'Hydrogen,' 'H,' and 1.\n",
        "\n",
        "class Element:\n",
        "    def __init__(self, name, symbol, number):\n",
        "        self.name = name\n",
        "        self.symbol = symbol\n",
        "        self.number = number\n",
        "\n",
        "Hydrogen = Element('Hydrogen', 'H', 1)\n"
      ],
      "metadata": {
        "id": "kpXD4emMfVxA"
      },
      "execution_count": null,
      "outputs": []
    },
    {
      "cell_type": "code",
      "source": [
        "#5. Make a dictionary with these keys and values: 'name': 'Hydrogen', 'symbol': 'H', 'number': 1. Then, create an object called hydrogen from class Element using this dictionary.\n",
        "\n",
        "hydrdict = {'name': 'Hydrogen', 'symbol': 'H', 'number': 1}\n",
        "hydrogen = Element(hydrdict['name'], hydrdict['symbol'], hydrdict['number'])"
      ],
      "metadata": {
        "id": "fFvb3UOqfV5U"
      },
      "execution_count": null,
      "outputs": []
    },
    {
      "cell_type": "code",
      "source": [
        "#6. For the Element class, define a method called dump() that prints the values of the object’s attributes (name, symbol, and number).\n",
        "#Create the hydrogen object from this new definition and use dump() to print its attributes.\n",
        "\n",
        "class Element:\n",
        "    def __init__(self, name, symbol, number):\n",
        "        self.name = name\n",
        "        self.symbol = symbol\n",
        "        self.number = number\n",
        "\n",
        "    def dump(self):\n",
        "        print('name:', self.name)\n",
        "        print('symbol:', self.symbol)\n",
        "        print('number:', self.number)\n",
        "\n",
        "hydrdict = {'name': 'Hydrogen', 'symbol': 'H', 'number': 1}\n",
        "hydrogen = Element(hydrdict['name'], hydrdict['symbol'], hydrdict['number'])\n",
        "hydrogen.dump()"
      ],
      "metadata": {
        "colab": {
          "base_uri": "https://localhost:8080/"
        },
        "id": "95hEsIExfWCA",
        "outputId": "1f31b3da-3b51-4b87-8f78-7302c19fc59e"
      },
      "execution_count": null,
      "outputs": [
        {
          "output_type": "stream",
          "name": "stdout",
          "text": [
            "name: Hydrogen\n",
            "symbol: H\n",
            "number: 1\n"
          ]
        }
      ]
    },
    {
      "cell_type": "code",
      "source": [
        "#7. Call print(hydrogen). In the definition of Element, change the name of method dump to __str__, create a new hydrogen object, and call print(hydrogen) again.\n",
        "print(hydrogen)\n",
        "class Element:\n",
        "    def __init__(self, name, symbol, number):\n",
        "        self.name = name\n",
        "        self.symbol = symbol\n",
        "        self.number = number\n",
        "\n",
        "    def __str__(self):\n",
        "        return('name: %s, symbol: %s, number: %s' %(self.name, self.symbol, self.number))\n",
        "\n",
        "hydrdict = {'name': 'Hydrogen', 'symbol': 'H', 'number': 1}\n",
        "hydrogen = Element(hydrdict['name'], hydrdict['symbol'], hydrdict['number'])\n",
        "print(hydrogen)"
      ],
      "metadata": {
        "colab": {
          "base_uri": "https://localhost:8080/"
        },
        "id": "HMOp4kPffWKJ",
        "outputId": "726fc2ad-2231-40fb-b994-e49c57800aef"
      },
      "execution_count": null,
      "outputs": [
        {
          "output_type": "stream",
          "name": "stdout",
          "text": [
            "<__main__.Element object at 0x7f12eb263dd0>\n",
            "name: Hydrogen, symbol: H, number: 1\n"
          ]
        }
      ]
    },
    {
      "cell_type": "code",
      "source": [
        "#8. Modify Element to make the attributes name, symbol, and number private. Define a getter property for each to return its value.\n",
        "\n",
        "class Element:\n",
        "    def __init__(self, name, symbol, number):\n",
        "        self.__name = name\n",
        "        self.__symbol = symbol\n",
        "        self.__number = number\n",
        "\n",
        "    def getname(self):\n",
        "      return self.__name\n",
        "    \n",
        "    def getsymbol(self):\n",
        "      return self.__symbol\n",
        "\n",
        "    def getnumber(self):\n",
        "      return self.__number\n",
        "\n",
        "    def __str__(self):\n",
        "        return('name: %s, symbol: %s, number: %s' %(self.getname(), self.getsymbol(), self.getnumber()))\n",
        "\n",
        "hydrdict = {'name': 'Hydrogen', 'symbol': 'H', 'number': 1}\n",
        "hydrogen = Element(hydrdict['name'], hydrdict['symbol'], hydrdict['number'])\n",
        "print(hydrogen)"
      ],
      "metadata": {
        "id": "pAUhd1llfWTE",
        "colab": {
          "base_uri": "https://localhost:8080/"
        },
        "outputId": "620d1cb4-fb35-4909-a3b8-543ab8d992ea"
      },
      "execution_count": 6,
      "outputs": [
        {
          "output_type": "stream",
          "name": "stdout",
          "text": [
            "name: Hydrogen, symbol: H, number: 1\n",
            "name: Hydrogen symbol: H number: 1\n"
          ]
        }
      ]
    },
    {
      "cell_type": "code",
      "source": [
        "#9. Define three classes: Bear, Rabbit, and Octothorpe. For each, define only one method: eats(). This should return 'berries' (Bear), 'clover' (Rabbit), or 'campers' (Octothorpe).\n",
        "#Create one object from each and print what it eats.\n",
        "\n",
        "class Bear:\n",
        "  def eats(self):\n",
        "    return 'berries'\n",
        "\n",
        "class Rabbit:\n",
        "  def eats(self):\n",
        "    return 'clover'\n",
        "\n",
        "class Octothorpe:\n",
        "  def eats(self):\n",
        "    return 'camper'\n",
        "\n",
        "B = Bear()\n",
        "R = Rabbit()\n",
        "O = Octothorpe()\n",
        "\n",
        "print(B.eats())\n",
        "print(R.eats())\n",
        "print(O.eats())"
      ],
      "metadata": {
        "id": "ggux_hyLfWjF",
        "colab": {
          "base_uri": "https://localhost:8080/"
        },
        "outputId": "c0ad126c-0eac-4157-dbff-5efbb826d835"
      },
      "execution_count": 8,
      "outputs": [
        {
          "output_type": "stream",
          "name": "stdout",
          "text": [
            "berries\n",
            "clover\n",
            "camper\n"
          ]
        }
      ]
    },
    {
      "cell_type": "code",
      "source": [
        "#10. Define these classes: Laser, Claw, and SmartPhone. Each has only one method: does(). This returns 'disintegrate' (Laser), 'crush' (Claw), or 'ring' (SmartPhone).\n",
        "#Then, define the class Robot that has one instance (object) of each of these. Define a does() method for the Robot that prints what its component objects do.\n",
        "\n",
        "class Laser:\n",
        "  def eats(self):\n",
        "    return 'disintegrate'\n",
        "\n",
        "class Claw:\n",
        "  def eats(self):\n",
        "    return 'crush'\n",
        "\n",
        "class SmartPhone:\n",
        "  def eats(self):\n",
        "    return 'ring'\n",
        "\n",
        "class Robot:\n",
        "  l = Laser()\n",
        "  c = Claw()\n",
        "  s = SmartPhone()\n",
        "\n",
        "  def does(self):\n",
        "    print(self.l.eats())\n",
        "    print(self.c.eats())\n",
        "    print(self.s.eats())\n",
        "\n",
        "r = Robot()\n",
        "r.does()\n"
      ],
      "metadata": {
        "id": "uq0hQY0bfWta",
        "colab": {
          "base_uri": "https://localhost:8080/"
        },
        "outputId": "b79b2a52-ba0f-4f54-b67a-afcef632f686"
      },
      "execution_count": 9,
      "outputs": [
        {
          "output_type": "stream",
          "name": "stdout",
          "text": [
            "disintegrate\n",
            "crush\n",
            "ring\n"
          ]
        }
      ]
    }
  ]
}