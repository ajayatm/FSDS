{
  "cells": [
    {
      "cell_type": "raw",
      "metadata": {
        "id": "bq8Dzdj1KwLG"
      },
      "source": [
        "1. Create an assert statement that throws an AssertionError if the variable spam is a negative integer.\n",
        "assert spam >= 0, 'spam is negative'\n",
        "\n",
        "2. Write an assert statement that triggers an AssertionError if the variables eggs and bacon contain strings that are the same as each other, even if their cases are different (that is, 'hello' and 'hello' are considered the same, and 'goodbye' and 'GOODbye' are also considered the same).\n",
        "assert eggs.lower() != bacon.lower(), 'same text'\n",
        "\n",
        "3. Create an assert statement that throws an AssertionError every time.\n",
        "assert 1 < 0, 'Assertion Error'\n",
        "\n",
        "4. What are the two lines that must be present in your software in order to call logging.debug()?\n",
        "import logging\n",
        "logging.basicConfig(level=logging.DEBUG, format=' %(asctime)s -  %(levelname)\n",
        "s -  %(message)s')\n",
        "\n",
        "5. What are the two lines that your program must have in order to have logging.debug() send a logging message to a file named programLog.txt?\n",
        "import logging\n",
        "logging.basicConfig(filename='programLog.txt', level=logging.DEBUG, format='\n",
        "%(asctime)s -  %(levelname)s -  %(message)s')\n",
        "\n",
        "6. What are the five levels of logging?\n",
        "DEBUG\n",
        "INFO\n",
        "WARNING\n",
        "ERROR\n",
        "CRITICAL\n",
        "\n",
        "7. What line of code would you add to your software to disable all logging messages?\n",
        "logging.disable(logging.CRITICAL)\n",
        "\n",
        "8. Why is using logging messages better than using print() to display the same message?\n",
        "Logging can be enabled/disabled easily at a particular level or lower without modifying the logging code. Programmer level messages can be sent to a different output like a file rather than to console.\n",
        "\n",
        "9. What are the differences between the Step Over, Step In, and Step Out buttons in the debugger?\n",
        "Step Over - Executes next line including all lines within an external function call\n",
        "Step In - Executes next line and stops at first line of an external function call\n",
        "Step Out - Executes all the code within current function and returns to the invocation.\n",
        "\n",
        "10. After you click Continue, when will the debugger stop ?\n",
        "Until it reaches a breakpoint or the program terminates.\n",
        "\n",
        "11. What is the concept of a breakpoint?\n",
        "Breakpoint is a functionality of a debugger by which a line of code can be set for stoppage during execution.\n",
        "\n"
      ]
    }
  ],
  "metadata": {
    "colab": {
      "provenance": []
    },
    "kernelspec": {
      "display_name": "Python 3",
      "name": "python3"
    },
    "language_info": {
      "name": "python"
    }
  },
  "nbformat": 4,
  "nbformat_minor": 0
}
