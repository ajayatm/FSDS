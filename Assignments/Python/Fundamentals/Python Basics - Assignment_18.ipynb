{
  "cells": [
    {
      "cell_type": "raw",
      "metadata": {
        "id": "kiDiN4X99SYc"
      },
      "source": [
        "1. Create a zoo.py file first. Define the hours() function, which prints the string 'Open 9-5 daily'. Then, use the interactive interpreter to import the zoo module and call its hours() function.\n",
        "import zoo\n",
        "zoo.hours()\n",
        "\n",
        "2. In the interactive interpreter, import the zoo module as menagerie and call its hours() function.\n",
        "import zoo as menagerie\n",
        "menagerie.hours()\n",
        "\n",
        "3. Using the interpreter, explicitly import and call the hours() function from zoo.\n",
        "from zoo import hours\n",
        "hours()\n",
        "\n",
        "4. Import the hours() function as info and call it.\n",
        "from zoo import hours as info\n",
        "info()\n",
        "\n",
        "5. Create a plain dictionary with the key-value pairs 'a': 1, 'b': 2, and 'c': 3, and print it out.\n",
        "d = {'a': 1, 'b': 2, 'c': 3}\n",
        "print(d)\n",
        "\n",
        "6.Make an OrderedDict called fancy from the same pairs listed in 5 and print it. Did it print in the same order as plain?\n",
        "fancy = OrderedDict({(\"a\", 1), (\"b\", 2), (\"c\", 3)})\n",
        "\n",
        "7. Make a default dictionary called dict_of_lists and pass it the argument list. Make the list dict_of_lists['a'] and append the value 'something for a' to it in one assignment. Print dict_of_lists['a'].\n",
        "dict_of_lists = {'a':[1,2,3,4]}\n",
        "dict_of_lists['a'].append('something for a')\n",
        "\n"
      ]
    }
  ],
  "metadata": {
    "colab": {
      "provenance": []
    },
    "kernelspec": {
      "display_name": "Python 3",
      "name": "python3"
    },
    "language_info": {
      "name": "python"
    }
  },
  "nbformat": 4,
  "nbformat_minor": 0
}
