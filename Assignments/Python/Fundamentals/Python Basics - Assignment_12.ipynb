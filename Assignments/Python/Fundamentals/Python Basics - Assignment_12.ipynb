{
  "cells": [
    {
      "cell_type": "raw",
      "metadata": {
        "id": "t1rdaCSuPRhd"
      },
      "source": [
        "1. In what modes should the PdfFileReader() and PdfFileWriter() File objects will be opened?\n",
        "'rb' for PdfFileReader() and 'wb' for PdfFileWriter()\n",
        "\n",
        "2. From a PdfFileReader object, how do you get a Page object for page 5?\n",
        "getPage(4)\n",
        "\n",
        "3. What PdfFileReader variable stores the number of pages in the PDF document?\n",
        "numPages\n",
        "\n",
        "4. If a PdfFileReader object’s PDF is encrypted with the password swordfish, what must you do before you can obtain Page objects from it?\n",
        "pdfReader.decrypt('swordfish')\n",
        "\n",
        "5. What methods do you use to rotate a page?\n",
        "rotateClockwise() and rotateCounterClockwise() methods\n",
        "\n",
        "6. What is the difference between a Run object and a Paragraph object?\n",
        "At the highest level, a Document object represents the entire document. The Document object contains a list of Paragraph objects for the paragraphs in the document. Each of these Paragraph objects contains a list of one or more Run objects. A Run object is a contiguous run of text with the same style.\n",
        "\n",
        "7. How do you obtain a list of Paragraph objects for a Document object that’s stored in a variable named doc?\n",
        "doc.paragraphs\n",
        "\n",
        "8. What type of object has bold, underline, italic, strike, and outline variables?\n",
        "run\n",
        "\n",
        "9. What is the difference between False, True, and None for the bold variable?\n",
        "True - run object is bolded irrespective of style setting\n",
        "False - run object is unbolded irrespective of style setting\n",
        "None - defaults to whatever the bold style is set to\n",
        "\n",
        "\n",
        "10. How do you create a Document object for a new Word document?\n",
        "call docx.Document() to return a new, blank Word Document object.\n",
        "\n",
        "11. How do you add a paragraph with the text 'Hello, there!' to a Document object stored in a variable named doc?\n",
        "doc.add_paragraph('Hello, there!')\n",
        "\n",
        "12. What integers represent the levels of headings available in Word documents?\n",
        "The integer 0 makes the heading the Title style. Integers 1 to 4 are for various heading levels, with 1 being the main heading and 4 the lowest subheading.\n",
        "\n"
      ]
    }
  ],
  "metadata": {
    "colab": {
      "provenance": []
    },
    "kernelspec": {
      "display_name": "Python 3",
      "name": "python3"
    },
    "language_info": {
      "name": "python"
    }
  },
  "nbformat": 4,
  "nbformat_minor": 0
}
