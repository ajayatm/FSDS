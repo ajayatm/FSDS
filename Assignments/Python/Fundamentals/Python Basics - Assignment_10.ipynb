{
  "cells": [
    {
      "cell_type": "raw",
      "metadata": {
        "id": "qJy4BXHsGcPG"
      },
      "source": [
        "1. How do you distinguish between shutil.copy() and shutil.copytree()?\n",
        "shutil.copytree - Recursively copy an entire directory tree rooted at src to a directory named dst and return the destination directory. All intermediate directories needed to contain dst will also be created by default.\n",
        "shutil.copy - Copies the file src to the file or directory dst. src and dst should be path-like objects or strings. If dst specifies a directory, the file will be copied into dst using the base filename from src. If dst specifies a file that already exists, it will be replaced. Returns the path to the newly created file.\n",
        "\n",
        "2. What function is used to rename files??\n",
        "os.rename()\n",
        "\n",
        "3. What is the difference between the delete functions in the send2trash and shutil modules?\n",
        "Python’s built-in shutil.rmtree() function irreversibly deletes files and folders.\n",
        "Using send2trash will send folders and files to your computer’s trash or recycle bin instead of permanently deleting them.\n",
        "\n",
        "4.ZipFile objects have a close() method just like File objects’ close() method. What ZipFile method is equivalent to File objects’ open() method?\n",
        "zipfile.ZipFile() function\n",
        "\n",
        "5. Create a programme that searches a folder tree for files with a certain file extension (such as .pdf or .jpg). Copy these files from whatever location they are in to a new folder.\n",
        "\n",
        "\n",
        "import os\n",
        "import shutil\n",
        "\n",
        "\n",
        "def findcopy(extension, source, destination):\n",
        "    os.makedirs(destination)\n",
        "    for folderName, subfolders, filenames in os.walk(source):\n",
        "        print('The current folder is ' + folderName)\n",
        "\n",
        "        for subfolder in subfolders:\n",
        "            print('SUBFOLDER OF ' + folderName + ': ' + subfolder)\n",
        "\n",
        "        for filename in filenames:\n",
        "            print('FILE INSIDE ' + folderName + ': ' + filename)\n",
        "            if extension in filename:\n",
        "                src_file = folderName + '\\\\' + filename\n",
        "                dst_file = destination + '\\\\' + filename\n",
        "                print('found', extension, 'in', filename)\n",
        "                shutil.copyfile(src_file, dst_file)\n",
        "    return None"
      ]
    }
  ],
  "metadata": {
    "colab": {
      "provenance": []
    },
    "kernelspec": {
      "display_name": "Python 3",
      "name": "python3"
    },
    "language_info": {
      "name": "python"
    }
  },
  "nbformat": 4,
  "nbformat_minor": 0
}
