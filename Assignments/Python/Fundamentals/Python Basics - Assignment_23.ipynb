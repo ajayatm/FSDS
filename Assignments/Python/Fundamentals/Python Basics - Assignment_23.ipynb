{
  "cells": [
    {
      "cell_type": "raw",
      "metadata": {
        "id": "MjlBH1aBw2ce"
      },
      "source": [
        "1. What is the result of the code, and why?\n",
        ">>> def func(a, b=6, c=8):\n",
        "print(a, b, c)\n",
        ">>> func(1, 2)\n",
        "\n",
        "\n",
        "1 2 8. Values a and b are taken from function invocation and the value of c is taken from function definition as it is not overridden."
      ]
    },
    {
      "cell_type": "raw",
      "metadata": {
        "id": "dNXUA-vNyYJ4"
      },
      "source": [
        "2. What is the result of this code, and why?\n",
        ">>> def func(a, b, c=5):\n",
        "print(a, b, c)\n",
        ">>> func(1, c=3, b=2)\n",
        "\n",
        "1 2 3. Values a, b and c are taken from function invocation."
      ]
    },
    {
      "cell_type": "raw",
      "metadata": {
        "id": "wXnbw3Hmyxhe"
      },
      "source": [
        "3. How about this code: what is its result, and why?\n",
        ">>> def func(a, *pargs):\n",
        "print(a, pargs)\n",
        ">>> func(1, 2, 3)\n",
        "\n",
        "1 (2, 3). First input is taken as the value for a. The remaining is considered as a tuple with all the remainig values in it. So it gets printed as the value of a separately and followed by a tuple with all remaining values in the input. *pargs takes in all remaining values as input arguments."
      ]
    },
    {
      "cell_type": "raw",
      "metadata": {
        "id": "IK3Ew8stzbkL"
      },
      "source": [
        "4. What does this code print, and why?\n",
        ">>> def func(a, **kargs):\n",
        "print(a, kargs)\n",
        ">>> func(a=1, c=3, b=2)\n",
        "\n",
        "1 {'c': 3, 'b': 2}. First input is taken as the value for a. The remaining is considered as a dictionary with all the remainig values in it. So it gets printed as the value of a separately and followed by a dictionary with all remaining values in the input. **kargs takes in all remaining mappings as dictionary values."
      ]
    },
    {
      "cell_type": "raw",
      "metadata": {
        "id": "UrtauMVz09sQ"
      },
      "source": [
        "5. What gets printed by this, and explain?\n",
        ">>> def func(a, b, c=8, d=5): print(a, b, c, d)\n",
        ">>> func(1, *(5, 6))\n",
        "\n",
        "1 5 6 5. Since 5 and 6 are given as mentioned as *(5,6) it is parsed as individual input arguments and b and c get assigned with it."
      ]
    },
    {
      "cell_type": "raw",
      "metadata": {
        "id": "4rx3t1IC2Er3"
      },
      "source": [
        "6. what is the result of this, and explain?\n",
        ">>> def func(a, b, c): a = 2; b[0] = 'x'; c['a'] = 'y'\n",
        ">>> l=1; m=[1]; n={'a':0}\n",
        ">>> func(l, m, n)\n",
        ">>> l, m, n\n",
        "\n",
        "(1, ['x'], {'a': 'y'}). a is immutable integer and the value is not changed. b and c are mutable and gets changed.\n",
        "\n",
        "If you pass immutable arguments like integers, strings or tuples to a function, the passing acts like call-by-value. The object reference is passed to the function parameters. They can't be changed within the function, because they can't be changed at all, i.e. they are immutable. It's different, if we pass mutable arguments. They are also passed by object reference, but they can be changed in place within the function. If we pass a list to a function, we have to consider two cases: Elements of a list can be changed in place, i.e. the list will be changed even in the caller's scope. If a new list is assigned to the name, the old list will not be affected, i.e. the list in the caller's scope will remain untouched."
      ]
    }
  ],
  "metadata": {
    "colab": {
      "provenance": []
    },
    "kernelspec": {
      "display_name": "Python 3",
      "name": "python3"
    },
    "language_info": {
      "name": "python"
    }
  },
  "nbformat": 4,
  "nbformat_minor": 0
}
