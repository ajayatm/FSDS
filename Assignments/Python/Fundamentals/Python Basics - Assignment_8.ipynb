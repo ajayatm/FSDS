{
  "cells": [
    {
      "cell_type": "raw",
      "metadata": {
        "id": "ARUwIBIK_dZ9"
      },
      "source": [
        "1. Is the Python Standard Library included with PyInputPlus?\n",
        "PyInputPlus is not a part of the Python Standard Library\n",
        "\n",
        "2. Why is PyInputPlus commonly imported with import pyinputplus as pypi?\n",
        "You can import the module with import pyinputplus as pypi so that you can enter a shorter name when calling the module's functions.\n",
        "\n",
        "3. How do you distinguish between inputInt() and inputFloat()?\n",
        "The inputInt() function returns an int value, while the inputFloat() function returns a float value.\n",
        "\n",
        "4. Using PyInputPlus, how do you ensure that the user enters a whole number between 0 and 99?\n",
        "Call pyip.inputint(min=0, max=99).\n",
        "\n",
        "5. What is transferred to the keyword arguments allowRegexes and blockRegexes?\n",
        "A list of regex strings that are either explicitly allowed or denied\n",
        "\n",
        "6. If a blank input is entered three times, what does inputStr(limit=3) do?\n",
        "The function will raise RetryLimitException.\n",
        "\n",
        "7. If blank input is entered three times, what does inputStr(limit=3, default='hello') do?\n",
        "The function returns the value 'hello'."
      ]
    }
  ],
  "metadata": {
    "colab": {
      "provenance": []
    },
    "kernelspec": {
      "display_name": "Python 3",
      "name": "python3"
    },
    "language_info": {
      "name": "python"
    }
  },
  "nbformat": 4,
  "nbformat_minor": 0
}
