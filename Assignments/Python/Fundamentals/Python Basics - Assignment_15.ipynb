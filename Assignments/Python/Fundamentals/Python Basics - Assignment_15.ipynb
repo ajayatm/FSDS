{
  "cells": [
    {
      "cell_type": "raw",
      "metadata": {
        "id": "kiDiN4X99SYc"
      },
      "source": [
        "1.How many seconds are in an hour? Use the interactive interpreter as a calculator and multiply the number of seconds in a minute (60) by the number of minutes in an hour (also 60).\n",
        "60 * 60 = 3600 seconds\n",
        "\n",
        "2. Assign the result from the previous task (seconds in an hour) to a variable called seconds_per_hour.\n",
        "seconds_per_hour = 3600\n",
        "\n",
        "3. How many seconds do you think there are in a day? Make use of the variables seconds per hour and minutes per hour.\n",
        "seconds_per_day = seconds_per_hour * 24\n",
        "\n",
        "4. Calculate seconds per day again, but this time save the result in a variable called seconds_per_day\n",
        "seconds_per_day = 86400\n",
        "\n",
        "5. Divide seconds_per_day by seconds_per_hour. Use floating-point (/) division.\n",
        "seconds_per_day/seconds_per_hour = 24.0\n",
        "\n",
        "6. Divide seconds_per_day by seconds_per_hour, using integer (//) division. Did this number agree with the floating-point value from the previous question, aside from the final .0?\n",
        "seconds_per_day//seconds_per_hour = 24\n",
        "\n",
        "7. Write a generator, genPrimes, that returns the sequence of prime numbers on successive calls to its next() method: 2, 3, 5, 7, 11, ...\n",
        "def genprimes(num):\n",
        "    primes = [2]\n",
        "    yield 2\n",
        "    for k in range(3, num, 2):\n",
        "        flag = True\n",
        "        for j in primes:\n",
        "            if k % j == 0:\n",
        "                flag = False\n",
        "        if flag:\n",
        "            primes.append(k)\n",
        "            yield k\n",
        "\n"
      ]
    }
  ],
  "metadata": {
    "colab": {
      "provenance": []
    },
    "kernelspec": {
      "display_name": "Python 3",
      "name": "python3"
    },
    "language_info": {
      "name": "python"
    }
  },
  "nbformat": 4,
  "nbformat_minor": 0
}
