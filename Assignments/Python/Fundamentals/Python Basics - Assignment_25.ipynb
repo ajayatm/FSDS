{
  "cells": [
    {
      "cell_type": "raw",
      "metadata": {
        "id": "Jr8_LK50YlVn"
      },
      "source": [
        "1) What is the difference between enclosing a list comprehension in square brackets and parentheses?\n",
        "\n",
        "square brackets are used for generator expressions whereas parentheses are used for list comprehension."
      ]
    },
    {
      "cell_type": "raw",
      "metadata": {
        "id": "vgKIZ3lJaYYj"
      },
      "source": [
        "2) What is the relationship between generators and iterators?\n",
        "\n",
        "An iterator is an object which contains a countable number of values and it is used to iterate over iterable objects like list, tuples, sets, etc.\n",
        "A python generator function returns a sequence of values to python iterate on.\n",
        "\n",
        "Every generator is an iterator. Every iterator is not a generator.\n",
        "Generators are mostly used in loops to generate an iterator by returning all the values in the loop without affecting the iteration of the loop."
      ]
    },
    {
      "cell_type": "raw",
      "metadata": {
        "id": "T2_8dl58dBz9"
      },
      "source": [
        "3) What are the signs that a function is a generator function?\n",
        "\n",
        "If it has yield keyword is used in a loop then it is a generator function."
      ]
    },
    {
      "cell_type": "raw",
      "metadata": {
        "id": "R1KbNCy5du_U"
      },
      "source": [
        "4) What is the purpose of a yield statement?\n",
        "\n",
        "The yield keyword returns the data without affecting or exiting the function. It will return a sequence of data in an iterable format where we need to iterate over the sequence to use the data as they won’t store the entire sequence in the memory."
      ]
    },
    {
      "cell_type": "raw",
      "metadata": {
        "id": "IJKlXjcreVIX"
      },
      "source": [
        "5) What is the relationship between map calls and list comprehensions? Make a comparison and contrast between the two.\n",
        "\n",
        "Map takes in a function and an iterable and operates the function on the iterable and returns an iterator.\n",
        "List Comprehension is a substitute for map().\n",
        "\n",
        "List comprehension is more concise and easier to read as compared to map.\n",
        "List comprehension allows filtering.\n",
        "List comprehension is faster than map when we need to evaluate expressions that are too long or complicated to express\n",
        "Map is faster in case of calling an already defined function (as no lambda is required)\n"
      ]
    }
  ],
  "metadata": {
    "colab": {
      "provenance": []
    },
    "kernelspec": {
      "display_name": "Python 3",
      "name": "python3"
    },
    "language_info": {
      "name": "python"
    }
  },
  "nbformat": 4,
  "nbformat_minor": 0
}
