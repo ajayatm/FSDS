{
 "cells": [
  {
   "cell_type": "raw",
   "metadata": {
    "cell_id": "17e22300-f05b-4c55-baf7-f21ef874e780",
    "deepnote_cell_height": 690.8125,
    "deepnote_cell_type": "markdown",
    "tags": []
   },
   "source": [
    "1. What does an empty dictionary's code look like?\n",
    "emptydict = {}\n",
    "\n",
    "2. What is the value of a dictionary value with the key 'foo' and the value 42?\n",
    "{'foo':42}\n",
    "\n",
    "3. What is the most significant distinction between a dictionary and a list?\n",
    "Dictionary is unordered collection of key-value pairs.\n",
    "List is an ordered collection of objects.\n",
    "\n",
    "4. What happens if you try to access spam['foo'] if spam is {'bar': 100}?\n",
    "KeyError: 'foo'\n",
    "\n",
    "5. If a dictionary is stored in spam, what is the difference between the expressions 'cat' in spam and 'cat' in spam.keys()?\n",
    "No difference\n",
    "\n",
    "6. If a dictionary is stored in spam, what is the difference between the expressions 'cat' in spam and 'cat' in spam.values()?\n",
    "'cat' in spam matches 'cat' to every key in spam.\n",
    "'cat' in spam.values() matches 'cat' to every value in spam.\n",
    "\n",
    "\n",
    "7. What is a shortcut for the following code?\n",
    "if 'color' not in spam:\n",
    "spam['color'] = 'black'\n",
    "spam.setdefault('color', 'black')\n",
    "\n",
    "8. How do you \"pretty print\" dictionary values using which module and function?\n",
    "pprint.pprint()"
   ]
  }
 ],
 "metadata": {
  "deepnote": {},
  "deepnote_execution_queue": [],
  "deepnote_notebook_id": "3d668106-7529-4904-9ec2-6793c7345d37",
  "deepnote_persisted_session": {
   "createdAt": "2022-08-29T19:31:37.904Z",
   "filename": "session_dump_3d668106-7529-4904-9ec2-6793c7345d37.pkl"
  },
  "language_info": {
   "name": "python"
  },
  "orig_nbformat": 2
 },
 "nbformat": 4,
 "nbformat_minor": 2
}
