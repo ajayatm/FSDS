{
  "cells": [
    {
      "cell_type": "raw",
      "metadata": {
        "id": "kiDiN4X99SYc"
      },
      "source": [
        "1. Create a list called years_list, starting with the year of your birth, and each year thereafter until the year of your fifth birthday. For example, if you were born in 1980. the list would be years_list = [1980, 1981, 1982, 1983, 1984, 1985].\n",
        "years_list = [1981, 1982, 1983, 1984, 1985, 1986]\n",
        "\n",
        "2. In which year in years_list was your third birthday? Remember, you were 0 years of age for your first year.\n",
        "years_list[3]\n",
        "\n",
        "3.In the years list, which year were you the oldest?\n",
        "years_list[-1]\n",
        "\n",
        "4. Make a list called things with these three strings as elements: \"mozzarella\", \"cinderella\", \"salmonella\".\n",
        "things = [\"mozzarella\", \"cinderella\", \"salmonella\"]\n",
        "\n",
        "\n",
        "5. Capitalize the element in things that refers to a person and then print the list. Did it change the element in the list?\n",
        "things[1].capitalize()\n",
        "It did not change the element in the list.\n",
        "\n",
        "6. Make a surprise list with the elements \"Groucho,\" \"Chico,\" and \"Harpo.\"\n",
        "surprise = [\"Groucho,\" \"Chico\", \"Harpo\"]\n",
        "\n",
        "7. Lowercase the last element of the surprise list, reverse it, and then capitalize it.\n",
        "a = surprise[-1].lower()\n",
        "b = a[::-1]\n",
        "c = b.capitalize()\n",
        "\n",
        "8. Make an English-to-French dictionary called e2f and print it. Here are your starter words: dog is chien, cat is chat, and walrus is morse.\n",
        "e2f = {'dog':'chien', 'cat':'chat', 'walrus':'morse'}\n",
        "print(e2f) --> {'dog': 'chien', 'cat': 'chat', 'walrus': 'morse'}\n",
        "\n",
        "9. Write the French word for walrus in your three-word dictionary e2f.\n",
        "e2f['walrus']\n",
        "\n",
        "10. Make a French-to-English dictionary called f2e from e2f. Use the items method.\n",
        "f2e = {}\n",
        "for k,v in e2f.items():\n",
        "    f2e[v] = k\n",
        "\n",
        "11. Print the English version of the French word chien using f2e.\n",
        "print(f2e['chien']) --> dog\n",
        "\n",
        "12. Make and print a set of English words from the keys in e2f.\n",
        "m = []\n",
        "for i in e2f:\n",
        "    m.append(i)\n",
        "m = set(m)\n",
        "print(m)\n",
        "\n",
        "13. Make a multilevel dictionary called life. Use these strings for the topmost keys: 'animals', 'plants', and 'other'. Make the 'animals' key refer to another dictionary with the keys 'cats', 'octopi', and 'emus'. Make the 'cats' key refer to a list of strings with the values 'Henri', 'Grumpy', and 'Lucy'. Make all the other keys refer to empty dictionaries.\n",
        "life = {'animals':{'cats':{'Henri', 'Grumpy', 'Lucy'}, 'octopi':{}, 'emus':{}}, 'plants':{}, 'other':{}}\n",
        "\n",
        "14. Print the top-level keys of life.\n",
        "for j in life:\n",
        "    print(j)\n",
        "\n",
        "15. Print the keys for life['animals'].\n",
        "for j in life['animals']:\n",
        "    print(j)\n",
        "\n",
        "16. Print the values for life['animals']['cats']\n",
        "for j in life['animals']['cats']:\n",
        "    print(j)\n"
      ]
    }
  ],
  "metadata": {
    "colab": {
      "provenance": []
    },
    "kernelspec": {
      "display_name": "Python 3",
      "name": "python3"
    },
    "language_info": {
      "name": "python"
    }
  },
  "nbformat": 4,
  "nbformat_minor": 0
}
