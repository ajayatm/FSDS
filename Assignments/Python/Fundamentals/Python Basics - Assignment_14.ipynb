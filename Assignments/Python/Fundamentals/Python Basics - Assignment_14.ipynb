{
  "cells": [
    {
      "cell_type": "raw",
      "metadata": {
        "id": "kiDiN4X99SYc"
      },
      "source": [
        "1. What does RGBA stand for?\n",
        "An RGBA value is a group of numbers that specify the amount of red, green, blue, and alpha (or transparency) in a color.\n",
        "\n",
        "2. From the Pillow module, how do you get the RGBA value of any color?\n",
        "ImageColor.getcolor('color', 'RGBA')\n",
        "\n",
        "3. What is a box tuple, and how does it work?\n",
        "A tuple of four integer coordinates that represent a rectangular region in an image. x coordinate, y coordinate, width, height.\n",
        "\n",
        "4. Use your image and load in notebook then, How can you find out the width and height of an Image object?\n",
        "image.size\n",
        "\n",
        "5. What method would you call to get Image object for a 100×100 image, excluding the lower-left quarter of it?\n",
        "image.crop((0, 50, 50, 50))\n",
        "\n",
        "6. After making changes to an Image object, how could you save it as an image file?\n",
        "imageobj.save('newfilename') method\n",
        "\n",
        "7. What module contains Pillow’s shape-drawing code?\n",
        "ImageDraw \n",
        "\n",
        "8. Image objects do not have drawing methods. What kind of object does? How do you get this kind of object?\n",
        "ImageDraw. Pass the Image object to the ImageDraw.Draw() function to receive an ImageDraw object.\n"
      ]
    }
  ],
  "metadata": {
    "colab": {
      "provenance": []
    },
    "kernelspec": {
      "display_name": "Python 3",
      "name": "python3"
    },
    "language_info": {
      "name": "python"
    }
  },
  "nbformat": 4,
  "nbformat_minor": 0
}
