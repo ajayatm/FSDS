{
 "cells": [
  {
   "cell_type": "raw",
   "id": "de4cb7b2",
   "metadata": {},
   "source": [
    "1. Why are functions advantageous to have in your programs?\n",
    "\n",
    "Functions contain code which can be repreatedly invoked and executed. This relieves from developing the code before each execution. \n",
    "Syntax errors are handled during the definition of the function and only runtime errors need to handled during execution.\n",
    "\n",
    "By defining code as function helps in modularizing the code and abstract the implementation from end user."
   ]
  },
  {
   "cell_type": "raw",
   "id": "ec860d28",
   "metadata": {},
   "source": [
    "2. When does the code in a function run: when it's specified or when it's called?\n",
    "\n",
    "The code inside a function is executed during it's invocation."
   ]
  },
  {
   "cell_type": "raw",
   "id": "f593f285",
   "metadata": {},
   "source": [
    "3. What statement creates a function?\n",
    "\n",
    "'def' statement creates a function"
   ]
  },
  {
   "cell_type": "raw",
   "id": "1ce230ed",
   "metadata": {},
   "source": [
    "4. What is the difference between a function and a function call?\n",
    "\n",
    "function is the declaration\n",
    "function call is the invocation and subsequent execution"
   ]
  },
  {
   "cell_type": "raw",
   "id": "1755cddb",
   "metadata": {},
   "source": [
    "5. How many global scopes are there in a Python program? How many local scopes?\n",
    "\n",
    "There is one global scope in a Python program.\n",
    "There could be multiple location scopes depending on the number of code blocks during execution."
   ]
  },
  {
   "cell_type": "raw",
   "id": "f4b9532c",
   "metadata": {},
   "source": [
    "6. What happens to variables in a local scope when the function call returns?\n",
    "\n",
    "The memory location of the variables are freed and the variables cannot be accessed anymore."
   ]
  },
  {
   "cell_type": "raw",
   "id": "580287e1",
   "metadata": {},
   "source": [
    "7. What is the concept of a return value? Is it possible to have a return value in an expression?\n",
    "\n",
    "return keyword provides the function caller a python object as the result of a function execution. \n",
    "return keyword along with an expression results in the value of the expression send back.\n"
   ]
  },
  {
   "cell_type": "raw",
   "id": "007609d1",
   "metadata": {},
   "source": [
    "8. If a function does not have a return statement, what is the return value of a call to that function?\n",
    "\n",
    "None"
   ]
  },
  {
   "cell_type": "raw",
   "id": "fb82f907",
   "metadata": {},
   "source": [
    "9. How do you make a function variable refer to the global variable?\n",
    "\n",
    "global variables are accessible from inside a function. The local variable should be able to refer global variables directly."
   ]
  },
  {
   "cell_type": "raw",
   "id": "ae277efb",
   "metadata": {},
   "source": [
    "10. What is the data type of None?\n",
    "NoneType"
   ]
  },
  {
   "cell_type": "raw",
   "id": "4c738f7a",
   "metadata": {},
   "source": [
    "11. What does the sentence import areallyourpetsnamederic do?\n",
    "It imports a module named 'areallyourpetsnamederic' along with all the code in it within the current module"
   ]
  },
  {
   "cell_type": "raw",
   "id": "7b823c64",
   "metadata": {},
   "source": [
    "12. If you had a bacon() feature in a spam module, what would you call it after importing spam?\n",
    "spam.bacon()"
   ]
  },
  {
   "cell_type": "raw",
   "id": "e47f48a5",
   "metadata": {},
   "source": [
    "13. What can you do to save a programme from crashing if it encounters an error?\n",
    "Use exception handling"
   ]
  },
  {
   "cell_type": "raw",
   "id": "4b053a7e",
   "metadata": {},
   "source": [
    "14. What is the purpose of the try clause? What is the purpose of the except clause?\n",
    "The code block within try clause is checked during execution for runtime errors and the execution is stopped on the first occurrence of a runtime exception. \n",
    "The code within except block is executed if the exception type matches to what is mentioned in the except clause."
   ]
  }
 ],
 "metadata": {
  "kernelspec": {
   "display_name": "Python 3 (ipykernel)",
   "language": "python",
   "name": "python3"
  },
  "language_info": {
   "codemirror_mode": {
    "name": "ipython",
    "version": 3
   },
   "file_extension": ".py",
   "mimetype": "text/x-python",
   "name": "python",
   "nbconvert_exporter": "python",
   "pygments_lexer": "ipython3",
   "version": "3.9.12"
  }
 },
 "nbformat": 4,
 "nbformat_minor": 5
}
