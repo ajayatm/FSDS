{
  "cells": [
    {
      "cell_type": "raw",
      "metadata": {
        "id": "kiDiN4X99SYc"
      },
      "source": [
        "1. What advantages do Excel spreadsheets have over CSV spreadsheets?\n",
        "Excel spreadsheets have formatting and other features which CSV does not support.\n",
        "\n",
        "2.What do you pass to csv.reader() and csv.writer() to create reader and writer objects?\n",
        "open csv file object\n",
        "\n",
        "3. What modes do File objects for reader and writer objects need to be opened in?\n",
        "'r' and 'w' modes\n",
        "\n",
        "4. What method takes a list argument and writes it to a CSV file?\n",
        "writerow()\n",
        "\n",
        "5. What do the keyword arguments delimiter and line terminator do?\n",
        "The delimiter argument is to assign string as cell separator between cells on a row.\n",
        "The line terminator argument is to assign string as separator between rows.\n",
        "\n",
        "6. What function takes a string of JSON data and returns a Python data structure?\n",
        "json.loads() function\n",
        "\n",
        "7. What function takes a Python data structure and returns a string of JSON data?\n",
        "json.dumps()\n"
      ]
    }
  ],
  "metadata": {
    "colab": {
      "provenance": []
    },
    "kernelspec": {
      "display_name": "Python 3",
      "name": "python3"
    },
    "language_info": {
      "name": "python"
    }
  },
  "nbformat": 4,
  "nbformat_minor": 0
}
