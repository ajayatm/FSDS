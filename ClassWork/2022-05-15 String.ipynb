{
 "cells": [
  {
   "cell_type": "code",
   "execution_count": 1,
   "id": "56f69e0a",
   "metadata": {},
   "outputs": [
    {
     "data": {
      "text/plain": [
       "str"
      ]
     },
     "execution_count": 1,
     "metadata": {},
     "output_type": "execute_result"
    }
   ],
   "source": [
    "a = 'Ajay Mani'\n",
    "type(a)"
   ]
  },
  {
   "cell_type": "code",
   "execution_count": 2,
   "id": "8f3eb9f2",
   "metadata": {},
   "outputs": [
    {
     "data": {
      "text/plain": [
       "'A'"
      ]
     },
     "execution_count": 2,
     "metadata": {},
     "output_type": "execute_result"
    }
   ],
   "source": [
    "a[0]"
   ]
  },
  {
   "cell_type": "code",
   "execution_count": 3,
   "id": "d1d85689",
   "metadata": {},
   "outputs": [
    {
     "data": {
      "text/plain": [
       "'M'"
      ]
     },
     "execution_count": 3,
     "metadata": {},
     "output_type": "execute_result"
    }
   ],
   "source": [
    "a[5]"
   ]
  },
  {
   "cell_type": "code",
   "execution_count": 4,
   "id": "7363fb18",
   "metadata": {},
   "outputs": [
    {
     "data": {
      "text/plain": [
       "'i'"
      ]
     },
     "execution_count": 4,
     "metadata": {},
     "output_type": "execute_result"
    }
   ],
   "source": [
    "a[-1]"
   ]
  },
  {
   "cell_type": "code",
   "execution_count": 5,
   "id": "c016588a",
   "metadata": {},
   "outputs": [
    {
     "data": {
      "text/plain": [
       "10"
      ]
     },
     "execution_count": 5,
     "metadata": {},
     "output_type": "execute_result"
    }
   ],
   "source": [
    "10"
   ]
  },
  {
   "cell_type": "code",
   "execution_count": 6,
   "id": "e723eefe",
   "metadata": {},
   "outputs": [
    {
     "data": {
      "text/plain": [
       "'jay '"
      ]
     },
     "execution_count": 6,
     "metadata": {},
     "output_type": "execute_result"
    }
   ],
   "source": [
    "a[1:5]"
   ]
  },
  {
   "cell_type": "code",
   "execution_count": 7,
   "id": "a9cb8360",
   "metadata": {},
   "outputs": [],
   "source": [
    "b = \"Let's go and change the world!\""
   ]
  },
  {
   "cell_type": "code",
   "execution_count": 8,
   "id": "cce520f3",
   "metadata": {},
   "outputs": [
    {
     "data": {
      "text/plain": [
       "\"Let's go and change the world!\""
      ]
     },
     "execution_count": 8,
     "metadata": {},
     "output_type": "execute_result"
    }
   ],
   "source": [
    "b[:30]"
   ]
  },
  {
   "cell_type": "code",
   "execution_count": 9,
   "id": "40592112",
   "metadata": {},
   "outputs": [
    {
     "data": {
      "text/plain": [
       "30"
      ]
     },
     "execution_count": 9,
     "metadata": {},
     "output_type": "execute_result"
    }
   ],
   "source": [
    "len(b)"
   ]
  },
  {
   "cell_type": "code",
   "execution_count": 10,
   "id": "28864b0e",
   "metadata": {},
   "outputs": [
    {
     "data": {
      "text/plain": [
       "'!'"
      ]
     },
     "execution_count": 10,
     "metadata": {},
     "output_type": "execute_result"
    }
   ],
   "source": [
    "b[29]"
   ]
  },
  {
   "cell_type": "code",
   "execution_count": 11,
   "id": "b1183753",
   "metadata": {},
   "outputs": [
    {
     "data": {
      "text/plain": [
       "\"Let's go and change the world\""
      ]
     },
     "execution_count": 11,
     "metadata": {},
     "output_type": "execute_result"
    }
   ],
   "source": [
    "b[0:29]"
   ]
  },
  {
   "cell_type": "code",
   "execution_count": 12,
   "id": "714b1ee3",
   "metadata": {},
   "outputs": [
    {
     "data": {
      "text/plain": [
       "'Ltsg n hnetewrd'"
      ]
     },
     "execution_count": 12,
     "metadata": {},
     "output_type": "execute_result"
    }
   ],
   "source": [
    "b[::2]"
   ]
  },
  {
   "cell_type": "code",
   "execution_count": 13,
   "id": "4390b009",
   "metadata": {},
   "outputs": [
    {
     "data": {
      "text/plain": [
       "9"
      ]
     },
     "execution_count": 13,
     "metadata": {},
     "output_type": "execute_result"
    }
   ],
   "source": [
    "c = 'sudhanshu'\n",
    "len(c)"
   ]
  },
  {
   "cell_type": "code",
   "execution_count": 15,
   "id": "a9e7eadc",
   "metadata": {},
   "outputs": [
    {
     "data": {
      "text/plain": [
       "'sudhanshu'"
      ]
     },
     "execution_count": 15,
     "metadata": {},
     "output_type": "execute_result"
    }
   ],
   "source": [
    "c[0:9:1]"
   ]
  },
  {
   "cell_type": "code",
   "execution_count": 16,
   "id": "05e935d1",
   "metadata": {},
   "outputs": [
    {
     "data": {
      "text/plain": [
       "'uhsnahdu'"
      ]
     },
     "execution_count": 16,
     "metadata": {},
     "output_type": "execute_result"
    }
   ],
   "source": [
    "c[8:0:-1]"
   ]
  },
  {
   "cell_type": "code",
   "execution_count": 17,
   "id": "3c3dc5ac",
   "metadata": {},
   "outputs": [
    {
     "data": {
      "text/plain": [
       "''"
      ]
     },
     "execution_count": 17,
     "metadata": {},
     "output_type": "execute_result"
    }
   ],
   "source": [
    "c[8:-1:-1]"
   ]
  },
  {
   "cell_type": "code",
   "execution_count": 18,
   "id": "4062d160",
   "metadata": {},
   "outputs": [
    {
     "data": {
      "text/plain": [
       "'uhsnahdu'"
      ]
     },
     "execution_count": 18,
     "metadata": {},
     "output_type": "execute_result"
    }
   ],
   "source": [
    "c[9:0:-1]"
   ]
  },
  {
   "cell_type": "code",
   "execution_count": 19,
   "id": "bc12ece1",
   "metadata": {},
   "outputs": [
    {
     "data": {
      "text/plain": [
       "'sudhan'"
      ]
     },
     "execution_count": 19,
     "metadata": {},
     "output_type": "execute_result"
    }
   ],
   "source": [
    "c[:-3]"
   ]
  },
  {
   "cell_type": "code",
   "execution_count": 20,
   "id": "4baca894",
   "metadata": {},
   "outputs": [
    {
     "data": {
      "text/plain": [
       "'hu'"
      ]
     },
     "execution_count": 20,
     "metadata": {},
     "output_type": "execute_result"
    }
   ],
   "source": [
    "c[-2:]"
   ]
  },
  {
   "cell_type": "code",
   "execution_count": 21,
   "id": "0a1aff5e",
   "metadata": {},
   "outputs": [
    {
     "data": {
      "text/plain": [
       "'sudhanshu'"
      ]
     },
     "execution_count": 21,
     "metadata": {},
     "output_type": "execute_result"
    }
   ],
   "source": [
    "c[::1]"
   ]
  },
  {
   "cell_type": "code",
   "execution_count": 22,
   "id": "0470bdc1",
   "metadata": {},
   "outputs": [
    {
     "data": {
      "text/plain": [
       "\"!dlrow eht egnahc dna og s'teL\""
      ]
     },
     "execution_count": 22,
     "metadata": {},
     "output_type": "execute_result"
    }
   ],
   "source": [
    "b[::-1]"
   ]
  },
  {
   "cell_type": "code",
   "execution_count": 23,
   "id": "e1688d9f",
   "metadata": {},
   "outputs": [
    {
     "data": {
      "text/plain": [
       "''"
      ]
     },
     "execution_count": 23,
     "metadata": {},
     "output_type": "execute_result"
    }
   ],
   "source": [
    "b[-2:-7:1]"
   ]
  },
  {
   "cell_type": "code",
   "execution_count": 24,
   "id": "bdb877ce",
   "metadata": {},
   "outputs": [
    {
     "data": {
      "text/plain": [
       "'dlrow'"
      ]
     },
     "execution_count": 24,
     "metadata": {},
     "output_type": "execute_result"
    }
   ],
   "source": [
    "b[-2:-7:-1]"
   ]
  },
  {
   "cell_type": "code",
   "execution_count": 25,
   "id": "f7e3df7d",
   "metadata": {},
   "outputs": [
    {
     "data": {
      "text/plain": [
       "\"'s go and change the worl\""
      ]
     },
     "execution_count": 25,
     "metadata": {},
     "output_type": "execute_result"
    }
   ],
   "source": [
    "b[-27:-2:1]"
   ]
  },
  {
   "cell_type": "code",
   "execution_count": 26,
   "id": "1bc4a6ad",
   "metadata": {},
   "outputs": [
    {
     "data": {
      "text/plain": [
       "\"Let's go and change the world!\""
      ]
     },
     "execution_count": 26,
     "metadata": {},
     "output_type": "execute_result"
    }
   ],
   "source": [
    "b[::]"
   ]
  },
  {
   "cell_type": "code",
   "execution_count": 27,
   "id": "02a4f729",
   "metadata": {},
   "outputs": [
    {
     "ename": "TypeError",
     "evalue": "can only concatenate str (not \"int\") to str",
     "output_type": "error",
     "traceback": [
      "\u001b[1;31m---------------------------------------------------------------------------\u001b[0m",
      "\u001b[1;31mTypeError\u001b[0m                                 Traceback (most recent call last)",
      "Input \u001b[1;32mIn [27]\u001b[0m, in \u001b[0;36m<cell line: 1>\u001b[1;34m()\u001b[0m\n\u001b[1;32m----> 1\u001b[0m \u001b[43mb\u001b[49m\u001b[43m \u001b[49m\u001b[38;5;241;43m+\u001b[39;49m\u001b[43m \u001b[49m\u001b[38;5;241;43m1\u001b[39;49m\n",
      "\u001b[1;31mTypeError\u001b[0m: can only concatenate str (not \"int\") to str"
     ]
    }
   ],
   "source": [
    "b + 1"
   ]
  },
  {
   "cell_type": "code",
   "execution_count": 28,
   "id": "8114f3b6",
   "metadata": {},
   "outputs": [
    {
     "data": {
      "text/plain": [
       "\"Let's go and change the world!1\""
      ]
     },
     "execution_count": 28,
     "metadata": {},
     "output_type": "execute_result"
    }
   ],
   "source": [
    "b + '1'"
   ]
  },
  {
   "cell_type": "code",
   "execution_count": 29,
   "id": "e7e1ad7e",
   "metadata": {},
   "outputs": [
    {
     "data": {
      "text/plain": [
       "\"Let's go and change the world!\""
      ]
     },
     "execution_count": 29,
     "metadata": {},
     "output_type": "execute_result"
    }
   ],
   "source": [
    "b"
   ]
  },
  {
   "cell_type": "code",
   "execution_count": 31,
   "id": "440b0128",
   "metadata": {},
   "outputs": [
    {
     "data": {
      "text/plain": [
       "2"
      ]
     },
     "execution_count": 31,
     "metadata": {},
     "output_type": "execute_result"
    }
   ],
   "source": [
    "b.count('a')"
   ]
  },
  {
   "cell_type": "code",
   "execution_count": 32,
   "id": "77a57c52",
   "metadata": {},
   "outputs": [
    {
     "data": {
      "text/plain": [
       "[\"Let's go and change the world!\"]"
      ]
     },
     "execution_count": 32,
     "metadata": {},
     "output_type": "execute_result"
    }
   ],
   "source": [
    "b.split('u')"
   ]
  },
  {
   "cell_type": "code",
   "execution_count": 33,
   "id": "bb20c774",
   "metadata": {},
   "outputs": [
    {
     "data": {
      "text/plain": [
       "[\"Let's\", 'go', 'and', 'change', 'the', 'world!']"
      ]
     },
     "execution_count": 33,
     "metadata": {},
     "output_type": "execute_result"
    }
   ],
   "source": [
    "b.split(' ')"
   ]
  },
  {
   "cell_type": "code",
   "execution_count": 34,
   "id": "24f11577",
   "metadata": {},
   "outputs": [],
   "source": [
    "d = '''Will P. Brady (1876–1943) was an American lawyer, the first district attorney for Texas's 70th judicial district from 1909 to around 1914, and the judge for the El Paso County Court at Law from 1917 to 1919. Brady was born to a pioneering Austin family and grew up there. After service as a teacher in Travis County, Texas, he served as county school superintendent from 1900 to 1904. He then became a lawyer, and spent several years in private practice. As district attorney, Brady prosecuted several high-profile murder cases, including one that has since been termed a \"legal lynching\", a death penalty case of a Mexican boy charged with killing a white woman. Brady moved to El Paso in 1915 and resumed private practice, but was soon named a judge. He resigned in 1919 and moved to California to pursue interests in oil. Brady was a Democrat and deeply involved in public affairs throughout his adult life. He also incorporated both the Cruces Oil Corporation and the Pecos Valley Southern Railway.'''"
   ]
  },
  {
   "cell_type": "code",
   "execution_count": 35,
   "id": "cf0346e8",
   "metadata": {},
   "outputs": [
    {
     "data": {
      "text/plain": [
       "['Will',\n",
       " 'P.',\n",
       " 'Brady',\n",
       " '(1876–1943)',\n",
       " 'was',\n",
       " 'an',\n",
       " 'American',\n",
       " 'lawyer,',\n",
       " 'the',\n",
       " 'first',\n",
       " 'district',\n",
       " 'attorney',\n",
       " 'for',\n",
       " \"Texas's\",\n",
       " '70th',\n",
       " 'judicial',\n",
       " 'district',\n",
       " 'from',\n",
       " '1909',\n",
       " 'to',\n",
       " 'around',\n",
       " '1914,',\n",
       " 'and',\n",
       " 'the',\n",
       " 'judge',\n",
       " 'for',\n",
       " 'the',\n",
       " 'El',\n",
       " 'Paso',\n",
       " 'County',\n",
       " 'Court',\n",
       " 'at',\n",
       " 'Law',\n",
       " 'from',\n",
       " '1917',\n",
       " 'to',\n",
       " '1919.',\n",
       " 'Brady',\n",
       " 'was',\n",
       " 'born',\n",
       " 'to',\n",
       " 'a',\n",
       " 'pioneering',\n",
       " 'Austin',\n",
       " 'family',\n",
       " 'and',\n",
       " 'grew',\n",
       " 'up',\n",
       " 'there.',\n",
       " 'After',\n",
       " 'service',\n",
       " 'as',\n",
       " 'a',\n",
       " 'teacher',\n",
       " 'in',\n",
       " 'Travis',\n",
       " 'County,',\n",
       " 'Texas,',\n",
       " 'he',\n",
       " 'served',\n",
       " 'as',\n",
       " 'county',\n",
       " 'school',\n",
       " 'superintendent',\n",
       " 'from',\n",
       " '1900',\n",
       " 'to',\n",
       " '1904.',\n",
       " 'He',\n",
       " 'then',\n",
       " 'became',\n",
       " 'a',\n",
       " 'lawyer,',\n",
       " 'and',\n",
       " 'spent',\n",
       " 'several',\n",
       " 'years',\n",
       " 'in',\n",
       " 'private',\n",
       " 'practice.',\n",
       " 'As',\n",
       " 'district',\n",
       " 'attorney,',\n",
       " 'Brady',\n",
       " 'prosecuted',\n",
       " 'several',\n",
       " 'high-profile',\n",
       " 'murder',\n",
       " 'cases,',\n",
       " 'including',\n",
       " 'one',\n",
       " 'that',\n",
       " 'has',\n",
       " 'since',\n",
       " 'been',\n",
       " 'termed',\n",
       " 'a',\n",
       " '\"legal',\n",
       " 'lynching\",',\n",
       " 'a',\n",
       " 'death',\n",
       " 'penalty',\n",
       " 'case',\n",
       " 'of',\n",
       " 'a',\n",
       " 'Mexican',\n",
       " 'boy',\n",
       " 'charged',\n",
       " 'with',\n",
       " 'killing',\n",
       " 'a',\n",
       " 'white',\n",
       " 'woman.',\n",
       " 'Brady',\n",
       " 'moved',\n",
       " 'to',\n",
       " 'El',\n",
       " 'Paso',\n",
       " 'in',\n",
       " '1915',\n",
       " 'and',\n",
       " 'resumed',\n",
       " 'private',\n",
       " 'practice,',\n",
       " 'but',\n",
       " 'was',\n",
       " 'soon',\n",
       " 'named',\n",
       " 'a',\n",
       " 'judge.',\n",
       " 'He',\n",
       " 'resigned',\n",
       " 'in',\n",
       " '1919',\n",
       " 'and',\n",
       " 'moved',\n",
       " 'to',\n",
       " 'California',\n",
       " 'to',\n",
       " 'pursue',\n",
       " 'interests',\n",
       " 'in',\n",
       " 'oil.',\n",
       " 'Brady',\n",
       " 'was',\n",
       " 'a',\n",
       " 'Democrat',\n",
       " 'and',\n",
       " 'deeply',\n",
       " 'involved',\n",
       " 'in',\n",
       " 'public',\n",
       " 'affairs',\n",
       " 'throughout',\n",
       " 'his',\n",
       " 'adult',\n",
       " 'life.',\n",
       " 'He',\n",
       " 'also',\n",
       " 'incorporated',\n",
       " 'both',\n",
       " 'the',\n",
       " 'Cruces',\n",
       " 'Oil',\n",
       " 'Corporation',\n",
       " 'and',\n",
       " 'the',\n",
       " 'Pecos',\n",
       " 'Valley',\n",
       " 'Southern',\n",
       " 'Railway.']"
      ]
     },
     "execution_count": 35,
     "metadata": {},
     "output_type": "execute_result"
    }
   ],
   "source": [
    "d.split(' ')"
   ]
  },
  {
   "cell_type": "code",
   "execution_count": 36,
   "id": "4fa0f897",
   "metadata": {},
   "outputs": [
    {
     "data": {
      "text/plain": [
       "'Will P. Brady (1876–1943) was an American lawyer, the first district attorney for Texas\\'s 70th judicial district from 1909 to around 1914, and the judge for the El Paso County Court at Law from 1917 to 1919. Brady was born to a pioneering Austin family and grew up there. After service as a teacher in Travis County, Texas, he served as county school superintendent from 1900 to 1904. He then became a lawyer, and spent several years in private practice. As district attorney, Brady prosecuted several high-profile murder cases, including one that has since been termed a \"legal lynching\", a death penalty case of a Mexican boy charged with killing a white woman. Brady moved to El Paso in 1915 and resumed private practice, but was soon named a judge. He resigned in 1919 and moved to California to pursue interests in oil. Brady was a Democrat and deeply involved in public affairs throughout his adult life. He also incorporated both the Cruces Oil Corporation and the Pecos Valley Southern Railway.'"
      ]
     },
     "execution_count": 36,
     "metadata": {},
     "output_type": "execute_result"
    }
   ],
   "source": [
    "d"
   ]
  },
  {
   "cell_type": "code",
   "execution_count": 37,
   "id": "43e7b8d9",
   "metadata": {},
   "outputs": [
    {
     "data": {
      "text/plain": [
       "'WILL P. BRADY (1876–1943) WAS AN AMERICAN LAWYER, THE FIRST DISTRICT ATTORNEY FOR TEXAS\\'S 70TH JUDICIAL DISTRICT FROM 1909 TO AROUND 1914, AND THE JUDGE FOR THE EL PASO COUNTY COURT AT LAW FROM 1917 TO 1919. BRADY WAS BORN TO A PIONEERING AUSTIN FAMILY AND GREW UP THERE. AFTER SERVICE AS A TEACHER IN TRAVIS COUNTY, TEXAS, HE SERVED AS COUNTY SCHOOL SUPERINTENDENT FROM 1900 TO 1904. HE THEN BECAME A LAWYER, AND SPENT SEVERAL YEARS IN PRIVATE PRACTICE. AS DISTRICT ATTORNEY, BRADY PROSECUTED SEVERAL HIGH-PROFILE MURDER CASES, INCLUDING ONE THAT HAS SINCE BEEN TERMED A \"LEGAL LYNCHING\", A DEATH PENALTY CASE OF A MEXICAN BOY CHARGED WITH KILLING A WHITE WOMAN. BRADY MOVED TO EL PASO IN 1915 AND RESUMED PRIVATE PRACTICE, BUT WAS SOON NAMED A JUDGE. HE RESIGNED IN 1919 AND MOVED TO CALIFORNIA TO PURSUE INTERESTS IN OIL. BRADY WAS A DEMOCRAT AND DEEPLY INVOLVED IN PUBLIC AFFAIRS THROUGHOUT HIS ADULT LIFE. HE ALSO INCORPORATED BOTH THE CRUCES OIL CORPORATION AND THE PECOS VALLEY SOUTHERN RAILWAY.'"
      ]
     },
     "execution_count": 37,
     "metadata": {},
     "output_type": "execute_result"
    }
   ],
   "source": [
    "d.upper()"
   ]
  },
  {
   "cell_type": "code",
   "execution_count": 38,
   "id": "c0bb20ab",
   "metadata": {},
   "outputs": [
    {
     "data": {
      "text/plain": [
       "'will p. brady (1876–1943) was an american lawyer, the first district attorney for texas\\'s 70th judicial district from 1909 to around 1914, and the judge for the el paso county court at law from 1917 to 1919. brady was born to a pioneering austin family and grew up there. after service as a teacher in travis county, texas, he served as county school superintendent from 1900 to 1904. he then became a lawyer, and spent several years in private practice. as district attorney, brady prosecuted several high-profile murder cases, including one that has since been termed a \"legal lynching\", a death penalty case of a mexican boy charged with killing a white woman. brady moved to el paso in 1915 and resumed private practice, but was soon named a judge. he resigned in 1919 and moved to california to pursue interests in oil. brady was a democrat and deeply involved in public affairs throughout his adult life. he also incorporated both the cruces oil corporation and the pecos valley southern railway.'"
      ]
     },
     "execution_count": 38,
     "metadata": {},
     "output_type": "execute_result"
    }
   ],
   "source": [
    "d.lower()"
   ]
  },
  {
   "cell_type": "code",
   "execution_count": 39,
   "id": "8d9ab947",
   "metadata": {},
   "outputs": [
    {
     "data": {
      "text/plain": [
       "'Will P. Brady (1876–1943) was an American lawyer, the first district attorney for Texas\\'s 70th judicial district from 1909 to around 1914, and the judge for the El Paso County Court at Law from 1917 to 1919. Brady was born to a pioneering Austin family and grew up there. After service as a teacher in Travis County, Texas, he served as county school superintendent from 1900 to 1904. He then became a lawyer, and spent several years in private practice. As district attorney, Brady prosecuted several high-profile murder cases, including one that has since been termed a \"legal lynching\", a death penalty case of a Mexican boy charged with killing a white woman. Brady moved to El Paso in 1915 and resumed private practice, but was soon named a judge. He resigned in 1919 and moved to California to pursue interests in oil. Brady was a Democrat and deeply involved in public affairs throughout his adult life. He also incorporated both the Cruces Oil Corporation and the Pecos Valley Southern Railway.'"
      ]
     },
     "execution_count": 39,
     "metadata": {},
     "output_type": "execute_result"
    }
   ],
   "source": [
    "d"
   ]
  },
  {
   "cell_type": "code",
   "execution_count": 40,
   "id": "120f304e",
   "metadata": {},
   "outputs": [
    {
     "data": {
      "text/plain": [
       "'Will P. Brady (1876–1943) Was An American Lawyer, The First District Attorney For Texas\\'S 70Th Judicial District From 1909 To Around 1914, And The Judge For The El Paso County Court At Law From 1917 To 1919. Brady Was Born To A Pioneering Austin Family And Grew Up There. After Service As A Teacher In Travis County, Texas, He Served As County School Superintendent From 1900 To 1904. He Then Became A Lawyer, And Spent Several Years In Private Practice. As District Attorney, Brady Prosecuted Several High-Profile Murder Cases, Including One That Has Since Been Termed A \"Legal Lynching\", A Death Penalty Case Of A Mexican Boy Charged With Killing A White Woman. Brady Moved To El Paso In 1915 And Resumed Private Practice, But Was Soon Named A Judge. He Resigned In 1919 And Moved To California To Pursue Interests In Oil. Brady Was A Democrat And Deeply Involved In Public Affairs Throughout His Adult Life. He Also Incorporated Both The Cruces Oil Corporation And The Pecos Valley Southern Railway.'"
      ]
     },
     "execution_count": 40,
     "metadata": {},
     "output_type": "execute_result"
    }
   ],
   "source": [
    "d.title()"
   ]
  },
  {
   "cell_type": "code",
   "execution_count": 41,
   "id": "d975a8e5",
   "metadata": {},
   "outputs": [
    {
     "data": {
      "text/plain": [
       "'Will P. Brady (1876–1943) was an American lawyer, the first district attorney for Texas\\'s 70th judicial district from 1909 to around 1914, and the judge for the El Paso County Court at Law from 1917 to 1919. Brady was born to a pioneering Austin family and grew up there. After service as a teacher in Travis County, Texas, he served as county school superintendent from 1900 to 1904. He then became a lawyer, and spent several years in private practice. As district attorney, Brady prosecuted several high-profile murder cases, including one that has since been termed a \"legal lynching\", a death penalty case of a Mexican boy charged with killing a white woman. Brady moved to El Paso in 1915 and resumed private practice, but was soon named a judge. He resigned in 1919 and moved to California to pursue interests in oil. Brady was a Democrat and deeply involved in public affairs throughout his adult life. He also incorporated both the Cruces Oil Corporation and the Pecos Valley Southern Railway.'"
      ]
     },
     "execution_count": 41,
     "metadata": {},
     "output_type": "execute_result"
    }
   ],
   "source": [
    "d"
   ]
  },
  {
   "cell_type": "code",
   "execution_count": 42,
   "id": "a23df205",
   "metadata": {},
   "outputs": [
    {
     "data": {
      "text/plain": [
       "'Will p. brady (1876–1943) was an american lawyer, the first district attorney for texas\\'s 70th judicial district from 1909 to around 1914, and the judge for the el paso county court at law from 1917 to 1919. brady was born to a pioneering austin family and grew up there. after service as a teacher in travis county, texas, he served as county school superintendent from 1900 to 1904. he then became a lawyer, and spent several years in private practice. as district attorney, brady prosecuted several high-profile murder cases, including one that has since been termed a \"legal lynching\", a death penalty case of a mexican boy charged with killing a white woman. brady moved to el paso in 1915 and resumed private practice, but was soon named a judge. he resigned in 1919 and moved to california to pursue interests in oil. brady was a democrat and deeply involved in public affairs throughout his adult life. he also incorporated both the cruces oil corporation and the pecos valley southern railway.'"
      ]
     },
     "execution_count": 42,
     "metadata": {},
     "output_type": "execute_result"
    }
   ],
   "source": [
    "d.capitalize()"
   ]
  },
  {
   "cell_type": "code",
   "execution_count": 43,
   "id": "6f01af11",
   "metadata": {},
   "outputs": [],
   "source": [
    "e = d.lower()"
   ]
  },
  {
   "cell_type": "code",
   "execution_count": 44,
   "id": "208f8580",
   "metadata": {},
   "outputs": [
    {
     "data": {
      "text/plain": [
       "'Will p. brady (1876–1943) was an american lawyer, the first district attorney for texas\\'s 70th judicial district from 1909 to around 1914, and the judge for the el paso county court at law from 1917 to 1919. brady was born to a pioneering austin family and grew up there. after service as a teacher in travis county, texas, he served as county school superintendent from 1900 to 1904. he then became a lawyer, and spent several years in private practice. as district attorney, brady prosecuted several high-profile murder cases, including one that has since been termed a \"legal lynching\", a death penalty case of a mexican boy charged with killing a white woman. brady moved to el paso in 1915 and resumed private practice, but was soon named a judge. he resigned in 1919 and moved to california to pursue interests in oil. brady was a democrat and deeply involved in public affairs throughout his adult life. he also incorporated both the cruces oil corporation and the pecos valley southern railway.'"
      ]
     },
     "execution_count": 44,
     "metadata": {},
     "output_type": "execute_result"
    }
   ],
   "source": [
    "e.capitalize()"
   ]
  },
  {
   "cell_type": "code",
   "execution_count": 45,
   "id": "fc180d0b",
   "metadata": {},
   "outputs": [
    {
     "data": {
      "text/plain": [
       "'Will P. Brady (1876–1943) was an American lawyer, the first district attorney for Texas\\'s 70th judicial district from 1909 to around 1914, and the judge for the El Paso County Court at Law from 1917 to 1919. Brady was born to a pioneering Austin family and grew up there. After service as a teacher in Travis County, Texas, he served as county school superintendent from 1900 to 1904. He then became a lawyer, and spent several years in private practice. As district attorney, Brady prosecuted several high-profile murder cases, including one that has since been termed a \"legal lynching\", a death penalty case of a Mexican boy charged with killing a white woman. Brady moved to El Paso in 1915 and resumed private practice, but was soon named a judge. He resigned in 1919 and moved to California to pursue interests in oil. Brady was a Democrat and deeply involved in public affairs throughout his adult life. He also incorporated both the Cruces Oil Corporation and the Pecos Valley Southern Railway.'"
      ]
     },
     "execution_count": 45,
     "metadata": {},
     "output_type": "execute_result"
    }
   ],
   "source": [
    "d"
   ]
  },
  {
   "cell_type": "code",
   "execution_count": 46,
   "id": "d637f156",
   "metadata": {},
   "outputs": [
    {
     "data": {
      "text/plain": [
       "'WILL P. BRADY (1876–1943) WAS AN AMERICAN LAWYER, THE FIRST DISTRICT ATTORNEY FOR TEXAS\\'S 70TH JUDICIAL DISTRICT FROM 1909 TO AROUND 1914, AND THE JUDGE FOR THE EL PASO COUNTY COURT AT LAW FROM 1917 TO 1919. BRADY WAS BORN TO A PIONEERING AUSTIN FAMILY AND GREW UP THERE. AFTER SERVICE AS A TEACHER IN TRAVIS COUNTY, TEXAS, HE SERVED AS COUNTY SCHOOL SUPERINTENDENT FROM 1900 TO 1904. HE THEN BECAME A LAWYER, AND SPENT SEVERAL YEARS IN PRIVATE PRACTICE. AS DISTRICT ATTORNEY, BRADY PROSECUTED SEVERAL HIGH-PROFILE MURDER CASES, INCLUDING ONE THAT HAS SINCE BEEN TERMED A \"LEGAL LYNCHING\", A DEATH PENALTY CASE OF A MEXICAN BOY CHARGED WITH KILLING A WHITE WOMAN. BRADY MOVED TO EL PASO IN 1915 AND RESUMED PRIVATE PRACTICE, BUT WAS SOON NAMED A JUDGE. HE RESIGNED IN 1919 AND MOVED TO CALIFORNIA TO PURSUE INTERESTS IN OIL. BRADY WAS A DEMOCRAT AND DEEPLY INVOLVED IN PUBLIC AFFAIRS THROUGHOUT HIS ADULT LIFE. HE ALSO INCORPORATED BOTH THE CRUCES OIL CORPORATION AND THE PECOS VALLEY SOUTHERN RAILWAY.'"
      ]
     },
     "execution_count": 46,
     "metadata": {},
     "output_type": "execute_result"
    }
   ],
   "source": [
    "e.swapcase()"
   ]
  },
  {
   "cell_type": "code",
   "execution_count": 47,
   "id": "8835eb17",
   "metadata": {},
   "outputs": [
    {
     "data": {
      "text/plain": [
       "'wILL p. bRADY (1876–1943) WAS AN aMERICAN LAWYER, THE FIRST DISTRICT ATTORNEY FOR tEXAS\\'S 70TH JUDICIAL DISTRICT FROM 1909 TO AROUND 1914, AND THE JUDGE FOR THE eL pASO cOUNTY cOURT AT lAW FROM 1917 TO 1919. bRADY WAS BORN TO A PIONEERING aUSTIN FAMILY AND GREW UP THERE. aFTER SERVICE AS A TEACHER IN tRAVIS cOUNTY, tEXAS, HE SERVED AS COUNTY SCHOOL SUPERINTENDENT FROM 1900 TO 1904. hE THEN BECAME A LAWYER, AND SPENT SEVERAL YEARS IN PRIVATE PRACTICE. aS DISTRICT ATTORNEY, bRADY PROSECUTED SEVERAL HIGH-PROFILE MURDER CASES, INCLUDING ONE THAT HAS SINCE BEEN TERMED A \"LEGAL LYNCHING\", A DEATH PENALTY CASE OF A mEXICAN BOY CHARGED WITH KILLING A WHITE WOMAN. bRADY MOVED TO eL pASO IN 1915 AND RESUMED PRIVATE PRACTICE, BUT WAS SOON NAMED A JUDGE. hE RESIGNED IN 1919 AND MOVED TO cALIFORNIA TO PURSUE INTERESTS IN OIL. bRADY WAS A dEMOCRAT AND DEEPLY INVOLVED IN PUBLIC AFFAIRS THROUGHOUT HIS ADULT LIFE. hE ALSO INCORPORATED BOTH THE cRUCES oIL cORPORATION AND THE pECOS vALLEY sOUTHERN rAILWAY.'"
      ]
     },
     "execution_count": 47,
     "metadata": {},
     "output_type": "execute_result"
    }
   ],
   "source": [
    "d.swapcase()"
   ]
  },
  {
   "cell_type": "code",
   "execution_count": 49,
   "id": "87519a2e",
   "metadata": {},
   "outputs": [
    {
     "data": {
      "text/plain": [
       "'a'"
      ]
     },
     "execution_count": 49,
     "metadata": {},
     "output_type": "execute_result"
    }
   ],
   "source": [
    "d.join('a')"
   ]
  },
  {
   "cell_type": "code",
   "execution_count": 50,
   "id": "344a3234",
   "metadata": {},
   "outputs": [
    {
     "data": {
      "text/plain": [
       "'Will P. Brady (1876–1943) was an American lawyer, the first district attorney for Texas\\'s 70th judicial district from 1909 to around 1914, and the judge for the El Paso County Court at Law from 1917 to 1919. Brady was born to a pioneering Austin family and grew up there. After service as a teacher in Travis County, Texas, he served as county school superintendent from 1900 to 1904. He then became a lawyer, and spent several years in private practice. As district attorney, Brady prosecuted several high-profile murder cases, including one that has since been termed a \"legal lynching\", a death penalty case of a Mexican boy charged with killing a white woman. Brady moved to El Paso in 1915 and resumed private practice, but was soon named a judge. He resigned in 1919 and moved to California to pursue interests in oil. Brady was a Democrat and deeply involved in public affairs throughout his adult life. He also incorporated both the Cruces Oil Corporation and the Pecos Valley Southern Railway.'"
      ]
     },
     "execution_count": 50,
     "metadata": {},
     "output_type": "execute_result"
    }
   ],
   "source": [
    "d"
   ]
  },
  {
   "cell_type": "code",
   "execution_count": 51,
   "id": "d7c7932c",
   "metadata": {},
   "outputs": [
    {
     "data": {
      "text/plain": [
       "'W i l l   P .   B r a d y   ( 1 8 7 6 – 1 9 4 3 )   w a s   a n   A m e r i c a n   l a w y e r ,   t h e   f i r s t   d i s t r i c t   a t t o r n e y   f o r   T e x a s \\' s   7 0 t h   j u d i c i a l   d i s t r i c t   f r o m   1 9 0 9   t o   a r o u n d   1 9 1 4 ,   a n d   t h e   j u d g e   f o r   t h e   E l   P a s o   C o u n t y   C o u r t   a t   L a w   f r o m   1 9 1 7   t o   1 9 1 9 .   B r a d y   w a s   b o r n   t o   a   p i o n e e r i n g   A u s t i n   f a m i l y   a n d   g r e w   u p   t h e r e .   A f t e r   s e r v i c e   a s   a   t e a c h e r   i n   T r a v i s   C o u n t y ,   T e x a s ,   h e   s e r v e d   a s   c o u n t y   s c h o o l   s u p e r i n t e n d e n t   f r o m   1 9 0 0   t o   1 9 0 4 .   H e   t h e n   b e c a m e   a   l a w y e r ,   a n d   s p e n t   s e v e r a l   y e a r s   i n   p r i v a t e   p r a c t i c e .   A s   d i s t r i c t   a t t o r n e y ,   B r a d y   p r o s e c u t e d   s e v e r a l   h i g h - p r o f i l e   m u r d e r   c a s e s ,   i n c l u d i n g   o n e   t h a t   h a s   s i n c e   b e e n   t e r m e d   a   \" l e g a l   l y n c h i n g \" ,   a   d e a t h   p e n a l t y   c a s e   o f   a   M e x i c a n   b o y   c h a r g e d   w i t h   k i l l i n g   a   w h i t e   w o m a n .   B r a d y   m o v e d   t o   E l   P a s o   i n   1 9 1 5   a n d   r e s u m e d   p r i v a t e   p r a c t i c e ,   b u t   w a s   s o o n   n a m e d   a   j u d g e .   H e   r e s i g n e d   i n   1 9 1 9   a n d   m o v e d   t o   C a l i f o r n i a   t o   p u r s u e   i n t e r e s t s   i n   o i l .   B r a d y   w a s   a   D e m o c r a t   a n d   d e e p l y   i n v o l v e d   i n   p u b l i c   a f f a i r s   t h r o u g h o u t   h i s   a d u l t   l i f e .   H e   a l s o   i n c o r p o r a t e d   b o t h   t h e   C r u c e s   O i l   C o r p o r a t i o n   a n d   t h e   P e c o s   V a l l e y   S o u t h e r n   R a i l w a y .'"
      ]
     },
     "execution_count": 51,
     "metadata": {},
     "output_type": "execute_result"
    }
   ],
   "source": [
    "' '.join(d)"
   ]
  },
  {
   "cell_type": "code",
   "execution_count": 52,
   "id": "fcbd1e0f",
   "metadata": {},
   "outputs": [
    {
     "data": {
      "text/plain": [
       "<reversed at 0x27b93a7c700>"
      ]
     },
     "execution_count": 52,
     "metadata": {},
     "output_type": "execute_result"
    }
   ],
   "source": [
    "reversed(d)"
   ]
  },
  {
   "cell_type": "code",
   "execution_count": 53,
   "id": "96caf39a",
   "metadata": {},
   "outputs": [
    {
     "ename": "TypeError",
     "evalue": "must be str, not reversed",
     "output_type": "error",
     "traceback": [
      "\u001b[1;31m---------------------------------------------------------------------------\u001b[0m",
      "\u001b[1;31mTypeError\u001b[0m                                 Traceback (most recent call last)",
      "Input \u001b[1;32mIn [53]\u001b[0m, in \u001b[0;36m<cell line: 1>\u001b[1;34m()\u001b[0m\n\u001b[1;32m----> 1\u001b[0m \u001b[43md\u001b[49m\u001b[38;5;241;43m.\u001b[39;49m\u001b[43mcount\u001b[49m\u001b[43m(\u001b[49m\u001b[38;5;28;43mreversed\u001b[39;49m\u001b[43m(\u001b[49m\u001b[43md\u001b[49m\u001b[43m)\u001b[49m\u001b[43m)\u001b[49m\n",
      "\u001b[1;31mTypeError\u001b[0m: must be str, not reversed"
     ]
    }
   ],
   "source": [
    "d.count(reversed(d))"
   ]
  },
  {
   "cell_type": "code",
   "execution_count": 57,
   "id": "4373eda4",
   "metadata": {},
   "outputs": [
    {
     "data": {
      "text/plain": [
       "'.yawliaR nrehtuoS yellaV soceP eht dna noitaroproC liO securC eht htob detaroprocni osla eH .efil tluda sih tuohguorht sriaffa cilbup ni devlovni ylpeed dna tarcomeD a saw ydarB .lio ni stseretni eusrup ot ainrofilaC ot devom dna 9191 ni dengiser eH .egduj a deman noos saw tub ,ecitcarp etavirp demuser dna 5191 ni osaP lE ot devom ydarB .namow etihw a gnillik htiw degrahc yob nacixeM a fo esac ytlanep htaed a ,\"gnihcnyl lagel\" a demret neeb ecnis sah taht eno gnidulcni ,sesac redrum eliforp-hgih lareves detucesorp ydarB ,yenrotta tcirtsid sA .ecitcarp etavirp ni sraey lareves tneps dna ,reywal a emaceb neht eH .4091 ot 0091 morf tnednetnirepus loohcs ytnuoc sa devres eh ,saxeT ,ytnuoC sivarT ni rehcaet a sa ecivres retfA .ereht pu werg dna ylimaf nitsuA gnireenoip a ot nrob saw ydarB .9191 ot 7191 morf waL ta truoC ytnuoC osaP lE eht rof egduj eht dna ,4191 dnuora ot 9091 morf tcirtsid laiciduj ht07 s\\'saxeT rof yenrotta tcirtsid tsrif eht ,reywal naciremA na saw )3491–6781( ydarB .P lliW'"
      ]
     },
     "execution_count": 57,
     "metadata": {},
     "output_type": "execute_result"
    }
   ],
   "source": [
    "''.join(reversed(d))"
   ]
  },
  {
   "cell_type": "code",
   "execution_count": 58,
   "id": "8183700b",
   "metadata": {},
   "outputs": [
    {
     "data": {
      "text/plain": [
       "'.yawliaR nrehtuoS yellaV soceP eht dna noitaroproC liO securC eht htob detaroprocni osla eH .efil tluda sih tuohguorht sriaffa cilbup ni devlovni ylpeed dna tarcomeD a saw ydarB .lio ni stseretni eusrup ot ainrofilaC ot devom dna 9191 ni dengiser eH .egduj a deman noos saw tub ,ecitcarp etavirp demuser dna 5191 ni osaP lE ot devom ydarB .namow etihw a gnillik htiw degrahc yob nacixeM a fo esac ytlanep htaed a ,\"gnihcnyl lagel\" a demret neeb ecnis sah taht eno gnidulcni ,sesac redrum eliforp-hgih lareves detucesorp ydarB ,yenrotta tcirtsid sA .ecitcarp etavirp ni sraey lareves tneps dna ,reywal a emaceb neht eH .4091 ot 0091 morf tnednetnirepus loohcs ytnuoc sa devres eh ,saxeT ,ytnuoC sivarT ni rehcaet a sa ecivres retfA .ereht pu werg dna ylimaf nitsuA gnireenoip a ot nrob saw ydarB .9191 ot 7191 morf waL ta truoC ytnuoC osaP lE eht rof egduj eht dna ,4191 dnuora ot 9091 morf tcirtsid laiciduj ht07 s\\'saxeT rof yenrotta tcirtsid tsrif eht ,reywal naciremA na saw )3491–6781( ydarB .P lliW'"
      ]
     },
     "execution_count": 58,
     "metadata": {},
     "output_type": "execute_result"
    }
   ],
   "source": [
    "d[::-1]"
   ]
  },
  {
   "cell_type": "code",
   "execution_count": 59,
   "id": "d3d7b8d7",
   "metadata": {},
   "outputs": [
    {
     "data": {
      "text/plain": [
       "'Will P. Brady (1876–1943) was an American lawyer, the first district attorney for Texas\\'s 70th judicial district from 1909 to around 1914, and the judge for the El Paso County Court at Law from 1917 to 1919. Brady was born to a pioneering Austin family and grew up there. After service as a teacher in Travis County, Texas, he served as county school superintendent from 1900 to 1904. He then became a lawyer, and spent several years in private practice. As district attorney, Brady prosecuted several high-profile murder cases, including one that has since been termed a \"legal lynching\", a death penalty case of a Mexican boy charged with killing a white woman. Brady moved to El Paso in 1915 and resumed private practice, but was soon named a judge. He resigned in 1919 and moved to California to pursue interests in oil. Brady was a Democrat and deeply involved in public affairs throughout his adult life. He also incorporated both the Cruces Oil Corporation and the Pecos Valley Southern Railway.'"
      ]
     },
     "execution_count": 59,
     "metadata": {},
     "output_type": "execute_result"
    }
   ],
   "source": [
    "d.strip()"
   ]
  },
  {
   "cell_type": "code",
   "execution_count": 62,
   "id": "a996e4a7",
   "metadata": {},
   "outputs": [
    {
     "data": {
      "text/plain": [
       "'Will P. Brady (1876–1943) was an American lawyer, the first district attorney for Texas\\'s 70th judicial district from 1909 to around 1914, and the judge for the El Paso County Court at Law from 1917 to 1919. Brady was born to a pioneering Austin family and grew up there. After service as a teacher in Travis County, Texas, he served as county school superintendent from 1900 to 1904. He then became a lawyer, and spent several years in private practice. As district attorney, Brady prosecuted several high-profile murder cases, including one that has since been termed a \"legal lynching\", a death penalty case of a Mexican boy charged with killing a white woman. Brady moved to El Paso in 1915 and resumed private practice, but was soon named a judge. He resigned in 1919 and moved to California to pursue interests in oil. Brady was a Democrat and deeply involved in public affairs throughout his adult life. He also incorporated both the Cruces Oil Corporation and the Pecos Valley Southern Railway'"
      ]
     },
     "execution_count": 62,
     "metadata": {},
     "output_type": "execute_result"
    }
   ],
   "source": [
    "d.strip('.')"
   ]
  },
  {
   "cell_type": "code",
   "execution_count": 63,
   "id": "e4e4a54a",
   "metadata": {},
   "outputs": [
    {
     "data": {
      "text/plain": [
       "True"
      ]
     },
     "execution_count": 63,
     "metadata": {},
     "output_type": "execute_result"
    }
   ],
   "source": [
    "e.islower()"
   ]
  },
  {
   "cell_type": "code",
   "execution_count": 64,
   "id": "cf9a4417",
   "metadata": {},
   "outputs": [
    {
     "data": {
      "text/plain": [
       "False"
      ]
     },
     "execution_count": 64,
     "metadata": {},
     "output_type": "execute_result"
    }
   ],
   "source": [
    "e.isascii()"
   ]
  },
  {
   "cell_type": "code",
   "execution_count": 65,
   "id": "db2eaf1c",
   "metadata": {},
   "outputs": [
    {
     "data": {
      "text/plain": [
       "False"
      ]
     },
     "execution_count": 65,
     "metadata": {},
     "output_type": "execute_result"
    }
   ],
   "source": [
    "e.isalnum()"
   ]
  },
  {
   "cell_type": "code",
   "execution_count": 67,
   "id": "dffc656e",
   "metadata": {},
   "outputs": [
    {
     "data": {
      "text/plain": [
       "True"
      ]
     },
     "execution_count": 67,
     "metadata": {},
     "output_type": "execute_result"
    }
   ],
   "source": [
    "f = 'Ajay3456'\n",
    "f.isalnum()"
   ]
  },
  {
   "cell_type": "code",
   "execution_count": 69,
   "id": "6cf02391",
   "metadata": {},
   "outputs": [
    {
     "data": {
      "text/plain": [
       "'bac'"
      ]
     },
     "execution_count": 69,
     "metadata": {},
     "output_type": "execute_result"
    }
   ],
   "source": [
    "'a'.join('bc')"
   ]
  },
  {
   "cell_type": "code",
   "execution_count": 70,
   "id": "b2ce85b7",
   "metadata": {},
   "outputs": [
    {
     "data": {
      "text/plain": [
       "'Ajay Mani'"
      ]
     },
     "execution_count": 70,
     "metadata": {},
     "output_type": "execute_result"
    }
   ],
   "source": [
    "a"
   ]
  },
  {
   "cell_type": "code",
   "execution_count": 71,
   "id": "9b45879a",
   "metadata": {},
   "outputs": [
    {
     "data": {
      "text/plain": [
       "'Ajay ManiAjay ManiAjay Mani'"
      ]
     },
     "execution_count": 71,
     "metadata": {},
     "output_type": "execute_result"
    }
   ],
   "source": [
    "a * 3"
   ]
  },
  {
   "cell_type": "code",
   "execution_count": 75,
   "id": "a793f883",
   "metadata": {},
   "outputs": [
    {
     "data": {
      "text/plain": [
       "'Ajay ManiAjay Mani'"
      ]
     },
     "execution_count": 75,
     "metadata": {},
     "output_type": "execute_result"
    }
   ],
   "source": [
    "a * 2"
   ]
  },
  {
   "cell_type": "code",
   "execution_count": 73,
   "id": "4bc9ff92",
   "metadata": {},
   "outputs": [
    {
     "data": {
      "text/plain": [
       "''"
      ]
     },
     "execution_count": 73,
     "metadata": {},
     "output_type": "execute_result"
    }
   ],
   "source": [
    "a * 0"
   ]
  },
  {
   "cell_type": "code",
   "execution_count": 74,
   "id": "b98436ad",
   "metadata": {},
   "outputs": [
    {
     "data": {
      "text/plain": [
       "'Ajay Mani'"
      ]
     },
     "execution_count": 74,
     "metadata": {},
     "output_type": "execute_result"
    }
   ],
   "source": [
    "a * 1"
   ]
  },
  {
   "cell_type": "code",
   "execution_count": null,
   "id": "18734543",
   "metadata": {},
   "outputs": [],
   "source": []
  }
 ],
 "metadata": {
  "kernelspec": {
   "display_name": "Python 3 (ipykernel)",
   "language": "python",
   "name": "python3"
  },
  "language_info": {
   "codemirror_mode": {
    "name": "ipython",
    "version": 3
   },
   "file_extension": ".py",
   "mimetype": "text/x-python",
   "name": "python",
   "nbconvert_exporter": "python",
   "pygments_lexer": "ipython3",
   "version": "3.9.12"
  }
 },
 "nbformat": 4,
 "nbformat_minor": 5
}
