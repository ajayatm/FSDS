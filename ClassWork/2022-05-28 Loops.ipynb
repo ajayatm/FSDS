{
 "cells": [
  {
   "cell_type": "code",
   "execution_count": 3,
   "id": "cdd96f04",
   "metadata": {},
   "outputs": [
    {
     "name": "stdout",
     "output_type": "stream",
     "text": [
      "1\n"
     ]
    }
   ],
   "source": [
    "l = [1,2,3,4,5,6,7,8,9,0]\n",
    "for i in l:\n",
    "    print(i)\n",
    "    break\n",
    "else:\n",
    "    print(\"for is over\")"
   ]
  },
  {
   "cell_type": "code",
   "execution_count": 4,
   "id": "11548289",
   "metadata": {},
   "outputs": [],
   "source": [
    "t = (1,2,3,4,5,6,7,8,9,0)"
   ]
  },
  {
   "cell_type": "code",
   "execution_count": 5,
   "id": "7f2c50ec",
   "metadata": {},
   "outputs": [
    {
     "name": "stdout",
     "output_type": "stream",
     "text": [
      "1\n",
      "2\n",
      "3\n",
      "4\n",
      "5\n",
      "6\n",
      "7\n",
      "8\n",
      "9\n",
      "0\n"
     ]
    }
   ],
   "source": [
    "for i in t:\n",
    "    print(i)"
   ]
  },
  {
   "cell_type": "code",
   "execution_count": 6,
   "id": "6dbb8e62",
   "metadata": {},
   "outputs": [],
   "source": [
    "d = {1:'a', 2:'b', 3:'c', 4:'d'}"
   ]
  },
  {
   "cell_type": "code",
   "execution_count": 8,
   "id": "ca5752d9",
   "metadata": {},
   "outputs": [
    {
     "name": "stdout",
     "output_type": "stream",
     "text": [
      "1\n",
      "2\n",
      "3\n",
      "4\n"
     ]
    }
   ],
   "source": [
    "for i in d:\n",
    "    print(i)"
   ]
  },
  {
   "cell_type": "code",
   "execution_count": 9,
   "id": "b3b39c75",
   "metadata": {},
   "outputs": [
    {
     "name": "stdout",
     "output_type": "stream",
     "text": [
      "a\n",
      "b\n",
      "c\n",
      "d\n"
     ]
    }
   ],
   "source": [
    "for i in d:\n",
    "    print(d[i])"
   ]
  },
  {
   "cell_type": "code",
   "execution_count": 10,
   "id": "31ddfe0a",
   "metadata": {},
   "outputs": [
    {
     "name": "stdout",
     "output_type": "stream",
     "text": [
      "0\n",
      "1\n",
      "2\n",
      "3\n",
      "4\n"
     ]
    }
   ],
   "source": [
    "for i in range(5):\n",
    "    print(i)"
   ]
  },
  {
   "cell_type": "code",
   "execution_count": 12,
   "id": "a575c930",
   "metadata": {},
   "outputs": [
    {
     "name": "stdout",
     "output_type": "stream",
     "text": [
      "* \n",
      "* * \n",
      "* * * \n",
      "* * * * \n",
      "* * * * * \n"
     ]
    }
   ],
   "source": [
    "for i in range(5):\n",
    "    print('* ' * (i+1))"
   ]
  },
  {
   "cell_type": "code",
   "execution_count": 27,
   "id": "a72c0569",
   "metadata": {},
   "outputs": [
    {
     "name": "stdout",
     "output_type": "stream",
     "text": [
      "                         sudh                        \n",
      "                   sudh  sudh  sudh                  \n",
      "             sudh  sudh  sudh  sudh  sudh            \n",
      "       sudh  sudh  sudh  sudh  sudh  sudh  sudh      \n",
      " sudh  sudh  sudh  sudh  sudh  sudh  sudh  sudh  sudh \n"
     ]
    }
   ],
   "source": [
    "for i in range(1,10,2):\n",
    "    print(53, ' '))"
   ]
  },
  {
   "cell_type": "code",
   "execution_count": 30,
   "id": "40a78d53",
   "metadata": {},
   "outputs": [
    {
     "name": "stdout",
     "output_type": "stream",
     "text": [
      "0 10\n",
      "1 20\n",
      "2 30\n",
      "3 40\n",
      "4 50\n",
      "5 60\n",
      "6 70\n",
      "7 80\n",
      "8 90\n",
      "9 100\n"
     ]
    }
   ],
   "source": [
    "t = (10,20,30,40,50,60,70,80,90,100)\n",
    "i = 0\n",
    "for j in t:\n",
    "    print(i, j)\n",
    "    i+= 1"
   ]
  },
  {
   "cell_type": "code",
   "execution_count": 31,
   "id": "3577e574",
   "metadata": {},
   "outputs": [
    {
     "name": "stdout",
     "output_type": "stream",
     "text": [
      "0 10\n",
      "1 20\n",
      "2 30\n",
      "3 40\n",
      "4 50\n",
      "5 60\n",
      "6 70\n",
      "7 80\n",
      "8 90\n",
      "9 100\n"
     ]
    }
   ],
   "source": [
    "for i in range(len(t)):\n",
    "    print(i, t[i])"
   ]
  },
  {
   "cell_type": "code",
   "execution_count": 32,
   "id": "4f37e8a3",
   "metadata": {},
   "outputs": [
    {
     "name": "stdout",
     "output_type": "stream",
     "text": [
      "0 i\n",
      "1 N\n",
      "2 e\n",
      "3 u\n",
      "4 r\n",
      "5 o\n",
      "6 n\n"
     ]
    }
   ],
   "source": [
    "s = 'iNeuron'\n",
    "for i in range(len(s)):\n",
    "    print(i, s[i])"
   ]
  },
  {
   "cell_type": "code",
   "execution_count": 37,
   "id": "4f1327a4",
   "metadata": {},
   "outputs": [
    {
     "name": "stdout",
     "output_type": "stream",
     "text": [
      "6 n\n",
      "5 o\n",
      "4 r\n",
      "3 u\n",
      "2 e\n",
      "1 N\n",
      "0 i\n"
     ]
    }
   ],
   "source": [
    "for i in range(len(s)-1,-1,-1):\n",
    "    print(i, s[i])"
   ]
  },
  {
   "cell_type": "code",
   "execution_count": 38,
   "id": "8e2d0726",
   "metadata": {},
   "outputs": [
    {
     "data": {
      "text/plain": [
       "{1: 'a', 2: 'b', 3: 'c', 4: 'd'}"
      ]
     },
     "execution_count": 38,
     "metadata": {},
     "output_type": "execute_result"
    }
   ],
   "source": [
    "d"
   ]
  },
  {
   "cell_type": "code",
   "execution_count": 39,
   "id": "ab10ef33",
   "metadata": {},
   "outputs": [
    {
     "name": "stdout",
     "output_type": "stream",
     "text": [
      "a\n",
      "b\n",
      "c\n",
      "d\n"
     ]
    }
   ],
   "source": [
    "for i in d:\n",
    "    print(d[i])"
   ]
  },
  {
   "cell_type": "code",
   "execution_count": 40,
   "id": "459cce46",
   "metadata": {},
   "outputs": [],
   "source": [
    "l = [1,2,3,4,5,6,7,8,9,0]"
   ]
  },
  {
   "cell_type": "code",
   "execution_count": 41,
   "id": "1dd6f5e1",
   "metadata": {},
   "outputs": [],
   "source": [
    "l1 = []\n",
    "for i in l:\n",
    "    if type(i) == int:\n",
    "        l1.append(i)"
   ]
  },
  {
   "cell_type": "code",
   "execution_count": 42,
   "id": "7e1af49a",
   "metadata": {},
   "outputs": [
    {
     "data": {
      "text/plain": [
       "[1, 2, 3, 4, 5, 6, 7, 8, 9, 0]"
      ]
     },
     "execution_count": 42,
     "metadata": {},
     "output_type": "execute_result"
    }
   ],
   "source": [
    "l1"
   ]
  },
  {
   "cell_type": "code",
   "execution_count": 47,
   "id": "629f9ba0",
   "metadata": {},
   "outputs": [
    {
     "name": "stdout",
     "output_type": "stream",
     "text": [
      "1 : a\n",
      "2 : b\n",
      "3 : c\n",
      "4 : d\n"
     ]
    }
   ],
   "source": [
    "for i in d:\n",
    "    if type(i) == int:\n",
    "        print(i, ':', d[i])"
   ]
  },
  {
   "cell_type": "code",
   "execution_count": 48,
   "id": "40e11ccb",
   "metadata": {},
   "outputs": [],
   "source": [
    "s = 'aaaaaaabbbbbbbbcccccccccddddddddd'"
   ]
  },
  {
   "cell_type": "code",
   "execution_count": 49,
   "id": "5f2d3aa3",
   "metadata": {},
   "outputs": [],
   "source": [
    "sset = set(s)"
   ]
  },
  {
   "cell_type": "code",
   "execution_count": 50,
   "id": "321d1e83",
   "metadata": {},
   "outputs": [
    {
     "data": {
      "text/plain": [
       "{'a', 'b', 'c', 'd'}"
      ]
     },
     "execution_count": 50,
     "metadata": {},
     "output_type": "execute_result"
    }
   ],
   "source": [
    "sset"
   ]
  },
  {
   "cell_type": "code",
   "execution_count": 52,
   "id": "09b2a14b",
   "metadata": {},
   "outputs": [
    {
     "name": "stdout",
     "output_type": "stream",
     "text": [
      "c 9\n",
      "b 8\n",
      "d 9\n",
      "a 7\n"
     ]
    }
   ],
   "source": [
    "for j in sset:\n",
    "    print(j, s.count(j))"
   ]
  },
  {
   "cell_type": "code",
   "execution_count": 65,
   "id": "1cc78fea",
   "metadata": {},
   "outputs": [],
   "source": [
    "abcd = ('ajay', [1,2,3,4,5], (3,4,5,6), {1:'a', 2:'3', 3:'c', 4:'d'})"
   ]
  },
  {
   "cell_type": "code",
   "execution_count": 68,
   "id": "c51be5ea",
   "metadata": {},
   "outputs": [
    {
     "name": "stdout",
     "output_type": "stream",
     "text": [
      "3 <class 'list'>\n",
      "3 <class 'tuple'>\n",
      "3 dict value <class 'str'>\n",
      "3 dict key <class 'int'>\n"
     ]
    }
   ],
   "source": [
    "for i in abcd:\n",
    "    if type(i) == str or type(i) == tuple or type(i) == list:\n",
    "        for j in i:\n",
    "            if j == '3' or j == 3:\n",
    "                print(j, type(i))\n",
    "    elif type(i) == dict:\n",
    "        for j in i:\n",
    "            if (j == 3 or j == '3'):\n",
    "                print(j, 'dict key', type(j))\n",
    "            elif (i[j] == 3 or i[j] == '3'):\n",
    "                print(i[j], 'dict value', type(i[j]))"
   ]
  },
  {
   "cell_type": "code",
   "execution_count": 59,
   "id": "ee00855b",
   "metadata": {},
   "outputs": [
    {
     "data": {
      "text/plain": [
       "'a'"
      ]
     },
     "execution_count": 59,
     "metadata": {},
     "output_type": "execute_result"
    }
   ],
   "source": [
    "abcd[3][1]"
   ]
  },
  {
   "cell_type": "code",
   "execution_count": 63,
   "id": "411f8364",
   "metadata": {},
   "outputs": [
    {
     "name": "stdout",
     "output_type": "stream",
     "text": [
      "1 <class 'int'>\n",
      "2 <class 'int'>\n",
      "3 <class 'int'>\n",
      "4 <class 'int'>\n"
     ]
    }
   ],
   "source": [
    "for i in abcd:\n",
    "    if type(i) == dict:\n",
    "        for j in i:\n",
    "            print(j, type(j), )"
   ]
  },
  {
   "cell_type": "code",
   "execution_count": null,
   "id": "5acdc375",
   "metadata": {},
   "outputs": [],
   "source": []
  }
 ],
 "metadata": {
  "kernelspec": {
   "display_name": "Python 3 (ipykernel)",
   "language": "python",
   "name": "python3"
  },
  "language_info": {
   "codemirror_mode": {
    "name": "ipython",
    "version": 3
   },
   "file_extension": ".py",
   "mimetype": "text/x-python",
   "name": "python",
   "nbconvert_exporter": "python",
   "pygments_lexer": "ipython3",
   "version": "3.9.12"
  }
 },
 "nbformat": 4,
 "nbformat_minor": 5
}
