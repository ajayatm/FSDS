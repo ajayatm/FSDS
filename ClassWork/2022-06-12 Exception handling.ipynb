{
 "cells": [
  {
   "cell_type": "code",
   "execution_count": 1,
   "id": "7a0c00f2",
   "metadata": {},
   "outputs": [],
   "source": [
    "a = 10"
   ]
  },
  {
   "cell_type": "code",
   "execution_count": 2,
   "id": "8245d8bb",
   "metadata": {},
   "outputs": [],
   "source": [
    "b = 20"
   ]
  },
  {
   "cell_type": "code",
   "execution_count": 3,
   "id": "c318dd9c",
   "metadata": {},
   "outputs": [],
   "source": [
    "c = a + b"
   ]
  },
  {
   "cell_type": "code",
   "execution_count": 5,
   "id": "04d9c274",
   "metadata": {},
   "outputs": [
    {
     "ename": "SyntaxError",
     "evalue": "unexpected EOF while parsing (233105153.py, line 1)",
     "output_type": "error",
     "traceback": [
      "\u001b[1;36m  Input \u001b[1;32mIn [5]\u001b[1;36m\u001b[0m\n\u001b[1;33m    print(c\u001b[0m\n\u001b[1;37m           ^\u001b[0m\n\u001b[1;31mSyntaxError\u001b[0m\u001b[1;31m:\u001b[0m unexpected EOF while parsing\n"
     ]
    }
   ],
   "source": [
    "print(c)"
   ]
  },
  {
   "cell_type": "code",
   "execution_count": 6,
   "id": "0a5711fb",
   "metadata": {},
   "outputs": [
    {
     "ename": "TypeError",
     "evalue": "unsupported operand type(s) for +: 'int' and 'str'",
     "output_type": "error",
     "traceback": [
      "\u001b[1;31m---------------------------------------------------------------------------\u001b[0m",
      "\u001b[1;31mTypeError\u001b[0m                                 Traceback (most recent call last)",
      "Input \u001b[1;32mIn [6]\u001b[0m, in \u001b[0;36m<cell line: 3>\u001b[1;34m()\u001b[0m\n\u001b[0;32m      1\u001b[0m a \u001b[38;5;241m=\u001b[39m \u001b[38;5;241m10\u001b[39m\n\u001b[0;32m      2\u001b[0m b \u001b[38;5;241m=\u001b[39m \u001b[38;5;124m'\u001b[39m\u001b[38;5;124ms\u001b[39m\u001b[38;5;124m'\u001b[39m\n\u001b[1;32m----> 3\u001b[0m c \u001b[38;5;241m=\u001b[39m \u001b[43ma\u001b[49m\u001b[38;5;241;43m+\u001b[39;49m\u001b[43mb\u001b[49m\n",
      "\u001b[1;31mTypeError\u001b[0m: unsupported operand type(s) for +: 'int' and 'str'"
     ]
    }
   ],
   "source": [
    "a = 10\n",
    "b = 's'\n",
    "c = a+b"
   ]
  },
  {
   "cell_type": "code",
   "execution_count": 20,
   "id": "b4d07be0",
   "metadata": {},
   "outputs": [
    {
     "name": "stdout",
     "output_type": "stream",
     "text": [
      "Enter first number: 10\n",
      "Enter second number: a\n",
      "Invalid Input\n"
     ]
    }
   ],
   "source": [
    "a = input(\"Enter first number: \")\n",
    "b = input(\"Enter second number: \")\n",
    "\n",
    "try:\n",
    "    c = int(a)\n",
    "    d = int(b)\n",
    "    print(c/d)\n",
    "except ZeroDivisionError:\n",
    "    print(\"Division by zero\")\n",
    "except BaseException:\n",
    "    print(\"Invalid Input\")"
   ]
  },
  {
   "cell_type": "code",
   "execution_count": 31,
   "id": "e7334927",
   "metadata": {},
   "outputs": [
    {
     "name": "stdout",
     "output_type": "stream",
     "text": [
      "Enter numerator: a\n",
      "Enter denominator: 2\n",
      "Enter both numbers as natural numbers\n",
      "Enter numerator: 0\n",
      "Enter denominator: 0\n",
      "Enter a non-zero denominator\n",
      "Enter numerator: 0\n",
      "Enter denominator: 1\n",
      "a/b is  0.0\n"
     ]
    }
   ],
   "source": [
    "k = True\n",
    "while k:\n",
    "    a = input(\"Enter numerator: \")\n",
    "    b = input(\"Enter denominator: \")\n",
    "\n",
    "    try:\n",
    "        print(\"a/b is \", float(a)/float(b))\n",
    "        k = False\n",
    "    except ZeroDivisionError:\n",
    "        print(\"Enter a non-zero denominator\")\n",
    "    except:\n",
    "        print(\"Enter both numbers as natural numbers\")"
   ]
  },
  {
   "cell_type": "code",
   "execution_count": 2,
   "id": "7f8febd1",
   "metadata": {},
   "outputs": [
    {
     "name": "stdout",
     "output_type": "stream",
     "text": [
      "Enter a numberq\n",
      "<class 'ValueError'>\n",
      "invalid literal for int() with base 10: 'q'\n",
      "4\n",
      "Enter a number2\n"
     ]
    }
   ],
   "source": [
    "import sys\n",
    "while True:\n",
    "    try:\n",
    "        a=int(input(\"Enter a number\"))\n",
    "        break\n",
    "    except:\n",
    "        a,b,c = sys.exc_info()\n",
    "        print(a)\n",
    "        print(b)\n",
    "        print(c.tb_lineno)"
   ]
  },
  {
   "cell_type": "code",
   "execution_count": 4,
   "id": "ca609acd",
   "metadata": {},
   "outputs": [
    {
     "name": "stdout",
     "output_type": "stream",
     "text": [
      "Enter a numberw\n",
      "Traceback (most recent call last):\n",
      "  File \"C:\\Users\\ajaya\\AppData\\Local\\Temp\\ipykernel_3436\\2640465771.py\", line 4, in <cell line: 3>\n",
      "    a=int(input(\"Enter a number\"))\n",
      "ValueError: invalid literal for int() with base 10: 'w'\n",
      "\n",
      "Enter a number3\n"
     ]
    }
   ],
   "source": [
    "import traceback\n",
    "while True:\n",
    "    try:\n",
    "        a=int(input(\"Enter a number\"))\n",
    "        break\n",
    "    except:\n",
    "        print(traceback.format_exc())"
   ]
  },
  {
   "cell_type": "code",
   "execution_count": 3,
   "id": "a82a56b1",
   "metadata": {},
   "outputs": [
    {
     "name": "stdout",
     "output_type": "stream",
     "text": [
      "Enter first number: -4\n",
      "Enter second number: 8\n",
      "Please enter values greater than zero\n",
      "Enter first number: a\n",
      "Enter second number: b\n",
      "invalid literal for int() with base 10: 'a'\n",
      "Enter first number: 3\n",
      "Enter second number: 4\n",
      "0.75\n"
     ]
    }
   ],
   "source": [
    "#raise exception\n",
    "#at custom line\n",
    "while True:\n",
    "    try:\n",
    "        a = input(\"Enter first number: \")\n",
    "        b = input(\"Enter second number: \")\n",
    "        if int(a) < 0 or int(b) < 0:\n",
    "            raise Exception(\"Please enter values greater than zero\")\n",
    "        else:\n",
    "            c = int(a)/int(b)\n",
    "            print(c)\n",
    "            break\n",
    "    except BaseException as e:\n",
    "        print(e)"
   ]
  },
  {
   "cell_type": "code",
   "execution_count": 3,
   "id": "a49c9af3",
   "metadata": {},
   "outputs": [
    {
     "name": "stdout",
     "output_type": "stream",
     "text": [
      "Enter first number: a\n",
      "Enter second number: s\n",
      "invalid literal for int() with base 10: 'a'\n",
      "done\n",
      "Enter first number: 3\n",
      "Enter second number: 2\n",
      "1.5\n",
      "done\n"
     ]
    }
   ],
   "source": [
    "#raise exception\n",
    "#at custom line\n",
    "class AjayError(Exception):\n",
    "    pass\n",
    "while True:\n",
    "    try:\n",
    "        a = input(\"Enter first number: \")\n",
    "        b = input(\"Enter second number: \")\n",
    "        if int(a) < 0 or int(b) < 0:\n",
    "            raise AjayError(\"Please enter values greater than zero\")\n",
    "        else:\n",
    "            c = int(a)/int(b)\n",
    "            print(c)\n",
    "            break\n",
    "    except BaseException as e:\n",
    "        print(e)\n",
    "    finally:\n",
    "        print(\"done\")"
   ]
  },
  {
   "cell_type": "code",
   "execution_count": null,
   "id": "8a0c09f0",
   "metadata": {},
   "outputs": [],
   "source": []
  }
 ],
 "metadata": {
  "kernelspec": {
   "display_name": "Python 3 (ipykernel)",
   "language": "python",
   "name": "python3"
  },
  "language_info": {
   "codemirror_mode": {
    "name": "ipython",
    "version": 3
   },
   "file_extension": ".py",
   "mimetype": "text/x-python",
   "name": "python",
   "nbconvert_exporter": "python",
   "pygments_lexer": "ipython3",
   "version": "3.9.12"
  }
 },
 "nbformat": 4,
 "nbformat_minor": 5
}
