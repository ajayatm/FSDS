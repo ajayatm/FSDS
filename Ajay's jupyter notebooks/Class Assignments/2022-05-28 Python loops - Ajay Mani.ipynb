{
 "cells": [
  {
   "cell_type": "markdown",
   "id": "b68d3a8a",
   "metadata": {},
   "source": [
    "l = [[1,2,3,4] , (2,3,4,5,6) , (3,4,5,6,7) , set([23,4,5,45,4,4,5,45,45,4,5]) , {'k1' :\"sudh\" , \"k2\" : \"ineuron\",\"k3\":\n",
    "            \"kumar\" , 3:6 , 7:8} , [\"ineuron\" , \"data science \"]]\n",
    "\n",
    "\n",
    "\n",
    "\n",
    "\n",
    "    \n",
    "    \n",
    "before 29th may 2022 3 PM IST you have to send an answer to me or to shivan \n",
    "sudhanshu@ineuron.ai\n",
    "shivan@ineuron.ai"
   ]
  },
  {
   "cell_type": "code",
   "execution_count": 1,
   "id": "d4d48a77",
   "metadata": {},
   "outputs": [
    {
     "name": "stdout",
     "output_type": "stream",
     "text": [
      "ineuron \n",
      "ineuron ineuron \n",
      "ineuron ineuron ineuron \n",
      "ineuron ineuron ineuron ineuron \n"
     ]
    }
   ],
   "source": [
    "#q1 :\n",
    "#ineruon \n",
    "#ineruon ineruon \n",
    "#ineruon ineruon ineruon\n",
    "#ineruon ineruon ineruon ineruon\n",
    "\n",
    "for i in range(4):\n",
    "    print('ineuron ' * (i+1))"
   ]
  },
  {
   "cell_type": "code",
   "execution_count": 2,
   "id": "6c3e9150",
   "metadata": {},
   "outputs": [
    {
     "name": "stdout",
     "output_type": "stream",
     "text": [
      "                                                        ineuron                                                        \n",
      "                                                   ineuron   ineuron                                                   \n",
      "                                              ineuron   ineuron   ineuron                                              \n",
      "                                         ineuron   ineuron   ineuron   ineuron                                         \n",
      "                                    ineuron   ineuron   ineuron   ineuron   ineuron                                    \n",
      "                               ineuron   ineuron   ineuron   ineuron   ineuron   ineuron                               \n",
      "                          ineuron   ineuron   ineuron   ineuron   ineuron   ineuron   ineuron                          \n",
      "                     ineuron   ineuron   ineuron   ineuron   ineuron   ineuron   ineuron   ineuron                     \n",
      "                ineuron   ineuron   ineuron   ineuron   ineuron   ineuron   ineuron   ineuron   ineuron                \n",
      "                     ineuron   ineuron   ineuron   ineuron   ineuron   ineuron   ineuron   ineuron                     \n",
      "                          ineuron   ineuron   ineuron   ineuron   ineuron   ineuron   ineuron                          \n",
      "                               ineuron   ineuron   ineuron   ineuron   ineuron   ineuron                               \n",
      "                                    ineuron   ineuron   ineuron   ineuron   ineuron                                    \n",
      "                                         ineuron   ineuron   ineuron   ineuron                                         \n",
      "                                              ineuron   ineuron   ineuron                                              \n",
      "                                                   ineuron   ineuron                                                   \n",
      "                                                        ineuron                                                        \n"
     ]
    }
   ],
   "source": [
    "\"\"\"q2 - \n",
    "\n",
    "          ineruon\n",
    "    ineruon      ineruon\n",
    "ineruon     ineruon     ineruon\n",
    "    ineruon      ineruon\n",
    "          ineruon\"\"\"\n",
    "\n",
    "n = 17 #no. of lines in output\n",
    "s = 'ineuron'\n",
    "padding = int(len(s)/2)\n",
    "\n",
    "for i in range(int((n+1)/2)):\n",
    "    k = s + ' ' * padding\n",
    "    k = k * (i) + s\n",
    "    print(k.center(len(s)*n, ' '))\n",
    "for i in range(int((n)/2),0,-1):\n",
    "    k = s + ' ' * padding\n",
    "    k = k * (i - 1) + s\n",
    "    print(k.center(len(s)*n, ' '))"
   ]
  },
  {
   "cell_type": "code",
   "execution_count": 3,
   "id": "437fe493",
   "metadata": {},
   "outputs": [],
   "source": [
    "l = [[1,2,3,4] , (2,3,4,5,6) , (3,4,5,6,7) , set([23,4,5,45,4,4,5,45,45,4,5]) , {'k1' :\"sudh\" , \"k2\" : \"ineuron\",\"k3\":\n",
    "            \"kumar\" , 3:6 , 7:8} , [\"ineuron\" , \"data science \"]]\n"
   ]
  },
  {
   "cell_type": "code",
   "execution_count": 4,
   "id": "9b708cad",
   "metadata": {},
   "outputs": [
    {
     "name": "stdout",
     "output_type": "stream",
     "text": [
      "[1, 2, 3, 4]\n",
      "['ineuron', 'data science ']\n"
     ]
    }
   ],
   "source": [
    "#q3 : Try to extract all the list entity\n",
    "\n",
    "for i in l:\n",
    "    if type(i) is list:\n",
    "        print(i)"
   ]
  },
  {
   "cell_type": "code",
   "execution_count": 5,
   "id": "03f2dd90",
   "metadata": {},
   "outputs": [
    {
     "name": "stdout",
     "output_type": "stream",
     "text": [
      "{'k1': 'sudh', 'k2': 'ineuron', 'k3': 'kumar', 3: 6, 7: 8}\n"
     ]
    }
   ],
   "source": [
    "#q4 : Try to extract all the dict enteties\n",
    "\n",
    "for i in l:\n",
    "    if type(i) == dict:\n",
    "        print(i)"
   ]
  },
  {
   "cell_type": "code",
   "execution_count": 6,
   "id": "1d089881",
   "metadata": {},
   "outputs": [
    {
     "name": "stdout",
     "output_type": "stream",
     "text": [
      "(2, 3, 4, 5, 6)\n",
      "(3, 4, 5, 6, 7)\n"
     ]
    }
   ],
   "source": [
    "#q5 : Try to extract all the tuples entities\n",
    "\n",
    "for i in l:\n",
    "    if type(i) is tuple:\n",
    "        print(i)"
   ]
  },
  {
   "cell_type": "code",
   "execution_count": 7,
   "id": "58dc6646",
   "metadata": {},
   "outputs": [
    {
     "name": "stdout",
     "output_type": "stream",
     "text": [
      "<class 'list'> 1\n",
      "<class 'list'> 2\n",
      "<class 'list'> 3\n",
      "<class 'list'> 4\n",
      "<class 'tuple'> 2\n",
      "<class 'tuple'> 3\n",
      "<class 'tuple'> 4\n",
      "<class 'tuple'> 5\n",
      "<class 'tuple'> 6\n",
      "<class 'tuple'> 3\n",
      "<class 'tuple'> 4\n",
      "<class 'tuple'> 5\n",
      "<class 'tuple'> 6\n",
      "<class 'tuple'> 7\n",
      "<class 'set'> 45\n",
      "<class 'set'> 4\n",
      "<class 'set'> 5\n",
      "<class 'set'> 23\n",
      "<class 'dict'> key 3\n",
      "<class 'dict'> value 6\n",
      "<class 'dict'> key 7\n",
      "<class 'dict'> value 8\n"
     ]
    }
   ],
   "source": [
    "#q6 : Try to extract all the numerical data it may b a part of dict key and values \n",
    "l = [[1,2,3,4] , (2,3,4,5,6) , (3,4,5,6,7) , set([23,4,5,45,4,4,5,45,45,4,5]) , {'k1' :\"sudh\" , \"k2\" : \"ineuron\",\"k3\":\n",
    "            \"kumar\" , 3:6 , 7:8} , [\"ineuron\" , \"data science \"]]\n",
    "for i in l:\n",
    "    if type(i) == list or type(i) == tuple or type(i) == set:\n",
    "        for j in i:\n",
    "            if type(j) == int:\n",
    "                print(type(i), j)\n",
    "    elif type(i) == dict:\n",
    "        for k, v in i.items():\n",
    "            if type(k) == int:\n",
    "                print(type(i), 'key', k)\n",
    "            if type(v) == int:\n",
    "                print(type(i), 'value', v)"
   ]
  },
  {
   "cell_type": "code",
   "execution_count": 8,
   "id": "4c0e2c1c",
   "metadata": {},
   "outputs": [
    {
     "name": "stdout",
     "output_type": "stream",
     "text": [
      "sum =  156\n"
     ]
    }
   ],
   "source": [
    "#q7 : Try to give summation of all the numeric data \n",
    "sum = 0\n",
    "for i in l:\n",
    "    if type(i) == list or type(i) == tuple or type(i) == set:\n",
    "        for j in i:\n",
    "            if type(j) == int:\n",
    "                sum+=j\n",
    "    elif type(i) == dict:\n",
    "        for k, v in i.items():\n",
    "            if type(k) == int:\n",
    "                sum+=k\n",
    "            if type(v) == int:\n",
    "                sum+=v\n",
    "print('sum = ', sum)"
   ]
  },
  {
   "cell_type": "code",
   "execution_count": 9,
   "id": "1cd427a6",
   "metadata": {},
   "outputs": [
    {
     "name": "stdout",
     "output_type": "stream",
     "text": [
      "[1, 3, 3, 5, 3, 5, 7, 45, 5, 23, 3, 7]\n"
     ]
    }
   ],
   "source": [
    "#q8 : Try to filter out all the odd values out all numeric data which is a part of a list\n",
    "\n",
    "odd = []\n",
    "for i in l:\n",
    "    if type(i) == list or type(i) == tuple or type(i) == set:\n",
    "        for j in i:\n",
    "            if type(j) == int and j%2 != 0:\n",
    "                odd.append(j)\n",
    "    elif type(i) == dict:\n",
    "        for k, v in i.items():\n",
    "            if type(k) == int and k%2 != 0:\n",
    "                odd.append(k)\n",
    "            if type(v) == int and v%2 != 0:\n",
    "                odd.append(v)\n",
    "print(odd)"
   ]
  },
  {
   "cell_type": "code",
   "execution_count": 10,
   "id": "7ea58f78",
   "metadata": {},
   "outputs": [
    {
     "name": "stdout",
     "output_type": "stream",
     "text": [
      "<class 'dict'> value ineuron\n",
      "<class 'list'> ineuron\n"
     ]
    }
   ],
   "source": [
    "#q9 : Try to extract \"ineruon\" out of this data\n",
    "\n",
    "for i in l:\n",
    "    if type(i) == list or type(i) == tuple or type(i) == set:\n",
    "        for j in i:\n",
    "            if j == 'ineuron':\n",
    "                print(type(i), j)\n",
    "    elif type(i) == dict:\n",
    "        for k, v in i.items():\n",
    "            if k == 'ineuron':\n",
    "                print(type(i), 'key', k)\n",
    "            if v == 'ineuron':\n",
    "                print(type(i), 'value', v)"
   ]
  },
  {
   "cell_type": "code",
   "execution_count": 11,
   "id": "121e845d",
   "metadata": {},
   "outputs": [
    {
     "name": "stdout",
     "output_type": "stream",
     "text": [
      "1 1\n",
      "2 2\n",
      "3 4\n",
      "4 4\n",
      "5 3\n",
      "6 3\n",
      "7 2\n",
      "k1 1\n",
      "k3 1\n",
      "kumar 1\n",
      "8 1\n",
      "45 1\n",
      "data science  1\n",
      "k2 1\n",
      "23 1\n",
      "ineuron 2\n",
      "sudh 1\n"
     ]
    }
   ],
   "source": [
    "#q10 :Try to find out a number of occurances of all the data\n",
    "flatlist = []\n",
    "for i in l:\n",
    "    if type(i) == list or type(i) == tuple or type(i) == set:\n",
    "        for j in i:\n",
    "            flatlist.append(j)\n",
    "    elif type(i) == dict:\n",
    "        for k, v in i.items():\n",
    "            flatlist.append(k)\n",
    "            flatlist.append(v)\n",
    "uniqueset = set(flatlist)\n",
    "\n",
    "for i in uniqueset:\n",
    "    print(i, flatlist.count(i))"
   ]
  },
  {
   "cell_type": "code",
   "execution_count": 12,
   "id": "49b38e8f",
   "metadata": {},
   "outputs": [
    {
     "name": "stdout",
     "output_type": "stream",
     "text": [
      "5\n"
     ]
    }
   ],
   "source": [
    "#q11 : Try to find out number of keys in dict element\n",
    "keycount = 0\n",
    "for i in l:\n",
    "    if type(i) == dict:\n",
    "        for j in i:\n",
    "            keycount+=1\n",
    "print(keycount)"
   ]
  },
  {
   "cell_type": "code",
   "execution_count": 13,
   "id": "74ef0003",
   "metadata": {},
   "outputs": [
    {
     "name": "stdout",
     "output_type": "stream",
     "text": [
      "['k1', 'sudh', 'k2', 'ineuron', 'k3', 'kumar', 'ineuron', 'data science ']\n"
     ]
    }
   ],
   "source": [
    "#q12 : Try to filter out all the string data\n",
    "strlist = []\n",
    "for i in l:\n",
    "    if type(i) is list or type(i) is tuple or type(i) is set:\n",
    "        for j in i:\n",
    "            if type(j) is str:\n",
    "                strlist.append(j)\n",
    "    elif type(i) == dict:\n",
    "        for k, v in i.items():\n",
    "            if type(k) is str:\n",
    "                strlist.append(k)\n",
    "            if type(v) is str:\n",
    "                strlist.append(v)\n",
    "print(strlist)"
   ]
  },
  {
   "cell_type": "code",
   "execution_count": 14,
   "id": "6e347154",
   "metadata": {},
   "outputs": [
    {
     "name": "stdout",
     "output_type": "stream",
     "text": [
      "['k1', 'sudh', 'k2', 'ineuron', 'k3', 'kumar', 'ineuron']\n"
     ]
    }
   ],
   "source": [
    "#q13 : Try to Find  out alphanum in data\n",
    "\n",
    "alnumlist = []\n",
    "for i in l:\n",
    "    if type(i) is list or type(i) is tuple or type(i) is set:\n",
    "        for j in i:\n",
    "            if type(j) is str and j.isalnum():\n",
    "                alnumlist.append(j)\n",
    "    elif type(i) == dict:\n",
    "        for k, v in i.items():\n",
    "            if type(k) is str and k.isalnum():\n",
    "                alnumlist.append(k)\n",
    "            if type(v) is str and v.isalnum():\n",
    "                alnumlist.append(v)\n",
    "print(alnumlist)"
   ]
  },
  {
   "cell_type": "code",
   "execution_count": 16,
   "id": "0ec6ebd3",
   "metadata": {},
   "outputs": [
    {
     "name": "stdout",
     "output_type": "stream",
     "text": [
      "multi =  908605071360000\n"
     ]
    }
   ],
   "source": [
    "#q14 : Try to find out multiplication of all numeric value in  the individual collection inside dataset \n",
    "\n",
    "multi = 1\n",
    "for i in l:\n",
    "    if type(i) == list or type(i) == tuple or type(i) == set:\n",
    "        for j in i:\n",
    "            if type(j) == int:\n",
    "                multi*=j\n",
    "    elif type(i) == dict:\n",
    "        for k, v in i.items():\n",
    "            if type(k) == int:\n",
    "                multi*=k\n",
    "            if type(v) == int:\n",
    "                multi*=v\n",
    "print('multi = ', multi)"
   ]
  },
  {
   "cell_type": "code",
   "execution_count": 18,
   "id": "d49bbbaf",
   "metadata": {},
   "outputs": [
    {
     "name": "stdout",
     "output_type": "stream",
     "text": [
      "[1, 2, 3, 4, 2, 3, 4, 5, 6, 3, 4, 5, 6, 7, 45, 4, 5, 23, 'k1', 'sudh', 'k2', 'ineuron', 'k3', 'kumar', 3, 6, 7, 8, 'ineuron', 'data science ']\n"
     ]
    }
   ],
   "source": [
    "#q15 : Try to unwrape all the collection inside collection and create a flat list \n",
    "flatlist = []\n",
    "for i in l:\n",
    "    if type(i) == list or type(i) == tuple or type(i) == set:\n",
    "        for j in i:\n",
    "            flatlist.append(j)\n",
    "    elif type(i) == dict:\n",
    "        for k, v in i.items():\n",
    "            flatlist.append(k)\n",
    "            flatlist.append(v)\n",
    "\n",
    "print(flatlist)"
   ]
  }
 ],
 "metadata": {
  "kernelspec": {
   "display_name": "Python 3.10.7 64-bit",
   "language": "python",
   "name": "python3"
  },
  "language_info": {
   "codemirror_mode": {
    "name": "ipython",
    "version": 3
   },
   "file_extension": ".py",
   "mimetype": "text/x-python",
   "name": "python",
   "nbconvert_exporter": "python",
   "pygments_lexer": "ipython3",
   "version": "3.10.7"
  },
  "vscode": {
   "interpreter": {
    "hash": "26de051ba29f2982a8de78e945f0abaf191376122a1563185a90213a26c5da77"
   }
  }
 },
 "nbformat": 4,
 "nbformat_minor": 5
}
