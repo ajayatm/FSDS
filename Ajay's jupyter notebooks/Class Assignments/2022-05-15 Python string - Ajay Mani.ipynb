{
 "cells": [
  {
   "cell_type": "code",
   "execution_count": 2,
   "id": "ee7a8e36",
   "metadata": {},
   "outputs": [],
   "source": [
    "s = \"This is my first Python programming class and I am learning python string and its functions.\""
   ]
  },
  {
   "cell_type": "code",
   "execution_count": 3,
   "id": "6c723ecd",
   "metadata": {},
   "outputs": [
    {
     "data": {
      "text/plain": [
       "'h   r tnrrmglsnImengyosi dtfco.'"
      ]
     },
     "execution_count": 3,
     "metadata": {},
     "output_type": "execute_result"
    }
   ],
   "source": [
    "#01. Try to extract data from index one to index 300 with a jump of 3\n",
    "\n",
    "s[1:300:3]"
   ]
  },
  {
   "cell_type": "code",
   "execution_count": 4,
   "id": "746f98b8",
   "metadata": {},
   "outputs": [
    {
     "data": {
      "text/plain": [
       "'.snoitcnuf sti dna gnirts nohtyp gninrael ma I dna ssalc gnimmargorp nohtyP tsrif ym si sihT'"
      ]
     },
     "execution_count": 4,
     "metadata": {},
     "output_type": "execute_result"
    }
   ],
   "source": [
    "#02. Try to reverse a string without using reverse function\n",
    "\n",
    "s[::-1]"
   ]
  },
  {
   "cell_type": "code",
   "execution_count": 7,
   "id": "7425d626",
   "metadata": {},
   "outputs": [
    {
     "data": {
      "text/plain": [
       "['THIS',\n",
       " 'IS',\n",
       " 'MY',\n",
       " 'FIRST',\n",
       " 'PYTHON',\n",
       " 'PROGRAMMING',\n",
       " 'CLASS',\n",
       " 'AND',\n",
       " 'I',\n",
       " 'AM',\n",
       " 'LEARNING',\n",
       " 'PYTHON',\n",
       " 'STRING',\n",
       " 'AND',\n",
       " 'ITS',\n",
       " 'FUNCTIONS.']"
      ]
     },
     "execution_count": 7,
     "metadata": {},
     "output_type": "execute_result"
    }
   ],
   "source": [
    "#03. Try to split a string after conversion of entire string in uppercase\n",
    "\n",
    "t = s.upper()\n",
    "t.split(' ')"
   ]
  },
  {
   "cell_type": "code",
   "execution_count": 8,
   "id": "d2eff400",
   "metadata": {},
   "outputs": [
    {
     "data": {
      "text/plain": [
       "'this is my first python programming class and i am learning python string and its functions.'"
      ]
     },
     "execution_count": 8,
     "metadata": {},
     "output_type": "execute_result"
    }
   ],
   "source": [
    "#04. try to convert the whole string into lower case\n",
    "\n",
    "s.lower()"
   ]
  },
  {
   "cell_type": "code",
   "execution_count": 9,
   "id": "7691f39d",
   "metadata": {},
   "outputs": [
    {
     "data": {
      "text/plain": [
       "'This is my first python programming class and i am learning python string and its functions.'"
      ]
     },
     "execution_count": 9,
     "metadata": {},
     "output_type": "execute_result"
    }
   ],
   "source": [
    "#05. Try to capitalize the whole string\n",
    "\n",
    "s.capitalize()"
   ]
  },
  {
   "cell_type": "markdown",
   "id": "8308b14e",
   "metadata": {},
   "source": [
    "#06. Write a diference between isalnum() and isalpha()\n",
    "\n",
    "a = 'a1'\n",
    "b = 'cc'\n",
    "a.isalnum() - True\n",
    "a.isalpha() - False\n",
    "b.isalnum() - True\n",
    "a.isalpha() - True\n",
    "\n",
    "isalnum() function checks if the string contains only alphabets and numbers (alphanumeric) characters.\n",
    "isalpha() function checks if the string contains only alphabetic characters."
   ]
  },
  {
   "cell_type": "code",
   "execution_count": 20,
   "id": "d88ad662",
   "metadata": {},
   "outputs": [
    {
     "data": {
      "text/plain": [
       "'iNeuron is      GREAT!!!'"
      ]
     },
     "execution_count": 20,
     "metadata": {},
     "output_type": "execute_result"
    }
   ],
   "source": [
    "#07. Try to give an example of expand tab\n",
    "\n",
    "c = 'iNeuron\\tis\\tGREAT!!!'\n",
    "c.expandtabs()"
   ]
  },
  {
   "cell_type": "code",
   "execution_count": 23,
   "id": "03c3ec1b",
   "metadata": {},
   "outputs": [
    {
     "name": "stdout",
     "output_type": "stream",
     "text": [
      "****A****B****C****D****\n",
      "A****B****C****D\n",
      "A****B****C****D****\n",
      "****A****B****C****D\n"
     ]
    }
   ],
   "source": [
    "#08. Give an example of strip , lstrip and rstrip\n",
    "\n",
    "d = '    A    B    C    D    '\n",
    "print(d.replace(' ','*'))\n",
    "print(d.strip().replace(' ','*'))\n",
    "print(d.lstrip().replace(' ','*'))\n",
    "print(d.rstrip().replace(' ','*'))"
   ]
  },
  {
   "cell_type": "code",
   "execution_count": 27,
   "id": "bb0febb2",
   "metadata": {},
   "outputs": [
    {
     "data": {
      "text/plain": [
       "'iNeuron'"
      ]
     },
     "execution_count": 27,
     "metadata": {},
     "output_type": "execute_result"
    }
   ],
   "source": [
    "#09.  Replace a string charecter by another charector by taking your own example\n",
    "\n",
    "e = 'ineuron'\n",
    "e.replace('n','N',1)"
   ]
  },
  {
   "cell_type": "code",
   "execution_count": 29,
   "id": "acbd2f1a",
   "metadata": {},
   "outputs": [
    {
     "data": {
      "text/plain": [
       "'!!!!This is my first Python programming class and I am learning python string and its functions.!!!!'"
      ]
     },
     "execution_count": 29,
     "metadata": {},
     "output_type": "execute_result"
    }
   ],
   "source": [
    "#10. Try  to give a definition of string center function with and example\n",
    "\n",
    "#Definition: center() function places input string at the center of given no. of character width, with \n",
    "#the remaining space before and after filled in with given 'fill' characrter.\n",
    "\n",
    "s.center(100,'!')"
   ]
  },
  {
   "cell_type": "markdown",
   "id": "3946cbb9",
   "metadata": {},
   "source": [
    "#11. Write your own definition of compiler and interpretor without copy paste form internet in your own language\n",
    "\n",
    "Compilers compiles high level programming language into machine code which can be then later executed by the processor.\n",
    "Compilers usually compile the entire program as a whole.\n",
    "\n",
    "Interpretors can directly translate source code to machine code and executed on the fly. Some Interpretor translates the high level language to an intermediate bytecode and then a machine specific software simultaneously interprets it during execution on the processor.  Interpreters usually executes code line by line."
   ]
  },
  {
   "cell_type": "markdown",
   "id": "0cd787ec",
   "metadata": {},
   "source": [
    "#12. Python is a interpreted or compiled language give a clear ans with your understanding\n",
    "\n",
    "The CPython implementaion is not compiled manually and it is interpreted by Python in two simultaneous steps - generation of byte code and then execution by Python Virtual Machine. These two steps are abstracted from the user and it gives a feeling of an intepreted language without the build process of a compiler."
   ]
  },
  {
   "cell_type": "markdown",
   "id": "390a6615",
   "metadata": {},
   "source": [
    "#13. Try to write a usecase of python with your understanding\n",
    "\n",
    "Python has a lot of libraries that can be used for statistical and forecasting purposes. These could be used for predicting future behaviors like stock price prediction, weather prediction, traffic prediction, sales prediction, risk assessment etc. if suitable data could be obtained of any current occurrence."
   ]
  }
 ],
 "metadata": {
  "kernelspec": {
   "display_name": "Python 3 (ipykernel)",
   "language": "python",
   "name": "python3"
  },
  "language_info": {
   "codemirror_mode": {
    "name": "ipython",
    "version": 3
   },
   "file_extension": ".py",
   "mimetype": "text/x-python",
   "name": "python",
   "nbconvert_exporter": "python",
   "pygments_lexer": "ipython3",
   "version": "3.9.12"
  }
 },
 "nbformat": 4,
 "nbformat_minor": 5
}
