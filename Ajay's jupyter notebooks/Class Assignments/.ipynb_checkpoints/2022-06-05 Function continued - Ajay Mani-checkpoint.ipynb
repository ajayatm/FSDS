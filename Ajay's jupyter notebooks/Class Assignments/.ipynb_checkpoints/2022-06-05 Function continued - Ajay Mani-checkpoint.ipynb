{
 "cells": [
  {
   "cell_type": "markdown",
   "id": "c553016b",
   "metadata": {},
   "source": [
    "Todays task :\n",
    "    q1 : Try to print a prime number in between 1 to 1000\n",
    "    q2 : Try to write a function which  is equivalent  to print function in python\n",
    "    q3 : Try to write a function which is a replica of list append , extend and pop function \n",
    "    q4 : Try to write a lambda function which can return a concatination of all the string that we will pass\n",
    "    q5 : Try to write a lambda function which can return list of square of all the data between 1-100 \n",
    "    q6 : Try to write a 10 Different different example of lambda function with a choice of your taks \n",
    "    q7 : Try to wwrite a funtion whihc can perform a read operation from .txt file \n",
    "        \n",
    "        shivan@ineuron.ai\n",
    "        sudhashu@ineuron.ai"
   ]
  },
  {
   "cell_type": "code",
   "execution_count": null,
   "id": "0b18302c",
   "metadata": {},
   "outputs": [],
   "source": [
    "#q1 : Try to print a prime number in between 1 to 1000\n",
    "\n",
    "def getprime(start,end):\n",
    "    primelist = []\n",
    "    for i in range(start,end+1):\n",
    "        count = 0\n",
    "        for j in range(start, int((end+2)/2)):\n",
    "            if i > j:\n",
    "                if (i%j == 0):\n",
    "                    count+=1\n",
    "        if count == 1:\n",
    "            primelist.append(i)\n",
    "    return primelist"
   ]
  },
  {
   "cell_type": "code",
   "execution_count": 13,
   "id": "7141dd8c",
   "metadata": {},
   "outputs": [],
   "source": [
    "#q2 : Try to write a function which  is equivalent  to print function in python\n",
    "\n",
    "def printfunction(*args):\n",
    "    return args"
   ]
  },
  {
   "cell_type": "code",
   "execution_count": 106,
   "id": "2e675501",
   "metadata": {},
   "outputs": [],
   "source": [
    "#q3 : Try to write a function which is a replica of list append , extend and pop function\n",
    "\n",
    "def listappend(l,a):\n",
    "    l.insert(len(l),a)\n",
    "    return l\n",
    "\n",
    "def listextend(l,k):\n",
    "    for i in k:\n",
    "        l.insert(len(l),i)\n",
    "    return l\n",
    "\n",
    "def listpop(l,a):\n",
    "    if a == len(l) - 1:    \n",
    "        k = l[-1]\n",
    "    elif a >= len(l):\n",
    "        return \"Invalid Index\"\n",
    "    else:\n",
    "        for i in range(len(l)-1):\n",
    "            if i >= a:\n",
    "                if i == a:\n",
    "                    k = l[i]\n",
    "                l[i] = l[i+1]\n",
    "\n",
    "    l = l[:-1]       \n",
    "    return k,l"
   ]
  },
  {
   "cell_type": "code",
   "execution_count": 125,
   "id": "32c8ad11",
   "metadata": {},
   "outputs": [],
   "source": [
    "#q4 : Try to write a lambda function which can return a concatination of all the string that we will pass\n",
    "\n",
    "sumstrings = lambda *x: [''.join(i for i in x)]"
   ]
  },
  {
   "cell_type": "code",
   "execution_count": 238,
   "id": "58f48f3e",
   "metadata": {},
   "outputs": [],
   "source": [
    "#q5 : Try to write a lambda function which can return list of square of all the data between 1-100 \n",
    "\n",
    "c = [(lambda x: x*x)(x) for x in range(1,101)]"
   ]
  },
  {
   "cell_type": "code",
   "execution_count": 289,
   "id": "dda0bd6b",
   "metadata": {},
   "outputs": [
    {
     "data": {
      "text/plain": [
       "5050"
      ]
     },
     "execution_count": 289,
     "metadata": {},
     "output_type": "execute_result"
    }
   ],
   "source": [
    "#q6 : Try to write a 10 Different different example of lambda function with a choice of your tasks\n",
    "\n",
    "#1. Add two numbers\n",
    "a = lambda x,y:x+y\n",
    "\n",
    "#2. return sum of values from a dictionary\n",
    "b = lambda d: sum(v for k,v in d.items())\n",
    "\n",
    "#3. get the length of a list\n",
    "c = lambda l: max(i for i in l)\n",
    "\n",
    "#4. find greater between two numbers\n",
    "d = lambda x,y: x if x >= y else y\n",
    "\n",
    "#5. find average of medians from a list of lists\n",
    "from statistics import *\n",
    "e = lambda l: median(l)\n",
    "avgofmed = lambda k: mean([e(i) for i in k])\n",
    "\n",
    "#6. Find the cube of a number\n",
    "(lambda x:pow(x,3))(10)\n",
    "\n",
    "#7. filter even numbers from a list\n",
    "list(filter(lambda x: x%2 == 0,range(10)))\n",
    "\n",
    "#8. get squares for all numbers in a list\n",
    "list(map(lambda x:x*x,range(10)))\n",
    "\n",
    "#9. Multiple conditions\n",
    "(lambda x: 'Good' if x > 10 else ('Bad' if x < 5 else 'Okay'))(4)\n",
    "\n",
    "#10. sum of all numbers in a list\n",
    "from functools import reduce\n",
    "(reduce(lambda x,y:x+y, range(101) ))"
   ]
  },
  {
   "cell_type": "code",
   "execution_count": 301,
   "id": "a7c66076",
   "metadata": {},
   "outputs": [
    {
     "name": "stdout",
     "output_type": "stream",
     "text": [
      "Christian Bale (born 1974) is an English actor. Known for his versatility and recurring physical transformations to play his roles, Bale has been a leading man in films of several genres. Born in Wales, he had his breakthrough role at age 13 in the war film Empire of the Sun (1987) and gained wider recognition for his work in the black comedy American Psycho (2000) and the psychological thriller The Machinist (2004). Bale played the superhero Batman in Batman Begins (2005) and reprised the role in the sequels The Dark Knight (2008) and The Dark Knight Rises (2012). He received acclaim for his performance in the trilogy, which is one of the highest-grossing film franchises. The recipient of various accolades, including an Academy Award and a Golden Globe Award for his portrayal of the boxer Dicky Eklund in the biographical film The Fighter (2010), Bale was listed on Forbes magazine's list of the highest-paid actors in 2014.\n"
     ]
    }
   ],
   "source": [
    "#q7 : Try to wwrite a funtion whihc can perform a read operation from .txt file\n",
    "\n",
    "f = open('test.txt','r')\n",
    "print(f.read())\n",
    "f.close()"
   ]
  },
  {
   "cell_type": "code",
   "execution_count": null,
   "id": "d66495cb",
   "metadata": {},
   "outputs": [],
   "source": []
  }
 ],
 "metadata": {
  "kernelspec": {
   "display_name": "Python 3 (ipykernel)",
   "language": "python",
   "name": "python3"
  },
  "language_info": {
   "codemirror_mode": {
    "name": "ipython",
    "version": 3
   },
   "file_extension": ".py",
   "mimetype": "text/x-python",
   "name": "python",
   "nbconvert_exporter": "python",
   "pygments_lexer": "ipython3",
   "version": "3.9.12"
  }
 },
 "nbformat": 4,
 "nbformat_minor": 5
}
