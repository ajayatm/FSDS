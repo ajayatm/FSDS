{
 "cells": [
  {
   "cell_type": "markdown",
   "id": "30a7d5ca",
   "metadata": {},
   "source": [
    "#Questions \n",
    "\n",
    "l = [3,4,5,6,7 , [23,456,67,8,78,78] , [345,56,87,8,98,9] , (234,6657,6) , {\"key1\" :\"sudh\" , 234:[23,45,656]}]\n",
    "1 . Try to reverse a list \n",
    "2.  try to access 234 out of this list \n",
    "3 . try to access 456 \n",
    "4 . Try to extract only a list collection form list l \n",
    "5 . Try to extract \"sudh\"\n",
    "6 . Try to list all the key in dict element avaible in list \n",
    "7 . Try to extract all the value element form dict available in list "
   ]
  },
  {
   "cell_type": "code",
   "execution_count": 1,
   "id": "2cf95963",
   "metadata": {},
   "outputs": [],
   "source": [
    "l = [3,4,5,6,7 , [23,456,67,8,78,78] , [345,56,87,8,98,9] , (234,6657,6) , {\"key1\" :\"sudh\" , 234:[23,45,656]}]"
   ]
  },
  {
   "cell_type": "code",
   "execution_count": 2,
   "id": "b165ec56",
   "metadata": {},
   "outputs": [
    {
     "data": {
      "text/plain": [
       "[{'key1': 'sudh', 234: [23, 45, 656]},\n",
       " (234, 6657, 6),\n",
       " [345, 56, 87, 8, 98, 9],\n",
       " [23, 456, 67, 8, 78, 78],\n",
       " 7,\n",
       " 6,\n",
       " 5,\n",
       " 4,\n",
       " 3]"
      ]
     },
     "execution_count": 2,
     "metadata": {},
     "output_type": "execute_result"
    }
   ],
   "source": [
    "#1 . Try to reverse a list\n",
    "\n",
    "l[::-1]"
   ]
  },
  {
   "cell_type": "code",
   "execution_count": 17,
   "id": "b8704d01",
   "metadata": {},
   "outputs": [
    {
     "name": "stdout",
     "output_type": "stream",
     "text": [
      "234\n",
      "dict_keys(['key1', 234])\n"
     ]
    }
   ],
   "source": [
    "#2.  try to access 234 out of this list\n",
    "\n",
    "print(l[7][0])\n",
    "print(l[8].keys())"
   ]
  },
  {
   "cell_type": "code",
   "execution_count": 19,
   "id": "100a49ca",
   "metadata": {},
   "outputs": [
    {
     "data": {
      "text/plain": [
       "456"
      ]
     },
     "execution_count": 19,
     "metadata": {},
     "output_type": "execute_result"
    }
   ],
   "source": [
    "#3 . try to access 456\n",
    "\n",
    "l[5][1]"
   ]
  },
  {
   "cell_type": "code",
   "execution_count": 20,
   "id": "617b2d2f",
   "metadata": {},
   "outputs": [
    {
     "name": "stdout",
     "output_type": "stream",
     "text": [
      "[[23, 456, 67, 8, 78, 78], [345, 56, 87, 8, 98, 9]]\n"
     ]
    }
   ],
   "source": [
    "#4 . Try to extract only a list collection form list l\n",
    "\n",
    "l1 = l[5:7]\n",
    "print(l1)"
   ]
  },
  {
   "cell_type": "code",
   "execution_count": 21,
   "id": "01c31d7d",
   "metadata": {},
   "outputs": [
    {
     "data": {
      "text/plain": [
       "list"
      ]
     },
     "execution_count": 21,
     "metadata": {},
     "output_type": "execute_result"
    }
   ],
   "source": [
    "type(l1)"
   ]
  },
  {
   "cell_type": "code",
   "execution_count": 25,
   "id": "fa2a82d5",
   "metadata": {},
   "outputs": [
    {
     "data": {
      "text/plain": [
       "'sudh'"
      ]
     },
     "execution_count": 25,
     "metadata": {},
     "output_type": "execute_result"
    }
   ],
   "source": [
    "#5 . Try to extract \"sudh\"\n",
    "#l = [3,4,5,6,7 , [23,456,67,8,78,78] , [345,56,87,8,98,9] , (234,6657,6) , {\"key1\" :\"sudh\" , 234:[23,45,656]}]\n",
    "\n",
    "l[8]['key1']\n"
   ]
  },
  {
   "cell_type": "code",
   "execution_count": 29,
   "id": "b30d06b9",
   "metadata": {},
   "outputs": [
    {
     "data": {
      "text/plain": [
       "dict_keys(['key1', 234])"
      ]
     },
     "execution_count": 29,
     "metadata": {},
     "output_type": "execute_result"
    }
   ],
   "source": [
    "#6 . Try to list all the key in dict element avaible in list\n",
    "\n",
    "l[8].keys()"
   ]
  },
  {
   "cell_type": "code",
   "execution_count": 30,
   "id": "740dcd76",
   "metadata": {},
   "outputs": [
    {
     "data": {
      "text/plain": [
       "dict_values(['sudh', [23, 45, 656]])"
      ]
     },
     "execution_count": 30,
     "metadata": {},
     "output_type": "execute_result"
    }
   ],
   "source": [
    "#7 . Try to extract all the value element form dict available in list\n",
    "\n",
    "l[8].values()"
   ]
  },
  {
   "cell_type": "code",
   "execution_count": 35,
   "id": "13a4f1dc",
   "metadata": {},
   "outputs": [
    {
     "name": "stdout",
     "output_type": "stream",
     "text": [
      "['key1']\n",
      "[234]\n"
     ]
    }
   ],
   "source": [
    "for i in l[8]:\n",
    "    print([i])"
   ]
  },
  {
   "cell_type": "code",
   "execution_count": null,
   "id": "2d0571d1",
   "metadata": {},
   "outputs": [],
   "source": []
  }
 ],
 "metadata": {
  "kernelspec": {
   "display_name": "Python 3 (ipykernel)",
   "language": "python",
   "name": "python3"
  },
  "language_info": {
   "codemirror_mode": {
    "name": "ipython",
    "version": 3
   },
   "file_extension": ".py",
   "mimetype": "text/x-python",
   "name": "python",
   "nbconvert_exporter": "python",
   "pygments_lexer": "ipython3",
   "version": "3.9.12"
  }
 },
 "nbformat": 4,
 "nbformat_minor": 5
}
