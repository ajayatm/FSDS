{
 "cells": [
  {
   "cell_type": "markdown",
   "id": "fb4f0a64",
   "metadata": {},
   "source": [
    "#1.What are the two values of the Boolean data type? How do you write them?\n",
    "\n",
    "True, False"
   ]
  },
  {
   "cell_type": "markdown",
   "id": "98dd3362",
   "metadata": {},
   "source": [
    "#2. What are the three different types of Boolean operators?\n",
    "\n",
    "OR, AND, NOT"
   ]
  },
  {
   "cell_type": "markdown",
   "id": "7d4e60fe",
   "metadata": {},
   "source": [
    "#3. Make a list of each Boolean operator's truth tables \n",
    "(i.e. every possible combination of Boolean values for the operator and what it evaluate ).\n",
    "\n",
    "OR operator\n",
    "\n",
    "operand1 operand2 Result\n",
    "True     True     True\n",
    "True     False    True\n",
    "False    True     True\n",
    "False    False    False\n",
    "\n",
    "\n",
    "AND operator\n",
    "\n",
    "operand1 operand2 Result\n",
    "True     True     True\n",
    "True     False    False\n",
    "False    True     False\n",
    "False    False    False\n",
    "\n",
    "\n",
    "NOT operator\n",
    "\n",
    "operand  Result\n",
    "True     False\n",
    "False    True"
   ]
  },
  {
   "cell_type": "markdown",
   "id": "856eaf64",
   "metadata": {},
   "source": [
    "4. What are the values of the following expressions?\n",
    "(5 > 4) and (3 == 5) --> False\n",
    "not (5 > 4) --> False\n",
    "(5 > 4) or (3 == 5) --> True\n",
    "not ((5 > 4) or (3 == 5)) --> False\n",
    "(True and True) and (True == False) --> False\n",
    "(not False) or (not True) --> True"
   ]
  },
  {
   "cell_type": "markdown",
   "id": "a08f2742",
   "metadata": {},
   "source": [
    "5. What are the six comparison operators?\n",
    "\n",
    "<, >, <=, >=, !=, =="
   ]
  },
  {
   "cell_type": "markdown",
   "id": "8b53e911",
   "metadata": {},
   "source": [
    "6. How do you tell the difference between the equal to and assignment operators? \n",
    "Describe a condition and when you would use one.\n",
    "\n",
    "eqauality operator is '=='\n",
    "assignment operator is '='"
   ]
  },
  {
   "cell_type": "markdown",
   "id": "e18b6532",
   "metadata": {},
   "source": [
    "7. Identify the three blocks in this code:\n",
    "spam = 0\n",
    "if spam == 10:\n",
    "    print('eggs') --> Block 1\n",
    "if spam > 5:\n",
    "    print('bacon') --> Block 2\n",
    "else:\n",
    "    print('ham')  --> Block 3\n",
    "    print('spam') --> Block 3\n",
    "    print('spam') --> Block 3"
   ]
  },
  {
   "cell_type": "code",
   "execution_count": 11,
   "id": "51209c89",
   "metadata": {},
   "outputs": [
    {
     "name": "stdout",
     "output_type": "stream",
     "text": [
      "eggs\n",
      "bacon\n"
     ]
    }
   ],
   "source": [
    "#8. Write code that prints Hello if 1 is stored in spam, \n",
    "#prints Howdy if 2 is stored in spam, and prints Greetings! if anything else is stored in spam.\n",
    "\n",
    "if spam == 1:\n",
    "    print('Hello')\n",
    "elif spam == 2:\n",
    "    print(\"Howdy\")\n",
    "else:\n",
    "    print(\"Greetings!\")"
   ]
  },
  {
   "cell_type": "markdown",
   "id": "5533ff2c",
   "metadata": {},
   "source": [
    "9.If your programme is stuck in an endless loop, what keys you’ll press?\n",
    "\n",
    "Ctrl+C"
   ]
  },
  {
   "cell_type": "code",
   "execution_count": 3,
   "id": "223e104d",
   "metadata": {},
   "outputs": [
    {
     "name": "stdout",
     "output_type": "stream",
     "text": [
      "0\n",
      "going to next iteration\n",
      "1\n",
      "going to next iteration\n",
      "2\n",
      "going to next iteration\n",
      "3\n",
      "going to next iteration\n",
      "4\n",
      "going to next iteration\n",
      "5\n",
      "going to next iteration\n",
      "6\n",
      "0\n",
      "going to next iteration\n",
      "1\n",
      "going to next iteration\n",
      "2\n",
      "going to next iteration\n",
      "3\n",
      "going to next iteration\n",
      "4\n",
      "going to next iteration\n",
      "5\n",
      "going to next iteration\n",
      "6\n",
      "7\n",
      "8\n",
      "9\n"
     ]
    }
   ],
   "source": [
    "#10. How can you tell the difference between break and continue?\n",
    "\n",
    "for i in range(10):\n",
    "    print(i)\n",
    "    if (i > 5):\n",
    "        break\n",
    "    print(\"going to next iteration\")\n",
    "\n",
    "\n",
    "for i in range(10):\n",
    "    print(i)\n",
    "    if (i > 5):\n",
    "        continue\n",
    "    print(\"going to next iteration\")\n",
    "\n",
    "Answer: break terminates the entire loop and exits the current loop. \n",
    "    continue skips the remaining statements of the loop after it and go back to the beginning of next loop."
   ]
  },
  {
   "cell_type": "markdown",
   "id": "6ec853d1",
   "metadata": {},
   "source": [
    "#11. In a for loop, what is the difference between range(10), range(0, 10), and range(0, 10, 1)?\n",
    "\n",
    "range(start, stop[, step]) \n",
    "There is no difference. In range function the starting number is defaulted to 0 and step is defaulted to 1. \n",
    "These two could be omitted in the range function if it's the defaut values."
   ]
  },
  {
   "cell_type": "code",
   "execution_count": 13,
   "id": "547f060d",
   "metadata": {},
   "outputs": [
    {
     "name": "stdout",
     "output_type": "stream",
     "text": [
      "1\n",
      "2\n",
      "3\n",
      "4\n",
      "5\n",
      "6\n",
      "7\n",
      "8\n",
      "9\n",
      "10\n",
      "1\n",
      "2\n",
      "3\n",
      "4\n",
      "5\n",
      "6\n",
      "7\n",
      "8\n",
      "9\n",
      "10\n"
     ]
    }
   ],
   "source": [
    "#12. Write a short program that prints the numbers 1 to 10 using a for loop. \n",
    "#Then write an equivalent program that prints the numbers 1 to 10 using a while loop.\n",
    "\n",
    "for i in range(1,11):\n",
    "    print(i)\n",
    "\n",
    "i = 1\n",
    "while (i < 11):\n",
    "    print(i)\n",
    "    i+=1"
   ]
  },
  {
   "cell_type": "code",
   "execution_count": null,
   "id": "f5217904",
   "metadata": {},
   "outputs": [],
   "source": [
    "#13. If you had a function named bacon() inside a module named spam, how would you call it after importing spam?\n",
    "\n",
    "from spam import bacon\n",
    "bacon()\n",
    "\n",
    "import spam\n",
    "spam.bacon()"
   ]
  }
 ],
 "metadata": {
  "kernelspec": {
   "display_name": "Python 3 (ipykernel)",
   "language": "python",
   "name": "python3"
  },
  "language_info": {
   "codemirror_mode": {
    "name": "ipython",
    "version": 3
   },
   "file_extension": ".py",
   "mimetype": "text/x-python",
   "name": "python",
   "nbconvert_exporter": "python",
   "pygments_lexer": "ipython3",
   "version": "3.9.12"
  }
 },
 "nbformat": 4,
 "nbformat_minor": 5
}
