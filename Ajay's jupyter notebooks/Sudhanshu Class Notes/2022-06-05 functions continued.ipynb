{
 "cells": [
  {
   "cell_type": "code",
   "execution_count": 3,
   "id": "fe7b800c",
   "metadata": {},
   "outputs": [],
   "source": [
    "def sumtwo(a,b):\n",
    "    '''function for adding two numbers or strings'''\n",
    "    return a+b"
   ]
  },
  {
   "cell_type": "code",
   "execution_count": 2,
   "id": "ec263a61",
   "metadata": {},
   "outputs": [
    {
     "data": {
      "text/plain": [
       "3"
      ]
     },
     "execution_count": 2,
     "metadata": {},
     "output_type": "execute_result"
    }
   ],
   "source": [
    "sumtwo(1,2)"
   ]
  },
  {
   "cell_type": "code",
   "execution_count": 4,
   "id": "c6e296de",
   "metadata": {},
   "outputs": [],
   "source": [
    "def sumany(*numbers):\n",
    "    sum = 0\n",
    "    for i in numbers:\n",
    "        sum = sum + i\n",
    "    return sum"
   ]
  },
  {
   "cell_type": "code",
   "execution_count": 6,
   "id": "9b6d657a",
   "metadata": {},
   "outputs": [
    {
     "data": {
      "text/plain": [
       "11963"
      ]
     },
     "execution_count": 6,
     "metadata": {},
     "output_type": "execute_result"
    }
   ],
   "source": [
    "sumany(123,234,234,543,456,4567,456,234,234,345,345,435,456,231,56,2345,345,324)"
   ]
  },
  {
   "cell_type": "code",
   "execution_count": 7,
   "id": "dc218165",
   "metadata": {},
   "outputs": [],
   "source": [
    "def dictfunc(**kwargs):\n",
    "    return kwargs"
   ]
  },
  {
   "cell_type": "code",
   "execution_count": 8,
   "id": "30b19f84",
   "metadata": {},
   "outputs": [
    {
     "data": {
      "text/plain": [
       "{'a': 1, 'b': 2, 'c': 3, 'd': 4, 'e': 5}"
      ]
     },
     "execution_count": 8,
     "metadata": {},
     "output_type": "execute_result"
    }
   ],
   "source": [
    "dictfunc(a=1,b=2,c=3,d=4,e=5)"
   ]
  },
  {
   "cell_type": "code",
   "execution_count": 9,
   "id": "03faf34e",
   "metadata": {},
   "outputs": [],
   "source": [
    "d = {'a': 1, 'b': 2, 'c': 3, 'd': 4, 'e': 5}"
   ]
  },
  {
   "cell_type": "code",
   "execution_count": 11,
   "id": "b2424297",
   "metadata": {},
   "outputs": [
    {
     "data": {
      "text/plain": [
       "{}"
      ]
     },
     "execution_count": 11,
     "metadata": {},
     "output_type": "execute_result"
    }
   ],
   "source": [
    "dictfunc()"
   ]
  },
  {
   "cell_type": "code",
   "execution_count": 12,
   "id": "20952241",
   "metadata": {},
   "outputs": [],
   "source": [
    "def dictfunc1(*m, **s):\n",
    "    return m, s"
   ]
  },
  {
   "cell_type": "code",
   "execution_count": 14,
   "id": "04d9af8a",
   "metadata": {},
   "outputs": [
    {
     "data": {
      "text/plain": [
       "((1, 2, 3, 4, 5), {'a': 1, 'b': 2, 'd': 3})"
      ]
     },
     "execution_count": 14,
     "metadata": {},
     "output_type": "execute_result"
    }
   ],
   "source": [
    "dictfunc1(1,2,3,4,5,a=1,b=2,d=3)"
   ]
  },
  {
   "cell_type": "code",
   "execution_count": 16,
   "id": "404c5f56",
   "metadata": {},
   "outputs": [
    {
     "data": {
      "text/plain": [
       "((1, 2, 3, 4, 5), {'a': 1, 'b': 2, 'd': 3, 'e': 5})"
      ]
     },
     "execution_count": 16,
     "metadata": {},
     "output_type": "execute_result"
    }
   ],
   "source": [
    "dictfunc1(1,2,3,4,5,a=1,b=2,d=3,e=5)"
   ]
  },
  {
   "cell_type": "code",
   "execution_count": 17,
   "id": "28cf83b3",
   "metadata": {},
   "outputs": [],
   "source": [
    "dict1 = {4:'d'}"
   ]
  },
  {
   "cell_type": "code",
   "execution_count": 18,
   "id": "8f239c68",
   "metadata": {},
   "outputs": [
    {
     "data": {
      "text/plain": [
       "{4: 'd'}"
      ]
     },
     "execution_count": 18,
     "metadata": {},
     "output_type": "execute_result"
    }
   ],
   "source": [
    "dict1"
   ]
  },
  {
   "cell_type": "code",
   "execution_count": 19,
   "id": "dd076e3f",
   "metadata": {},
   "outputs": [],
   "source": [
    "def test(*args):\n",
    "    summ = 0\n",
    "    for i in args:\n",
    "        if type(i) is int:\n",
    "            summ = summ + i\n",
    "    return summ"
   ]
  },
  {
   "cell_type": "code",
   "execution_count": 20,
   "id": "cd68f3d7",
   "metadata": {},
   "outputs": [
    {
     "data": {
      "text/plain": [
       "10614"
      ]
     },
     "execution_count": 20,
     "metadata": {},
     "output_type": "execute_result"
    }
   ],
   "source": [
    "test(12,4,5,67,67,23,7,345,7,3245,74,234,123,123,2345,3456,243,234)"
   ]
  },
  {
   "cell_type": "code",
   "execution_count": 21,
   "id": "c24c8090",
   "metadata": {},
   "outputs": [],
   "source": [
    "t = (1,2,3,4,5,6,76,8,9,0)"
   ]
  },
  {
   "cell_type": "code",
   "execution_count": 22,
   "id": "7b8ca596",
   "metadata": {},
   "outputs": [],
   "source": [
    "l = []\n",
    "for i in t:\n",
    "    l.append(i)"
   ]
  },
  {
   "cell_type": "code",
   "execution_count": 23,
   "id": "37c238d2",
   "metadata": {},
   "outputs": [
    {
     "data": {
      "text/plain": [
       "[1, 2, 3, 4, 5, 6, 76, 8, 9, 0]"
      ]
     },
     "execution_count": 23,
     "metadata": {},
     "output_type": "execute_result"
    }
   ],
   "source": [
    "l"
   ]
  },
  {
   "cell_type": "code",
   "execution_count": 24,
   "id": "36cf72b5",
   "metadata": {},
   "outputs": [
    {
     "data": {
      "text/plain": [
       "[1, 2, 3, 4, 5, 6, 76, 8, 9, 0]"
      ]
     },
     "execution_count": 24,
     "metadata": {},
     "output_type": "execute_result"
    }
   ],
   "source": [
    "[i for i in t]"
   ]
  },
  {
   "cell_type": "code",
   "execution_count": 25,
   "id": "b4beeb00",
   "metadata": {},
   "outputs": [],
   "source": [
    "s = 'sudh'"
   ]
  },
  {
   "cell_type": "code",
   "execution_count": 26,
   "id": "ba1ffe1f",
   "metadata": {},
   "outputs": [
    {
     "data": {
      "text/plain": [
       "['s', 'u', 'd', 'h']"
      ]
     },
     "execution_count": 26,
     "metadata": {},
     "output_type": "execute_result"
    }
   ],
   "source": [
    "[k for k in s]"
   ]
  },
  {
   "cell_type": "code",
   "execution_count": 27,
   "id": "29473d80",
   "metadata": {},
   "outputs": [
    {
     "data": {
      "text/plain": [
       "[1, 4, 9, 16, 25, 36, 49, 64, 81, 100]"
      ]
     },
     "execution_count": 27,
     "metadata": {},
     "output_type": "execute_result"
    }
   ],
   "source": [
    "[i*i for i in range(1,11)]"
   ]
  },
  {
   "cell_type": "code",
   "execution_count": 28,
   "id": "c69c4800",
   "metadata": {},
   "outputs": [],
   "source": [
    "b = lambda *x : [i**2 for i in x]"
   ]
  },
  {
   "cell_type": "code",
   "execution_count": 30,
   "id": "8d2494d8",
   "metadata": {},
   "outputs": [
    {
     "data": {
      "text/plain": [
       "[4]"
      ]
     },
     "execution_count": 30,
     "metadata": {},
     "output_type": "execute_result"
    }
   ],
   "source": [
    "b(2)"
   ]
  },
  {
   "cell_type": "code",
   "execution_count": 52,
   "id": "b66f0eb8",
   "metadata": {},
   "outputs": [],
   "source": [
    "def test2(**kwargs):\n",
    "    l = []\n",
    "    for k,v in kwargs.items():\n",
    "            if type(v) is str:\n",
    "                l.append(v)\n",
    "    return l"
   ]
  },
  {
   "cell_type": "code",
   "execution_count": 42,
   "id": "c2f89ae6",
   "metadata": {},
   "outputs": [],
   "source": [
    "d = {'a': 1, 'b': 2, 'c': 3, 'd': 4, 'e': 5, 'f':'g'}"
   ]
  },
  {
   "cell_type": "code",
   "execution_count": 45,
   "id": "83ef8ee7",
   "metadata": {},
   "outputs": [
    {
     "data": {
      "text/plain": [
       "[]"
      ]
     },
     "execution_count": 45,
     "metadata": {},
     "output_type": "execute_result"
    }
   ],
   "source": [
    "test2(a=1,b=2,c=3,d=4,e=5)"
   ]
  },
  {
   "cell_type": "code",
   "execution_count": 35,
   "id": "f84ba123",
   "metadata": {},
   "outputs": [],
   "source": [
    "def dictfunc(**kwargs):\n",
    "    return kwargs"
   ]
  },
  {
   "cell_type": "code",
   "execution_count": 36,
   "id": "9cab5bdb",
   "metadata": {},
   "outputs": [
    {
     "data": {
      "text/plain": [
       "{'a': 1, 'b': 2, 'c': 3, 'd': 4, 'e': 5}"
      ]
     },
     "execution_count": 36,
     "metadata": {},
     "output_type": "execute_result"
    }
   ],
   "source": [
    "dictfunc(a=1,b=2,c=3,d=4,e=5)"
   ]
  },
  {
   "cell_type": "code",
   "execution_count": 53,
   "id": "5081a28f",
   "metadata": {},
   "outputs": [
    {
     "data": {
      "text/plain": [
       "['1', '2', '4']"
      ]
     },
     "execution_count": 53,
     "metadata": {},
     "output_type": "execute_result"
    }
   ],
   "source": [
    "test2(a='1',b='2',c=3,d='4',e=5)"
   ]
  },
  {
   "cell_type": "code",
   "execution_count": 54,
   "id": "2fd9cac4",
   "metadata": {},
   "outputs": [
    {
     "name": "stdout",
     "output_type": "stream",
     "text": [
      "('a', 1)\n",
      "('b', 2)\n",
      "('c', 3)\n",
      "('d', 4)\n",
      "('e', 5)\n",
      "('f', 'g')\n"
     ]
    }
   ],
   "source": [
    "for k in d.items():\n",
    "    print(k)"
   ]
  },
  {
   "cell_type": "code",
   "execution_count": 55,
   "id": "5d960d0d",
   "metadata": {},
   "outputs": [],
   "source": [
    "def test3(**kwargs):\n",
    "    return list(kwargs.values())"
   ]
  },
  {
   "cell_type": "code",
   "execution_count": 56,
   "id": "94a1223f",
   "metadata": {},
   "outputs": [
    {
     "data": {
      "text/plain": [
       "['1', '2', 3, '4', 5]"
      ]
     },
     "execution_count": 56,
     "metadata": {},
     "output_type": "execute_result"
    }
   ],
   "source": [
    "test3(a='1',b='2',c=3,d='4',e=5)"
   ]
  },
  {
   "cell_type": "code",
   "execution_count": null,
   "id": "d70bf19a",
   "metadata": {},
   "outputs": [],
   "source": []
  }
 ],
 "metadata": {
  "kernelspec": {
   "display_name": "Python 3 (ipykernel)",
   "language": "python",
   "name": "python3"
  },
  "language_info": {
   "codemirror_mode": {
    "name": "ipython",
    "version": 3
   },
   "file_extension": ".py",
   "mimetype": "text/x-python",
   "name": "python",
   "nbconvert_exporter": "python",
   "pygments_lexer": "ipython3",
   "version": "3.9.12"
  }
 },
 "nbformat": 4,
 "nbformat_minor": 5
}
