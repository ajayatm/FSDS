{
 "cells": [
  {
   "cell_type": "code",
   "execution_count": 9,
   "id": "a2f3a784",
   "metadata": {},
   "outputs": [
    {
     "name": "stdout",
     "output_type": "stream",
     "text": [
      "Value is not 10 but 11\n"
     ]
    }
   ],
   "source": [
    "a = 11\n",
    "if a==10:\n",
    "    print(\"Value is 10\")\n",
    "else:\n",
    "    print(\"Value is not 10 but\", a)"
   ]
  },
  {
   "cell_type": "code",
   "execution_count": 18,
   "id": "c8e1d5af",
   "metadata": {},
   "outputs": [
    {
     "name": "stdout",
     "output_type": "stream",
     "text": [
      "Input a string: asd\n",
      "Input is numeric\n"
     ]
    }
   ],
   "source": [
    "inp = input(\"Input a number: \")\n",
    "if inp.isdigit\n",
    "    print(\"Input is numeric\")\n",
    "elif inp.isalpha:\n",
    "    print(\"Input is alphabetic\")\n",
    "elif inp.isalnum:\n",
    "    print(\"Input is alphanumeric\")\n",
    "else:\n",
    "    print(\"Input is non-alpha numeric\")"
   ]
  },
  {
   "cell_type": "code",
   "execution_count": 11,
   "id": "d6738222",
   "metadata": {},
   "outputs": [
    {
     "data": {
      "text/plain": [
       "str"
      ]
     },
     "execution_count": 11,
     "metadata": {},
     "output_type": "execute_result"
    }
   ],
   "source": [
    "type(inp)"
   ]
  },
  {
   "cell_type": "code",
   "execution_count": 21,
   "id": "19e5abaf",
   "metadata": {},
   "outputs": [
    {
     "data": {
      "text/plain": [
       "False"
      ]
     },
     "execution_count": 21,
     "metadata": {},
     "output_type": "execute_result"
    }
   ],
   "source": [
    "s = '3.14'\n",
    "s.isnumeric()"
   ]
  },
  {
   "cell_type": "code",
   "execution_count": 27,
   "id": "65afbb60",
   "metadata": {},
   "outputs": [
    {
     "name": "stdout",
     "output_type": "stream",
     "text": [
      "jacket\n"
     ]
    }
   ],
   "source": [
    "price = 500\n",
    "if price > 500:\n",
    "    print(\"no jacket\")\n",
    "elif price < 500:\n",
    "    print(\"jacket\")\n",
    "else:\n",
    "    print(\"jacket\")"
   ]
  },
  {
   "cell_type": "code",
   "execution_count": 59,
   "id": "b347288a",
   "metadata": {},
   "outputs": [
    {
     "name": "stdout",
     "output_type": "stream",
     "text": [
      "2 and 3 are present\n"
     ]
    }
   ],
   "source": [
    "l = [1,2,3,4,5,6,7]\n",
    "if 2 in l and 3 in l:\n",
    "    print(\"2 and 3 are present\")"
   ]
  },
  {
   "cell_type": "code",
   "execution_count": 54,
   "id": "3e3ef59e",
   "metadata": {},
   "outputs": [],
   "source": [
    "def pricecheck(price):\n",
    "    if (price.isnumeric() or price.isdecimal()) :\n",
    "        if float(price) > 500:\n",
    "            return(\"price greater than 500\")\n",
    "        else:\n",
    "            return(\"price lesser than or equal to 500\")"
   ]
  },
  {
   "cell_type": "code",
   "execution_count": 57,
   "id": "b7031af9",
   "metadata": {},
   "outputs": [
    {
     "name": "stdout",
     "output_type": "stream",
     "text": [
      "Please enter price: 687.21\n"
     ]
    }
   ],
   "source": [
    "Input = input(\"Please enter price: \")\n",
    "pricecheck(Input)"
   ]
  },
  {
   "cell_type": "code",
   "execution_count": 58,
   "id": "27a90f5f",
   "metadata": {},
   "outputs": [
    {
     "data": {
      "text/plain": [
       "False"
      ]
     },
     "execution_count": 58,
     "metadata": {},
     "output_type": "execute_result"
    }
   ],
   "source": [
    "v = '3.14'\n",
    "v.isdecimal()"
   ]
  },
  {
   "cell_type": "code",
   "execution_count": 61,
   "id": "61ded44b",
   "metadata": {},
   "outputs": [
    {
     "name": "stdout",
     "output_type": "stream",
     "text": [
      "correct\n"
     ]
    }
   ],
   "source": [
    "d = {1:'a', 2:'b', 3:'c'}\n",
    "if d[1] == 'a' and d[2] == 'b':\n",
    "    print(\"correct\")"
   ]
  },
  {
   "cell_type": "code",
   "execution_count": 63,
   "id": "5abfca5e",
   "metadata": {},
   "outputs": [
    {
     "data": {
      "text/plain": [
       "dict_items([(1, 'a'), (2, 'b'), (3, 'c')])"
      ]
     },
     "execution_count": 63,
     "metadata": {},
     "output_type": "execute_result"
    }
   ],
   "source": [
    "d.items()"
   ]
  },
  {
   "cell_type": "code",
   "execution_count": 64,
   "id": "d69cd7f1",
   "metadata": {},
   "outputs": [
    {
     "name": "stdout",
     "output_type": "stream",
     "text": [
      "dict_items([(1, 'a'), (2, 'b'), (3, 'c')])\n"
     ]
    }
   ],
   "source": [
    "print(d.items())"
   ]
  },
  {
   "cell_type": "code",
   "execution_count": 65,
   "id": "41cdadce",
   "metadata": {},
   "outputs": [],
   "source": [
    "l=[1,2,3,4,5,6,7,8,9,0]"
   ]
  },
  {
   "cell_type": "code",
   "execution_count": 68,
   "id": "b74b87ef",
   "metadata": {},
   "outputs": [
    {
     "name": "stdout",
     "output_type": "stream",
     "text": [
      "100\n",
      "200\n",
      "300\n",
      "400\n",
      "500\n"
     ]
    }
   ],
   "source": [
    "for i in l[:5]:\n",
    "    print(i*100)"
   ]
  },
  {
   "cell_type": "code",
   "execution_count": 1,
   "id": "4fb51ecb",
   "metadata": {},
   "outputs": [],
   "source": [
    "s ='ajay'"
   ]
  },
  {
   "cell_type": "code",
   "execution_count": 7,
   "id": "0934e59e",
   "metadata": {},
   "outputs": [
    {
     "data": {
      "text/plain": [
       "'55555555555555'"
      ]
     },
     "execution_count": 7,
     "metadata": {},
     "output_type": "execute_result"
    }
   ],
   "source": [
    "s.replace('ajay','55555555555555')"
   ]
  },
  {
   "cell_type": "code",
   "execution_count": null,
   "id": "bc74e283",
   "metadata": {},
   "outputs": [],
   "source": []
  }
 ],
 "metadata": {
  "kernelspec": {
   "display_name": "Python 3 (ipykernel)",
   "language": "python",
   "name": "python3"
  },
  "language_info": {
   "codemirror_mode": {
    "name": "ipython",
    "version": 3
   },
   "file_extension": ".py",
   "mimetype": "text/x-python",
   "name": "python",
   "nbconvert_exporter": "python",
   "pygments_lexer": "ipython3",
   "version": "3.9.12"
  }
 },
 "nbformat": 4,
 "nbformat_minor": 5
}
