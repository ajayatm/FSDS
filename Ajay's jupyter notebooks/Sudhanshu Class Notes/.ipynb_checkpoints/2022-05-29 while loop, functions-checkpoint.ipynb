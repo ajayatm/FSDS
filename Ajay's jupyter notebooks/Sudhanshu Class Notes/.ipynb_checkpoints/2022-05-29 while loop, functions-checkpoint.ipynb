{
 "cells": [
  {
   "cell_type": "code",
   "execution_count": 2,
   "id": "2611fc84",
   "metadata": {},
   "outputs": [
    {
     "name": "stdout",
     "output_type": "stream",
     "text": [
      "0\n",
      "1\n",
      "2\n",
      "3\n",
      "4\n",
      "5\n",
      "6\n",
      "7\n",
      "8\n",
      "9\n"
     ]
    }
   ],
   "source": [
    "a = 1\n",
    "b = 10\n",
    "\n",
    "for i in range(10):\n",
    "    print(i)"
   ]
  },
  {
   "cell_type": "code",
   "execution_count": 3,
   "id": "77eeacd7",
   "metadata": {},
   "outputs": [
    {
     "name": "stdout",
     "output_type": "stream",
     "text": [
      "1\n",
      "2\n",
      "3\n",
      "4\n",
      "5\n",
      "6\n",
      "7\n",
      "8\n",
      "9\n",
      "10\n",
      "while is over 11\n"
     ]
    }
   ],
   "source": [
    "while a <= b:\n",
    "    print(a)\n",
    "    a+=1\n",
    "else:\n",
    "    print('while is over', a)"
   ]
  },
  {
   "cell_type": "code",
   "execution_count": 4,
   "id": "e066bbbf",
   "metadata": {},
   "outputs": [
    {
     "name": "stdout",
     "output_type": "stream",
     "text": [
      "1\n",
      "2\n",
      "3\n",
      "4\n",
      "5\n"
     ]
    }
   ],
   "source": [
    "a = 1\n",
    "b = 10\n",
    "\n",
    "while a <= b:\n",
    "    print(a)\n",
    "    if a == 5:\n",
    "        break\n",
    "    a = a + 1\n",
    "else:\n",
    "    print('over', a)"
   ]
  },
  {
   "cell_type": "code",
   "execution_count": 6,
   "id": "048c2ce8",
   "metadata": {},
   "outputs": [
    {
     "name": "stdout",
     "output_type": "stream",
     "text": [
      "7\n",
      "8\n"
     ]
    }
   ],
   "source": [
    "t = (1,2,3,4,5,6,7,8,9,0)\n",
    "\n",
    "i = 0\n",
    "while i < len(t):\n",
    "    i+=1\n",
    "    if i > 5 and i < 8:\n",
    "        print(t[i])\n"
   ]
  },
  {
   "cell_type": "code",
   "execution_count": 13,
   "id": "48973ea8",
   "metadata": {},
   "outputs": [
    {
     "name": "stdout",
     "output_type": "stream",
     "text": [
      "-1 0\n",
      "-2 9\n",
      "-3 8\n",
      "-4 7\n",
      "-5 6\n",
      "-6 5\n",
      "-7 4\n",
      "-8 3\n",
      "-9 2\n",
      "-10 1\n"
     ]
    }
   ],
   "source": [
    "i = -1\n",
    "while -i <= len(t):\n",
    "    print(i, t[i])\n",
    "    i-=1"
   ]
  },
  {
   "cell_type": "code",
   "execution_count": 26,
   "id": "3d345901",
   "metadata": {},
   "outputs": [
    {
     "name": "stdout",
     "output_type": "stream",
     "text": [
      "a\n",
      "b\n",
      "c\n",
      "d\n"
     ]
    }
   ],
   "source": [
    "d = {1:'a', 2:'b', 3:'c', 4:'d'}\n",
    "i = 0\n",
    "a = list(d.keys())\n",
    "    \n",
    "while i < len(d):\n",
    "    print(d[a[i]])\n",
    "    i+=1"
   ]
  },
  {
   "cell_type": "code",
   "execution_count": 18,
   "id": "12a900a0",
   "metadata": {},
   "outputs": [
    {
     "data": {
      "text/plain": [
       "dict_keys([1, 2, 3, 4])"
      ]
     },
     "execution_count": 18,
     "metadata": {},
     "output_type": "execute_result"
    }
   ],
   "source": [
    "d.keys()"
   ]
  },
  {
   "cell_type": "code",
   "execution_count": 21,
   "id": "15c6f40e",
   "metadata": {},
   "outputs": [
    {
     "data": {
      "text/plain": [
       "'a'"
      ]
     },
     "execution_count": 21,
     "metadata": {},
     "output_type": "execute_result"
    }
   ],
   "source": [
    "d[1]"
   ]
  },
  {
   "cell_type": "code",
   "execution_count": 23,
   "id": "59fe0877",
   "metadata": {},
   "outputs": [
    {
     "name": "stdout",
     "output_type": "stream",
     "text": [
      "1\n",
      "2\n",
      "3\n",
      "4\n"
     ]
    }
   ],
   "source": [
    "k = d.keys()\n",
    "for i in k:\n",
    "    print(i)"
   ]
  },
  {
   "cell_type": "code",
   "execution_count": 27,
   "id": "afb17055",
   "metadata": {},
   "outputs": [],
   "source": [
    "def test():\n",
    "    return(\"this is my first function\")"
   ]
  },
  {
   "cell_type": "code",
   "execution_count": 28,
   "id": "d5fff525",
   "metadata": {},
   "outputs": [
    {
     "data": {
      "text/plain": [
       "'this is my first function'"
      ]
     },
     "execution_count": 28,
     "metadata": {},
     "output_type": "execute_result"
    }
   ],
   "source": [
    "test()"
   ]
  },
  {
   "cell_type": "code",
   "execution_count": 29,
   "id": "3794fd53",
   "metadata": {},
   "outputs": [
    {
     "data": {
      "text/plain": [
       "str"
      ]
     },
     "execution_count": 29,
     "metadata": {},
     "output_type": "execute_result"
    }
   ],
   "source": [
    "type(test())"
   ]
  },
  {
   "cell_type": "code",
   "execution_count": 30,
   "id": "3c25a0a8",
   "metadata": {},
   "outputs": [
    {
     "data": {
      "text/plain": [
       "'this is my first functionajay'"
      ]
     },
     "execution_count": 30,
     "metadata": {},
     "output_type": "execute_result"
    }
   ],
   "source": [
    "test() + 'ajay'"
   ]
  },
  {
   "cell_type": "code",
   "execution_count": 31,
   "id": "7eed5f34",
   "metadata": {},
   "outputs": [],
   "source": [
    "def test1():\n",
    "    pass"
   ]
  },
  {
   "cell_type": "code",
   "execution_count": 32,
   "id": "c48a6c9b",
   "metadata": {},
   "outputs": [
    {
     "data": {
      "text/plain": [
       "NoneType"
      ]
     },
     "execution_count": 32,
     "metadata": {},
     "output_type": "execute_result"
    }
   ],
   "source": [
    "type(test1())"
   ]
  },
  {
   "cell_type": "code",
   "execution_count": 33,
   "id": "b51e5b6a",
   "metadata": {},
   "outputs": [],
   "source": [
    "l = [1,2,3,4,5,6,7,8,9,0]\n",
    "def even(l):\n",
    "    le = []\n",
    "    for i in l:\n",
    "        if type(i) == int:\n",
    "            if i%2 == 0:\n",
    "                le.append(i)\n",
    "    return(le)\n",
    "    "
   ]
  },
  {
   "cell_type": "code",
   "execution_count": 34,
   "id": "433156cc",
   "metadata": {},
   "outputs": [
    {
     "data": {
      "text/plain": [
       "[2, 4, 6, 8, 0]"
      ]
     },
     "execution_count": 34,
     "metadata": {},
     "output_type": "execute_result"
    }
   ],
   "source": [
    "even(l)"
   ]
  },
  {
   "cell_type": "code",
   "execution_count": null,
   "id": "8f3ff1ed",
   "metadata": {},
   "outputs": [],
   "source": []
  }
 ],
 "metadata": {
  "kernelspec": {
   "display_name": "Python 3 (ipykernel)",
   "language": "python",
   "name": "python3"
  },
  "language_info": {
   "codemirror_mode": {
    "name": "ipython",
    "version": 3
   },
   "file_extension": ".py",
   "mimetype": "text/x-python",
   "name": "python",
   "nbconvert_exporter": "python",
   "pygments_lexer": "ipython3",
   "version": "3.9.12"
  }
 },
 "nbformat": 4,
 "nbformat_minor": 5
}
